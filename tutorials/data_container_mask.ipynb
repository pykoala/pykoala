{
 "cells": [
  {
   "cell_type": "code",
   "execution_count": null,
   "metadata": {},
   "outputs": [],
   "source": [
    "%load_ext autoreload\n",
    "%autoreload 2"
   ]
  },
  {
   "cell_type": "code",
   "execution_count": null,
   "metadata": {},
   "outputs": [],
   "source": [
    "from pykoala.data_container import DataMask\n",
    "from matplotlib import pyplot as plt"
   ]
  },
  {
   "cell_type": "code",
   "execution_count": null,
   "metadata": {},
   "outputs": [],
   "source": [
    "data_mask = DataMask(shape=(2000, 100, 100),\n",
    "                     flag_map={\"CR\": (2, \"Cosmic ray\"), \"HP\": (4, \"Hot pixel\")})"
   ]
  },
  {
   "cell_type": "code",
   "execution_count": null,
   "metadata": {},
   "outputs": [],
   "source": [
    "import numpy as np\n",
    "\n",
    "# Flag pixels as cosmic rays\n",
    "hp = np.zeros_like(data_mask.bitmask, dtype=bool)\n",
    "hp[::3, ::3] = True\n",
    "\n",
    "# Flag pixels as hot pixels\n",
    "dp = np.zeros_like(data_mask.bitmask, dtype=bool)\n",
    "dp[:, ::3, ::3] = True\n",
    "\n",
    "data_mask.flag_pixels(mask=hp, flag_name='CR')\n",
    "data_mask.flag_pixels(mask=dp, flag_name='HP')\n",
    "\n",
    "hp_mask = data_mask.get_flag_map('HP')"
   ]
  },
  {
   "cell_type": "code",
   "execution_count": null,
   "metadata": {},
   "outputs": [],
   "source": [
    "hdu = data_mask.dump_to_hdu()\n",
    "hdu.header"
   ]
  },
  {
   "cell_type": "code",
   "execution_count": null,
   "metadata": {},
   "outputs": [],
   "source": [
    "plt.figure(figsize=(12, 4), constrained_layout=True)\n",
    "plt.subplot(131)\n",
    "plt.imshow(data_mask.get_flag_map('CR')[0], interpolation='none', aspect='auto')\n",
    "plt.colorbar(label='Cosmic Rays')\n",
    "plt.subplot(132)\n",
    "plt.imshow(data_mask.get_flag_map('HP')[0], interpolation='none', aspect='auto')\n",
    "plt.colorbar(label='Hot pixels')\n",
    "plt.subplot(133)\n",
    "plt.imshow(data_mask.bitmask[0], interpolation='none', aspect='auto')\n",
    "plt.colorbar(label='Bit mask flag')\n"
   ]
  }
 ],
 "metadata": {
  "kernelspec": {
   "display_name": "base",
   "language": "python",
   "name": "python3"
  },
  "language_info": {
   "codemirror_mode": {
    "name": "ipython",
    "version": 3
   },
   "file_extension": ".py",
   "mimetype": "text/x-python",
   "name": "python",
   "nbconvert_exporter": "python",
   "pygments_lexer": "ipython3",
   "version": "3.11.5"
  }
 },
 "nbformat": 4,
 "nbformat_minor": 2
}
