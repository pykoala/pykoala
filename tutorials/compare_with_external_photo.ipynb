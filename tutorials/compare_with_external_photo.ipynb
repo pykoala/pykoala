{
 "cells": [
  {
   "cell_type": "markdown",
   "metadata": {},
   "source": [
    "# Ancillary external photometry\n",
    "\n",
    "This tutorial shows how to use external photometric data to perform astrometry calibrations on a Cube"
   ]
  },
  {
   "cell_type": "code",
   "execution_count": null,
   "metadata": {},
   "outputs": [],
   "source": [
    "%load_ext autoreload\n",
    "%autoreload 2"
   ]
  },
  {
   "cell_type": "code",
   "execution_count": null,
   "metadata": {},
   "outputs": [],
   "source": [
    "from pykoala.data_container import Cube\n",
    "\n",
    "cube = Cube.from_fits(\"products/Henize_2-10_cube_no_sky.fits.gz\",\n",
    "                        hdul_extensions_map={\"INTENSITY\": \"INTENSITY\", \"VARIANCE\": \"VARIANCE\"})\n",
    "\n",
    "# Read the sky position and cube pixel size from the header\n",
    "he2_10_ra, he2_10_dec = cube.wcs.celestial.wcs.crval[:2]\n",
    "cube_pix_area = (cube.wcs.celestial.wcs.cdelt[0] * 3600)**2\n",
    "print(f\"Cube position: RA={he2_10_ra}, DEC={he2_10_dec}\")\n",
    "print(\"Cube pixel area (arcsec^2) \", cube_pix_area)"
   ]
  },
  {
   "cell_type": "code",
   "execution_count": null,
   "metadata": {},
   "outputs": [],
   "source": [
    "from pykoala.photometry import query_image, PSQuery\n",
    "from astropy import units as u\n",
    "# Query r-band photometry from PS using a cutout with the size of the input cube\n",
    "# + 30 additional arcseconds on every side. Save the fits in the current working directory\n",
    "image_query_results = query_image(\n",
    "    [cube], filters='i', im_extra_size_arcsec=30 * u.arcsec, im_output_dir='.')\n",
    "\n",
    "# Alternatively, you can reload the image by doing:\n",
    "# ps_filename = \"ps_query_129.0629_n26.4126_i.fits\"\n",
    "# image_query_results = {\"PS1.i\": {}}\n",
    "# image_query_results[\"PS1.i\"][\"ccd\"] = PSQuery.read_ps_fits(ps_filename)\n",
    "# image_query_results[\"PS1.i\"][\"pix_size\"] = PSQuery.pixelsize_arcsec"
   ]
  },
  {
   "cell_type": "code",
   "execution_count": null,
   "metadata": {},
   "outputs": [],
   "source": [
    "from pykoala.corrections.astrometry import AstrometryOffsetCorrection\n",
    "\n",
    "astrometric_correction, results = AstrometryOffsetCorrection.from_external_image(\n",
    "    cube, image_query_results[\"PS1.i\"], filter_name=\"PANSTARRS_PS1.i\")\n"
   ]
  },
  {
   "cell_type": "code",
   "execution_count": null,
   "metadata": {},
   "outputs": [],
   "source": [
    "results[\"offset_fig\"]"
   ]
  },
  {
   "cell_type": "code",
   "execution_count": null,
   "metadata": {},
   "outputs": [],
   "source": [
    "cube = astrometric_correction.apply(cube)\n",
    "# Save the final version of the cube\n",
    "cube.to_fits(\"products/Henize_2-10_cube_astrometry.fits.gz\")"
   ]
  }
 ],
 "metadata": {
  "kernelspec": {
   "display_name": "base",
   "language": "python",
   "name": "python3"
  },
  "language_info": {
   "codemirror_mode": {
    "name": "ipython",
    "version": 3
   },
   "file_extension": ".py",
   "mimetype": "text/x-python",
   "name": "python",
   "nbconvert_exporter": "python",
   "pygments_lexer": "ipython3",
   "version": "3.11.5"
  }
 },
 "nbformat": 4,
 "nbformat_minor": 2
}
