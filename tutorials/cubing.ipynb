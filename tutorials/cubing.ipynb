{
 "cells": [
  {
   "cell_type": "markdown",
   "id": "0293e361",
   "metadata": {},
   "source": [
    "# Cubing steps with PyKOALA\n",
    "\n",
    "This tutorial is currently used for testing purposes."
   ]
  },
  {
   "cell_type": "code",
   "execution_count": null,
   "id": "1f5234e2",
   "metadata": {},
   "outputs": [],
   "source": [
    "from matplotlib import pyplot as plt\n",
    "import numpy as np\n",
    "from astropy import units as u\n",
    "import os\n",
    "from pykoala import __version__\n",
    "import warnings\n",
    "\n",
    "# You may want to comment the following line\n",
    "warnings.filterwarnings(\"ignore\")\n",
    "\n",
    "from pykoala.instruments.koala_ifu import koala_rss\n",
    "from pykoala.cubing import CubeInterpolator, build_wcs\n",
    "# pyKOALA version\n",
    "print(\"pyKOALA version: \", __version__)"
   ]
  },
  {
   "cell_type": "markdown",
   "id": "290b7c49",
   "metadata": {},
   "source": [
    "## Load the data"
   ]
  },
  {
   "cell_type": "code",
   "execution_count": null,
   "id": "dc1a2868",
   "metadata": {},
   "outputs": [],
   "source": [
    "# List of RSS objects\n",
    "std_star_rss = []\n",
    "aaomega_arms = {'blue': 1, 'red': 2}\n",
    "# Choose which arm of the spectrograph is going to be used\n",
    "arm = 'red'\n",
    "path_to_data = 'data'\n",
    "\n",
    "for i in [28, 29, 30]:\n",
    "    filename = f\"{path_to_data}/27feb{aaomega_arms[arm]}00{i}red.fits\"\n",
    "    rss = koala_rss(filename)\n",
    "    std_star_rss.append(rss)\n",
    "\n",
    "star_name = rss.info['name'].split(' ')[0]\n",
    "print(\"Star name: \", star_name)"
   ]
  },
  {
   "cell_type": "code",
   "execution_count": null,
   "id": "375eca57",
   "metadata": {},
   "outputs": [],
   "source": [
    "from pykoala.corrections.astrometry import AstrometryCorrection\n",
    "from pykoala.corrections.astrometry import register_dataset_centroids, register_dataset_crosscorr\n",
    "\n",
    "astrom_corr = AstrometryCorrection()\n",
    "\n",
    "offsets, fig = register_dataset_centroids(std_star_rss, object_name=star_name,\n",
    "                                          qc_plot=True, centroider='gauss')"
   ]
  },
  {
   "cell_type": "code",
   "execution_count": null,
   "id": "8a6f0097",
   "metadata": {},
   "outputs": [],
   "source": [
    "fig"
   ]
  },
  {
   "cell_type": "code",
   "execution_count": null,
   "id": "9d8626bd",
   "metadata": {},
   "outputs": [],
   "source": [
    "# for rss, offset in zip(std_star_rss, offsets):\n",
    "#     astrom_corr.apply(rss, offset=offset)\n",
    "\n",
    "# # Check that the corrections has been logged\n",
    "# print(rss.history)"
   ]
  },
  {
   "cell_type": "code",
   "execution_count": null,
   "id": "f49338b2",
   "metadata": {},
   "outputs": [],
   "source": [
    "offsets, fig = register_dataset_crosscorr(std_star_rss, qc_plot=True)"
   ]
  },
  {
   "cell_type": "code",
   "execution_count": null,
   "id": "263d4e69",
   "metadata": {},
   "outputs": [],
   "source": [
    "fig"
   ]
  },
  {
   "cell_type": "markdown",
   "id": "42236fb4",
   "metadata": {},
   "source": [
    "For interpolating RSS data into a 3D datacube we will make use of the function *build_cube*. This method requires as input:\n",
    "- A list of RSS objects. \n",
    "- The desired dimensions of the cube expressed as a 2-element tuple, corresponding to (ra, dec) in arcseconds.\n",
    "- The pixel size of the cube in arcseconds.\n",
    "- A list containing the ADR correction for every RSS (it can contain None) in the form: [(ADR_ra_1, ADR_dec_1), (ADR_ra_2, ADR_dec_2), (None, None)].\n",
    "- Additional information to be included in *cube_info*"
   ]
  },
  {
   "cell_type": "code",
   "execution_count": null,
   "id": "7bf14eda",
   "metadata": {},
   "outputs": [],
   "source": [
    "datacube_shape = (std_star_rss[0].wavelength.size, 40, 60)\n",
    "ref_position = (std_star_rss[0].wavelength[0], np.mean(std_star_rss[0].info['fib_ra']), np.mean(std_star_rss[0].info['fib_dec']))  # (deg, deg)\n",
    "spatial_pixel_size = 1.0 << u.arcsec\n",
    "spectral_pixel_size = std_star_rss[0].wavelength[1] - std_star_rss[0].wavelength[0]  # (angstrom)\n",
    "\n",
    "print(f\"Creating a WCS with\\n position: {ref_position}\\n Spatial pixel size: {spatial_pixel_size}\\n Spectral pixel size: {spectral_pixel_size}\")\n",
    "\n",
    "wcs = build_wcs(datacube_shape=datacube_shape,\n",
    "                reference_position=ref_position,\n",
    "                spatial_pix_size=spatial_pixel_size,\n",
    "                spectra_pix_size=spectral_pixel_size,\n",
    "            )"
   ]
  },
  {
   "cell_type": "code",
   "execution_count": null,
   "id": "e089ab8a",
   "metadata": {
    "scrolled": true
   },
   "outputs": [],
   "source": [
    "interpolator = CubeInterpolator(rss_set=std_star_rss, wcs=wcs, kernel_scale=1.0)\n",
    "cube = interpolator.build_cube()\n",
    "white_image = np.nanmean(cube.intensity, axis=0)"
   ]
  },
  {
   "cell_type": "code",
   "execution_count": null,
   "id": "405359e9",
   "metadata": {},
   "outputs": [],
   "source": [
    "from pykoala.corrections.astrometry import find_centroid_in_dc\n",
    "\n",
    "pos_com = find_centroid_in_dc(cube, centroider='com', com_power=1.)\n",
    "pos_com_3 = find_centroid_in_dc(cube, centroider='com', com_power=3.)\n",
    "pos_gauss = find_centroid_in_dc(cube, centroider='gauss')"
   ]
  },
  {
   "cell_type": "code",
   "execution_count": null,
   "id": "2f28de56",
   "metadata": {},
   "outputs": [],
   "source": [
    "fig = plt.figure()\n",
    "ax = fig.add_subplot(111, projection=cube.wcs.celestial)\n",
    "ax.imshow(np.log10(white_image.value))\n",
    "ax.scatter(pos_com.ra, pos_com.dec, marker='*', ec='r', transform=ax.get_transform('world'))\n",
    "ax.scatter(pos_com_3.ra, pos_com_3.dec, marker='*', ec='lime', transform=ax.get_transform('world'))\n",
    "ax.scatter(pos_gauss.ra, pos_gauss.dec, marker='+', ec='k', transform=ax.get_transform('world'))\n"
   ]
  }
 ],
 "metadata": {
  "kernelspec": {
   "display_name": "pykoala",
   "language": "python",
   "name": "python3"
  },
  "language_info": {
   "codemirror_mode": {
    "name": "ipython",
    "version": 3
   },
   "file_extension": ".py",
   "mimetype": "text/x-python",
   "name": "python",
   "nbconvert_exporter": "python",
   "pygments_lexer": "ipython3",
   "version": "3.13.0"
  }
 },
 "nbformat": 4,
 "nbformat_minor": 5
}
