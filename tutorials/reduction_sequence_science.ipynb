{
 "cells": [
  {
   "cell_type": "markdown",
   "id": "0293e361",
   "metadata": {},
   "source": [
    "# PyKOALA Data Reduction Sequence (Science data)"
   ]
  },
  {
   "cell_type": "code",
   "execution_count": null,
   "id": "a49db6ba",
   "metadata": {},
   "outputs": [],
   "source": [
    "%load_ext autoreload\n",
    "%autoreload 2"
   ]
  },
  {
   "cell_type": "code",
   "execution_count": null,
   "id": "1f5234e2",
   "metadata": {},
   "outputs": [],
   "source": [
    "from matplotlib import pyplot as plt\n",
    "import numpy as np\n",
    "import os\n",
    "from astropy import units as u\n",
    "from pykoala import __version__\n",
    "import warnings\n",
    "\n",
    "# You may want to comment the following line\n",
    "warnings.filterwarnings(\"ignore\")\n",
    "\n",
    "# pyKOALA version\n",
    "print(\"pyKOALA version: \", __version__)"
   ]
  },
  {
   "cell_type": "code",
   "execution_count": null,
   "id": "9fff4737",
   "metadata": {},
   "outputs": [],
   "source": [
    "from pykoala.instruments.koala_ifu import koala_rss\n",
    "from pykoala.corrections.atmospheric_corrections import AtmosphericExtCorrection, ADRCorrection\n",
    "from pykoala.corrections.throughput import Throughput, ThroughputCorrection\n",
    "from pykoala.cubing import CubeInterpolator, build_wcs\n",
    "from pykoala.plotting.utils import qc_cube\n",
    "\n",
    "atm_ext_corr = AtmosphericExtCorrection.from_text_file(\n",
    "    AtmosphericExtCorrection.default_extinction)"
   ]
  },
  {
   "cell_type": "markdown",
   "id": "84750d89",
   "metadata": {},
   "source": [
    "### Throughput correction"
   ]
  },
  {
   "cell_type": "code",
   "execution_count": null,
   "id": "1af7a769",
   "metadata": {},
   "outputs": [],
   "source": [
    "flat_rss = [koala_rss(\"data/combined_skyflat_red.fits\")]\n",
    "throughput_corr = ThroughputCorrection.from_rss(flat_rss, clear_nan=True, medfilt=10)"
   ]
  },
  {
   "cell_type": "markdown",
   "id": "680bd044",
   "metadata": {},
   "source": [
    "### Telluric correction\n",
    "\n",
    "We will use the correction function derived during the standard stars reduction sequence."
   ]
  },
  {
   "cell_type": "code",
   "execution_count": null,
   "id": "e1c98a55",
   "metadata": {},
   "outputs": [],
   "source": [
    "from pykoala.corrections.sky import TelluricCorrection\n",
    "\n",
    "telluric_corr = TelluricCorrection.from_text_file('products/telluric_correction_red.dat')"
   ]
  },
  {
   "cell_type": "markdown",
   "id": "290b7c49",
   "metadata": {},
   "source": [
    "## Load the science data"
   ]
  },
  {
   "cell_type": "code",
   "execution_count": null,
   "id": "dc1a2868",
   "metadata": {},
   "outputs": [],
   "source": [
    "sci_rss = []\n",
    "aaomega_arms = {'blue': 1, 'red': 2}\n",
    "# Choose which arm of the spectrograph is going to be used\n",
    "arm = 'blue'\n",
    "path_to_data = 'data'\n",
    "\n",
    "adr_set = []\n",
    "\n",
    "#for i in [31, 32, 33]:\n",
    "for i in [34, 35, 36]:\n",
    "    filename = f\"data/27feb200{i}red.fits\"\n",
    "    rss = koala_rss(filename)\n",
    "\n",
    "    rss = throughput_corr.apply(rss)\n",
    "    rss = atm_ext_corr.apply(rss)\n",
    "    rss = telluric_corr.apply(rss)\n",
    "    # Telluric\n",
    "    # Sky\n",
    "    adr = ADRCorrection(max_adr=0.5*u.arcsec,\n",
    "                        pol_deg=2, n_com_powers=4, clip_sigma=3.0)\n",
    "    adr.estimate(rss, plot=False)\n",
    "    rss = adr.apply(rss, copy=False)\n",
    "    adr_set.append([rss.info[\"adr_offsets\"][\"dra_arcsec\"],\n",
    "                    rss.info[\"adr_offsets\"][\"ddec_arcsec\"]])\n",
    "    sci_rss.append(rss)\n",
    "\n",
    "    rss.plot_rss_image(rss.snr, data_label=\"SNR/pixel\")"
   ]
  },
  {
   "cell_type": "markdown",
   "id": "48668475",
   "metadata": {},
   "source": [
    "## Astrometry Corrections and Registration\n",
    "\n",
    "### Image Cross-correlation\n",
    "\n",
    "The most sofisticated method to perform the registration of extended sources included in pyKOALA is based on the cross-correlation of two images.\n",
    "### Centroid finding\n",
    "\n",
    "A simple approach to find the offset between the different RSS is to find the center of light of the images (assuming that they contain the same sources)."
   ]
  },
  {
   "cell_type": "code",
   "execution_count": null,
   "id": "4918f80c",
   "metadata": {},
   "outputs": [],
   "source": [
    "from pykoala.corrections.astrometry import AstrometryCorrection\n",
    "\n",
    "astrom_corr = AstrometryCorrection()\n",
    "offsets, fig = astrom_corr.register_crosscorr(sci_rss, qc_plot=True)\n",
    "for offset in offsets:\n",
    "    print(\"Offset (ra, dec) in arcsec: \", offset[0].to('arcsec'), offset[1].to('arcsec'))"
   ]
  },
  {
   "cell_type": "code",
   "execution_count": null,
   "id": "7aed6ab5",
   "metadata": {},
   "outputs": [],
   "source": [
    "fig"
   ]
  },
  {
   "cell_type": "markdown",
   "id": "42236fb4",
   "metadata": {},
   "source": [
    "For interpolating RSS data into a 3D datacube we will make use of the function *build_cube*. This method requires as input:\n",
    "- A list of RSS objects. \n",
    "- The desired dimensions of the cube expressed as a 2-element tuple, corresponding to (ra, dec) in arcseconds.\n",
    "- The pixel size of the cube in arcseconds.\n",
    "- A list containing the ADR correction for every RSS (it can contain None) in the form: [(ADR_ra_1, ADR_dec_1), (ADR_ra_2, ADR_dec_2), (None, None)].\n",
    "- Additional information to be included in *cube_info*"
   ]
  },
  {
   "cell_type": "code",
   "execution_count": null,
   "id": "e089ab8a",
   "metadata": {
    "scrolled": true
   },
   "outputs": [],
   "source": [
    "datacube_shape = (sci_rss[0].wavelength.size, 40, 60)\n",
    "ref_position = (sci_rss[0].wavelength[0],\n",
    "                np.mean(sci_rss[0].info['fib_ra']),\n",
    "                np.mean(sci_rss[0].info['fib_dec']))  # (deg, deg)\n",
    "spatial_pixel_size = 1.0 * u.arcsec\n",
    "spectral_pixel_size = sci_rss[0].wavelength[1] - sci_rss[0].wavelength[0]  # (angstrom)\n",
    "\n",
    "print(f\"Creating a WCS with\\n position: {ref_position}\\n Spatial pixel size: {spatial_pixel_size}\\n Spectral pixel size: {spectral_pixel_size}\")\n",
    "\n",
    "wcs = build_wcs(datacube_shape=datacube_shape,\n",
    "                reference_position=ref_position,\n",
    "                spatial_pix_size=spatial_pixel_size,\n",
    "                spectra_pix_size=spectral_pixel_size,\n",
    "            )\n",
    "\n",
    "interpolator = CubeInterpolator(rss_set=sci_rss, wcs=wcs, adr_set=adr_set,\n",
    "                                kernel_scale=1.0,\n",
    "                                cube_info=dict(\n",
    "                                    name=rss.info['name'].split(' ')[0]))\n",
    "cube = interpolator.build_cube()\n"
   ]
  },
  {
   "cell_type": "markdown",
   "id": "0a2e1da3",
   "metadata": {},
   "source": [
    "## Sky substraction"
   ]
  },
  {
   "cell_type": "code",
   "execution_count": null,
   "id": "b2c32153",
   "metadata": {},
   "outputs": [],
   "source": [
    "import pykoala.corrections.sky as sky\n",
    "import importlib\n",
    "importlib.reload(sky)\n",
    "\n",
    "skymodel = sky.SkyFromObject(cube, bckgr_estimator='mad', source_mask_kappa_sigma=3, remove_cont=False)\n",
    "skycorrection = sky.SkySubsCorrection(skymodel)\n",
    "cube, _ = skycorrection.apply(cube)"
   ]
  },
  {
   "cell_type": "code",
   "execution_count": null,
   "id": "89a3a3e5",
   "metadata": {},
   "outputs": [],
   "source": [
    "qc_cube(cube)"
   ]
  },
  {
   "cell_type": "markdown",
   "id": "525d2585",
   "metadata": {},
   "source": [
    "## Absolute flux calibration"
   ]
  },
  {
   "cell_type": "code",
   "execution_count": null,
   "id": "f320e7fc",
   "metadata": {
    "scrolled": true
   },
   "outputs": [],
   "source": [
    "from pykoala.corrections.flux_calibration import FluxCalibration\n",
    "\n",
    "fcal = FluxCalibration.from_text_file('products/response_HILT600_transfer_function.dat')\n",
    "\n",
    "plt.figure()\n",
    "plt.plot(fcal.response_wavelength, fcal.response)\n",
    "plt.xlabel(\"Wavelength (AA)\")\n",
    "plt.ylabel(\"Response function (ADU/Flam)\")\n",
    "plt.show()\n",
    "\n",
    "cube = fcal.apply(cube)"
   ]
  },
  {
   "cell_type": "code",
   "execution_count": null,
   "id": "0d1d8fd6",
   "metadata": {},
   "outputs": [],
   "source": [
    "fig = qc_cube(cube)\n",
    "plt.show(plt.figure(fig))\n"
   ]
  },
  {
   "cell_type": "code",
   "execution_count": null,
   "id": "f6356f6e",
   "metadata": {},
   "outputs": [],
   "source": [
    "# Save the data cube\n",
    "cube.to_fits(\"products/Henize_2-10_cube_no_sky.fits.gz\", overwrite=True)"
   ]
  }
 ],
 "metadata": {
  "kernelspec": {
   "display_name": "base",
   "language": "python",
   "name": "python3"
  },
  "language_info": {
   "codemirror_mode": {
    "name": "ipython",
    "version": 3
   },
   "file_extension": ".py",
   "mimetype": "text/x-python",
   "name": "python",
   "nbconvert_exporter": "python",
   "pygments_lexer": "ipython3",
   "version": "3.11.5"
  }
 },
 "nbformat": 4,
 "nbformat_minor": 5
}
