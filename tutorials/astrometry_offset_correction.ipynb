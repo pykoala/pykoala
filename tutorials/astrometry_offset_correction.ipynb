{
 "cells": [
  {
   "cell_type": "markdown",
   "metadata": {},
   "source": [
    "# Ancillary external photometry\n",
    "\n",
    "This tutorial shows how to use external photometric data to perform astrometry calibrations on a Cube"
   ]
  },
  {
   "cell_type": "code",
   "execution_count": null,
   "metadata": {},
   "outputs": [],
   "source": [
    "%load_ext autoreload\n",
    "%autoreload 2"
   ]
  },
  {
   "cell_type": "code",
   "execution_count": null,
   "metadata": {},
   "outputs": [],
   "source": [
    "from matplotlib import pyplot as plt\n",
    "import numpy as np\n",
    "\n",
    "from pykoala.data_container import Cube\n",
    "from pykoala.instruments.koala_ifu import koala_rss\n",
    "\n",
    "rss = koala_rss(\"data/27feb20035red.fits\")\n",
    "rss.intensity /= rss.info[\"exptime\"]\n",
    "rss.variance /= rss.info[\"exptime\"]**2"
   ]
  },
  {
   "cell_type": "code",
   "execution_count": null,
   "metadata": {},
   "outputs": [],
   "source": [
    "from pykoala.corrections.flux_calibration import FluxCalibration\n",
    "\n",
    "fcal = FluxCalibration.from_text_file('products/response_HILT600_transfer_function.dat')\n",
    "\n",
    "rss = fcal.apply(rss)"
   ]
  },
  {
   "cell_type": "code",
   "execution_count": null,
   "metadata": {},
   "outputs": [],
   "source": [
    "plt.figure()\n",
    "plt.plot(rss.wavelength, rss.snr[500])"
   ]
  },
  {
   "cell_type": "code",
   "execution_count": null,
   "metadata": {},
   "outputs": [],
   "source": [
    "from pykoala.photometry import query_image, PSQuery\n",
    "\n",
    "# Query r-band photometry from PS using a cutout with the size of the input cube\n",
    "# + 30 additional arcseconds on every side. Save the fits in the current working directory\n",
    "# image_query_results = query_image([cube], filters='i', im_extra_size_arcsec=30, im_output_dir='.')\n",
    "\n",
    "image_query_results = {\"PS1.i\": {}}\n",
    "image_query_results[\"PS1.i\"][\"ccd\"] = PSQuery.read_ps_fits(\"ps_query_129.0629_n26.4126_i.fits\")\n",
    "image_query_results[\"PS1.i\"][\"pix_size\"] = PSQuery.pixelsize_arcsec"
   ]
  },
  {
   "cell_type": "markdown",
   "metadata": {},
   "source": []
  },
  {
   "cell_type": "code",
   "execution_count": null,
   "metadata": {},
   "outputs": [],
   "source": [
    "from pykoala.corrections.astrometry import AstrometryOffsetCorrection\n",
    "\n",
    "astrometric_correction, results = AstrometryOffsetCorrection.from_external_image(\n",
    "    rss, image_query_results[\"PS1.i\"], filter_name=\"PANSTARRS_PS1.i\")\n",
    "\n"
   ]
  },
  {
   "cell_type": "code",
   "execution_count": null,
   "metadata": {},
   "outputs": [],
   "source": [
    "results[\"offset_fig\"]"
   ]
  }
 ],
 "metadata": {
  "kernelspec": {
   "display_name": "base",
   "language": "python",
   "name": "python3"
  },
  "language_info": {
   "codemirror_mode": {
    "name": "ipython",
    "version": 3
   },
   "file_extension": ".py",
   "mimetype": "text/x-python",
   "name": "python",
   "nbconvert_exporter": "python",
   "pygments_lexer": "ipython3",
   "version": "3.11.5"
  }
 },
 "nbformat": 4,
 "nbformat_minor": 2
}
