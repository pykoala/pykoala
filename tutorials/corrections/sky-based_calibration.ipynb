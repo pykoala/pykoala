{
 "cells": [
  {
   "cell_type": "markdown",
   "id": "0293e361",
   "metadata": {},
   "source": [
    "# Corrections based on sky emission lines\n",
    "\n",
    "Compute relative offsets in wavelength (in pixels) and flux (arbitrary units) based on the sky emission lines, detected through a wavelet filter"
   ]
  },
  {
   "cell_type": "markdown",
   "id": "b6d607f5-ccca-46c1-a304-043a64936c41",
   "metadata": {},
   "source": [
    "# 1. Initialisation"
   ]
  },
  {
   "cell_type": "code",
   "execution_count": null,
   "id": "de348001-aa80-4816-972b-ed31b3e44b1f",
   "metadata": {},
   "outputs": [],
   "source": [
    "%matplotlib ipympl\n",
    "from matplotlib import pyplot as plt\n",
    "from matplotlib import colors\n",
    "\n",
    "import numpy as np\n",
    "\n",
    "from astropy import units as u\n",
    "from astropy import constants as c\n",
    "\n",
    "from scipy.signal import fftconvolve\n",
    "from scipy.stats import linregress"
   ]
  },
  {
   "cell_type": "code",
   "execution_count": null,
   "id": "0351b570-0d66-437f-9ac3-e24444947bd6",
   "metadata": {},
   "outputs": [],
   "source": [
    "from pykoala import __version__\n",
    "from pykoala.instruments import koala_ifu, weave\n",
    "from pykoala.corrections import sky\n",
    "from pykoala.corrections.throughput import ThroughputCorrection\n",
    "from pykoala.corrections.wavelength import WavelengthCorrection\n",
    "from pykoala.plotting.utils import new_figure, plot_image, plot_fibres\n",
    "print(\"pyKOALA version: \", __version__)"
   ]
  },
  {
   "cell_type": "markdown",
   "id": "75672d85-c39a-451a-a46e-f750c4357707",
   "metadata": {},
   "source": [
    "The following will probably disappear in the final version of the tutorial"
   ]
  },
  {
   "cell_type": "code",
   "execution_count": null,
   "id": "1770d566-2aa1-4e52-81db-7214c9a708ad",
   "metadata": {},
   "outputs": [],
   "source": [
    "%load_ext autoreload\n",
    "%autoreload 2"
   ]
  },
  {
   "cell_type": "markdown",
   "id": "290b7c49",
   "metadata": {},
   "source": [
    "# 2. Load the science data\n",
    "This must be a Row-Stacked Spectra (RSS) file. Please choose one of the following examples"
   ]
  },
  {
   "cell_type": "code",
   "execution_count": null,
   "id": "03b75586-cf2d-4e5d-8798-38ae98c9b4fa",
   "metadata": {},
   "outputs": [],
   "source": [
    "example = 'KOALA'\n",
    "#example = 'WEAVE'"
   ]
  },
  {
   "cell_type": "markdown",
   "id": "ecfefaa0-403c-42ef-811b-89a067177e45",
   "metadata": {},
   "source": [
    "KOALA:"
   ]
  },
  {
   "cell_type": "code",
   "execution_count": null,
   "id": "e74b6548-e0cf-4d1c-9383-bd6db3c2cfdf",
   "metadata": {},
   "outputs": [],
   "source": [
    "if example == 'KOALA':\n",
    "    filename = f\"../data/27feb20036red.fits\"\n",
    "    rss0 = koala_ifu.koala_rss(filename)\n",
    "    wavelength_AA = rss0.wavelength.to_value(u.Angstrom)"
   ]
  },
  {
   "cell_type": "markdown",
   "id": "92234ead-3106-46d5-8df8-740150f37927",
   "metadata": {},
   "source": [
    "WEAVE:"
   ]
  },
  {
   "cell_type": "code",
   "execution_count": null,
   "id": "66885b26-0dfe-478d-9976-c2d3f2b9e04d",
   "metadata": {},
   "outputs": [],
   "source": [
    "if example == 'WEAVE':\n",
    "    #filename = f\"../data/weave/v3/NGC5322_OB12063/L1/single_3045973.fit\"\n",
    "    filename = f\"../data/weave/v3/NGC4290_OB11113/L1/single_3039517.fit\"\n",
    "    #filename = f\"../data/weave/v3/WA_J024019.19+321544.10/single_3042890.fit\"\n",
    "    #filename = f\"../data/weave/solar/msp_3059302.fit\"\n",
    "    rss0 = weave.weave_rss(filename)\n",
    "    wavelength_AA = rss0.wavelength.to_value(u.Angstrom)\n",
    "    from astropy.io import fits\n",
    "    with fits.open(filename) as hdu:\n",
    "        sky_L1 = hdu[3].data[0] - hdu[1].data[0]\n",
    "        sensitivity_function = hdu[5].data[0]\n",
    "        fibtable = hdu[6].data\n",
    "        "
   ]
  },
  {
   "cell_type": "markdown",
   "id": "78cd6529-e090-4084-a48d-cc5e870e8f56",
   "metadata": {},
   "source": [
    "## Summary"
   ]
  },
  {
   "cell_type": "code",
   "execution_count": null,
   "id": "09e6b80a-bb6a-4415-9f6e-1ba560a8efc8",
   "metadata": {},
   "outputs": [],
   "source": [
    "print(f\"Analysing object {rss0.info['name']} read from {filename}\")\n",
    "print('- info:')\n",
    "print(rss0.info.keys())\n",
    "print('- log:')\n",
    "rss0.history.show()\n"
   ]
  },
  {
   "cell_type": "markdown",
   "id": "794ae740-77de-4211-a2dd-a92b688ab640",
   "metadata": {},
   "source": [
    "# 3. Wavelet filter"
   ]
  },
  {
   "cell_type": "markdown",
   "id": "a9615d66-3a43-40be-8cef-f917a19e228a",
   "metadata": {},
   "source": [
    "## First iteration"
   ]
  },
  {
   "cell_type": "code",
   "execution_count": null,
   "id": "70b28011-dbf6-4fcc-8ea3-7d48df1d2394",
   "metadata": {},
   "outputs": [],
   "source": [
    "wavelet1 = sky.WaveletFilter(rss0)"
   ]
  },
  {
   "cell_type": "code",
   "execution_count": null,
   "id": "afc7f504-5dec-4415-abb7-267b46be8d6d",
   "metadata": {
    "tags": []
   },
   "outputs": [],
   "source": [
    "throughput_corr = ThroughputCorrection(throughput=wavelet1.get_throughput_object())"
   ]
  },
  {
   "cell_type": "code",
   "execution_count": null,
   "id": "19e51811-f1a2-4f48-b72f-ce440953172f",
   "metadata": {
    "tags": []
   },
   "outputs": [],
   "source": [
    "wave_corr = WavelengthCorrection(offset=wavelet1.get_wavelength_offset())"
   ]
  },
  {
   "cell_type": "code",
   "execution_count": null,
   "id": "b98bac96-fa47-4102-be3f-c991dad4b8b8",
   "metadata": {},
   "outputs": [],
   "source": [
    "rss1 = wave_corr.apply(rss0)\n",
    "rss1 = throughput_corr.apply(rss1)"
   ]
  },
  {
   "cell_type": "markdown",
   "id": "0fc78a57-c08e-4318-ae7a-bd9d5b0be1d6",
   "metadata": {},
   "source": [
    "## Second iteration"
   ]
  },
  {
   "cell_type": "code",
   "execution_count": null,
   "id": "42c8fc78-c0f7-4b66-9873-c0d17b712f93",
   "metadata": {},
   "outputs": [],
   "source": [
    "wavelet2 = sky.WaveletFilter(rss1)"
   ]
  },
  {
   "cell_type": "code",
   "execution_count": null,
   "id": "7a58c000-c4bb-4de2-b51b-b603950fa91a",
   "metadata": {
    "tags": []
   },
   "outputs": [],
   "source": [
    "throughput_corr = ThroughputCorrection(throughput=wavelet2.get_throughput_object())"
   ]
  },
  {
   "cell_type": "code",
   "execution_count": null,
   "id": "526b4915-cded-45af-8a45-ff8e6f808a89",
   "metadata": {
    "tags": []
   },
   "outputs": [],
   "source": [
    "wave_corr = WavelengthCorrection(offset=wavelet2.get_wavelength_offset())"
   ]
  },
  {
   "cell_type": "code",
   "execution_count": null,
   "id": "10b31160-c60f-483e-a129-b1602fb26a66",
   "metadata": {},
   "outputs": [],
   "source": [
    "rss2 = wave_corr.apply(rss1)\n",
    "rss2 = throughput_corr.apply(rss2)"
   ]
  },
  {
   "cell_type": "code",
   "execution_count": null,
   "id": "968ee517-7bbb-4d57-a81d-8b376d82c546",
   "metadata": {},
   "outputs": [],
   "source": [
    "rss2.history.show()"
   ]
  },
  {
   "cell_type": "markdown",
   "id": "c1e236aa-046c-4548-ac39-8ce23de68ab0",
   "metadata": {},
   "source": [
    "# 4. Sky subtraction"
   ]
  },
  {
   "cell_type": "code",
   "execution_count": null,
   "id": "22b327e3-5fd2-4f1d-88ca-076392ed3e67",
   "metadata": {
    "tags": []
   },
   "outputs": [],
   "source": [
    "sky0_fit = sky.SkyFromObject(rss0, bckgr_estimator='fit', bckgr_params={'wavelet': wavelet1})"
   ]
  },
  {
   "cell_type": "code",
   "execution_count": null,
   "id": "ca3d98d9-c2f7-4e16-a3ed-273ee31a8b6b",
   "metadata": {},
   "outputs": [],
   "source": [
    "sky_fit = sky.SkyFromObject(rss1, bckgr_estimator='fit', bckgr_params={'wavelet': wavelet1})"
   ]
  },
  {
   "cell_type": "code",
   "execution_count": null,
   "id": "2f7c6a07-215e-4c09-bf3b-5533b9abaaae",
   "metadata": {},
   "outputs": [],
   "source": [
    "sky2_fit = sky.SkyFromObject(rss2, bckgr_estimator='fit', bckgr_params={'wavelet': wavelet2})"
   ]
  },
  {
   "cell_type": "code",
   "execution_count": null,
   "id": "113f36a8-d498-4171-a6a1-8ec30625e3ab",
   "metadata": {},
   "outputs": [],
   "source": [
    "sky_med = sky.SkyFromObject(rss1, bckgr_estimator='percentile')"
   ]
  },
  {
   "cell_type": "code",
   "execution_count": null,
   "id": "5131773b-5c93-43ac-a9a7-25768eb28f41",
   "metadata": {},
   "outputs": [],
   "source": [
    "sky_mad = sky.SkyFromObject(rss1, bckgr_estimator='mad', source_mask_nsigma=3)"
   ]
  },
  {
   "cell_type": "code",
   "execution_count": null,
   "id": "99fff45d-4284-4629-87ea-a0a4d532d610",
   "metadata": {
    "tags": []
   },
   "outputs": [],
   "source": [
    "fig, axes = new_figure('sky model')\n",
    "\n",
    "ax = axes[0, 0]\n",
    "\n",
    "ax.plot(wavelength_AA, sky_med.intensity, 'y-', alpha=.75, label='median')\n",
    "std = np.sqrt(sky_med.variance)\n",
    "ax.fill_between(wavelength_AA, sky_med.intensity-std, sky_med.intensity+std, color='y', alpha=.25, label='$16-84$ \\\\%')\n",
    "\n",
    "ax.plot(wavelength_AA, sky_mad.intensity, 'k--', alpha=.5, label='MAD + 3-$\\\\sigma$ clip')\n",
    "\n",
    "#ax.plot(wavelength_AA, sky0_fit.intensity, 'k:', alpha=.5, label='uncorrected fit')\n",
    "ax.plot(wavelength_AA, sky_fit.intensity, 'k-', alpha=.75, label='linear fit')\n",
    "#ax.plot(wavelength_AA, sky2_fit.intensity, 'r--', alpha=.5, label='iter 2')\n",
    "if example == \"WEAVE\":\n",
    "    ax.plot(wavelength_AA, sky_L1, 'b-', alpha=.75, label='L1')\n",
    "\n",
    "ax.legend()\n",
    ","
   ]
  },
  {
   "cell_type": "markdown",
   "id": "7814656d-c0d0-4822-a4d2-73676a09be20",
   "metadata": {},
   "source": [
    "# 5. Quality control plots"
   ]
  },
  {
   "cell_type": "markdown",
   "id": "3f0318dc-efb2-4c30-94f3-9cc41887e730",
   "metadata": {},
   "source": [
    "## Wavlelet filter"
   ]
  },
  {
   "cell_type": "code",
   "execution_count": null,
   "id": "910f9559-c9e7-4681-bcf6-4feeb9c79c48",
   "metadata": {},
   "outputs": [],
   "source": [
    "wavelet1.qc_plots()"
   ]
  },
  {
   "cell_type": "markdown",
   "id": "ba9e2b26-6c74-4309-b05b-489a53754453",
   "metadata": {},
   "source": [
    "## Corrected intensities"
   ]
  },
  {
   "cell_type": "code",
   "execution_count": null,
   "id": "2cfc7378-3b76-4976-b18b-243f2ddc7daf",
   "metadata": {},
   "outputs": [],
   "source": [
    "fig, axes = new_figure('skyline-based correction',\n",
    "                       nrows=2, ncols=4, sharex=False, sharey=False,\n",
    "                       gridspec_kw={'left': 0.07, 'right':0.9, 'width_ratios': [1, 1, 1, .05], 'hspace': 0.25, 'wspace': 0.25})\n",
    "\n",
    "x = rss0.wavelength\n",
    "if isinstance(x, u.Quantity):\n",
    "    x = x.to_value(u.AA)\n",
    "\n",
    "im, cb = plot_image(fig, axes[0, 0], 'intensity', rss0.intensity, x=x, ylabel='fibre', cbax=axes[0, 3])\n",
    "im, cb = plot_image(fig, axes[0, 1], '.', rss1.intensity, x=x, norm=im.norm, cbax=False)\n",
    "im, cb = plot_image(fig, axes[0, 2], '.', rss2.intensity, x=x, norm=im.norm, cbax=False)\n",
    "\n",
    "im, cb = plot_image(fig, axes[1, 0], 'subtracted', rss0.intensity - sky0_fit.intensity, x=x, cbax=axes[1, 3])\n",
    "im, cb = plot_image(fig, axes[1, 1], '.', rss1.intensity - sky_fit.intensity, x=x, norm=im.norm, cbax=False)\n",
    "im, cb = plot_image(fig, axes[1, 2], '.', rss2.intensity - sky2_fit.intensity, x=x, norm=im.norm, cbax=False)\n",
    "\n",
    "for ax in [axes[0, 1], axes[0, 2], axes[1, 0], axes[1, 1], axes[1, 2]]:\n",
    "    ax.sharex(axes[0, 0])\n",
    "    ax.sharey(axes[0, 0])\n"
   ]
  },
  {
   "cell_type": "markdown",
   "id": "1aa4eb91-8ad8-49e2-a82b-b919ab2fd650",
   "metadata": {},
   "source": [
    "## Wavelength calibration"
   ]
  },
  {
   "cell_type": "code",
   "execution_count": null,
   "id": "6d9a3fb6-5ba7-4ded-9e77-f74fa01ab2fc",
   "metadata": {},
   "outputs": [],
   "source": [
    "wave_corr.offset.offset_data[0]"
   ]
  },
  {
   "cell_type": "code",
   "execution_count": null,
   "id": "2a32e9d7-6881-4882-a7f3-ea1559248243",
   "metadata": {},
   "outputs": [],
   "source": [
    "fig, axes = new_figure(f'relative wavelength calibration - {rss0.info['name']}',\n",
    "                       nrows=2, ncols=2,\n",
    "                       sharex=False, sharey=False,\n",
    "                       figsize=(8, 8),\n",
    "                       gridspec_kw={'left': 0.1, 'right':0.95, 'bottom':0.05, 'top':0.95,\n",
    "                                    'width_ratios': [1, .05], 'hspace': 0.2, 'wspace': 0.2})\n",
    "\n",
    "ax = axes[0, 0]\n",
    "ax.set_ylabel('relative offset [pix]')\n",
    "ax.set_ylim(-.55, .55)\n",
    "ax.set_xlabel('fibre')\n",
    "\n",
    "ax.plot(wavelet1.fibre_offset, 'k-', label='iter 1')\n",
    "#ax.plot(wavelet2.fibre_offset, 'k-', alpha=.25, label='iter 2')\n",
    "\n",
    "axes[0, 1].set_axis_off()\n",
    "\n",
    "ax = axes[1, 0]\n",
    "ax, pc, cb = plot_fibres(fig, axes[1, 0], cblabel='relative offset [pix]', rss=rss0, data=wavelet1.fibre_offset, cbax=axes[1, 1], cmap='Spectral')\n",
    "\n",
    "if rss0.info['name'] == \"NGC5322\":\n",
    "    ax.set_xlim(207.285, 207.345)\n",
    "    ax.set_ylim(60.178, 60.203)\n",
    "if rss0.info['name'] == \"J122047.09+580537.3\":\n",
    "    ax.set_xlim(185.175, 185.222)\n",
    "    ax.set_ylim(58.080, 58.105)\n",
    "fig.savefig(f'{rss0.info['name']}_offset.png')\n",
    "np.savetxt(f'{rss0.info['name']}_offset.txt', wave_corr.offset.offset_data[:, 0].value)"
   ]
  },
  {
   "cell_type": "markdown",
   "id": "eaba525d-8b84-4e49-9273-a8f9f8d5420a",
   "metadata": {},
   "source": [
    "## Throughput correction"
   ]
  },
  {
   "cell_type": "code",
   "execution_count": null,
   "id": "e6b2fe78-fc8c-44b2-8c6a-6054511cefdd",
   "metadata": {},
   "outputs": [],
   "source": [
    "fig, axes = new_figure(f'throuput correction - {rss0.info['name']}',\n",
    "                       nrows=2, ncols=2,\n",
    "                       sharex=False, sharey=False,\n",
    "                       figsize=(8, 8),\n",
    "                       gridspec_kw={'left': 0.1, 'right':0.95, 'bottom':0.05, 'top':0.95,\n",
    "                                    'width_ratios': [1, .05], 'hspace': 0.2, 'wspace': 0.2})\n",
    "\n",
    "ax = axes[0, 0]\n",
    "ax.set_ylabel('relative offset [pix]')\n",
    "ax.set_ylim(.75, 1.25)\n",
    "ax.set_xlabel('fibre')\n",
    "\n",
    "ax.plot(wavelet1.fibre_throughput, 'k-', label='iter 1')\n",
    "#ax.plot(wavelet2.fibre_throughput, 'k-', alpha=.25, label='iter 2')\n",
    "\n",
    "axes[0, 1].set_axis_off()\n",
    "\n",
    "ax = axes[1, 0]\n",
    "ax, pc, cb = plot_fibres(fig, axes[1, 0], cblabel='relative throughput', rss=rss0, data=wavelet1.fibre_throughput, cbax=axes[1, 1], cmap='Spectral')\n",
    "\n",
    "if rss0.info['name'] == \"NGC5322\":\n",
    "    ax.set_xlim(207.285, 207.345)\n",
    "    ax.set_ylim(60.178, 60.203)\n",
    "if rss0.info['name'] == \"J122047.09+580537.3\":\n",
    "    ax.set_xlim(185.175, 185.222)\n",
    "    ax.set_ylim(58.080, 58.105)\n",
    "fig.savefig(f'{rss0.info['name']}_throughput.png')\n",
    "np.savetxt(f'{rss0.info['name']}_throughput.txt', throughput_corr.throughput.throughput_data[:, 0].value)"
   ]
  },
  {
   "cell_type": "markdown",
   "id": "03f525e1-8d1e-4f5e-a323-25c0599aa6b7",
   "metadata": {},
   "source": [
    "## Sky subtraction"
   ]
  },
  {
   "cell_type": "code",
   "execution_count": null,
   "id": "39ac5c65-ddda-41f4-a43c-e604b9dcb9e2",
   "metadata": {},
   "outputs": [],
   "source": [
    "fig, axes = new_figure(f'sky_subtraction - {rss0.info['name']}', nrows=3, sharey=True)\n",
    "\n",
    "ax = axes[0, 0]\n",
    "ax.set_ylabel('sky counts')\n",
    "ax.set_yscale('log')\n",
    "ax.set_ylim(50, 5e4)\n",
    "#ax.plot(self.wavelength, self.sky_counts[0], 'r-', alpha=.5, label='original sky')\n",
    "if example == \"WEAVE\":\n",
    "    ax.plot(wavelength_AA, sky_L1, 'b-', alpha=.5, label='L1')\n",
    "ax.plot(sky_fit.wavelength, sky_fit.intensity, 'k-', alpha=.75, label='PyKOALA')\n",
    "ax.legend()\n",
    "\n",
    "ax = axes[1, 0]\n",
    "ax.set_ylabel('mean spectrum')\n",
    "if example == \"WEAVE\":\n",
    "    ax.plot(wavelength_AA, np.nanmean(rss0.intensity, axis=0).value - sky_L1, 'b-', alpha=.5, label='L1')\n",
    "ax.plot(wavelength_AA, np.nanmean(rss1.intensity, axis=0) - sky_fit.intensity, 'k-', alpha=.75, label='PyKOALA')\n",
    "\n",
    "ax = axes[2, 0]\n",
    "peak = np.nanargmax(np.nanmean(rss0.intensity, axis=1))\n",
    "if example == \"WEAVE\":\n",
    "    ax.plot(wavelength_AA, rss0.intensity[peak].value - sky_L1, 'b-', alpha=.5, label='L1')\n",
    "ax.plot(wavelength_AA, rss1.intensity[peak] - sky_fit.intensity, 'k-', alpha=.75, label='PyKOALA')\n",
    "ax.set_ylabel(f'fibre {peak} (peak)')\n",
    "\n",
    "ax.set_xlabel(r'wavelength [$\\AA$]')\n",
    "fig.savefig(f'{rss0.info['name']}_sky-subtraction.png')"
   ]
  },
  {
   "cell_type": "markdown",
   "id": "306c2537-62fb-4ff1-95e7-619a532c5554",
   "metadata": {},
   "source": [
    "Now, let's get into the gory details of the linear fit"
   ]
  },
  {
   "cell_type": "code",
   "execution_count": null,
   "id": "21ebab4e-7d27-419c-9202-19beeccbab9a",
   "metadata": {},
   "outputs": [],
   "source": [
    "flux = np.nanmean(rss1.intensity, axis=1)\n",
    "mean_flux = np.nanmean(flux)\n",
    "flux_cut_low = np.nanmedian(flux[flux < mean_flux])\n",
    "flux_cut_hi = 2*mean_flux - flux_cut_low\n",
    "flux_low = np.nanmean(flux[flux < flux_cut_low])\n",
    "flux_med = np.nanmean(flux[(flux > flux_cut_low) & (flux < mean_flux)])\n",
    "flux_hi = np.nanmean(flux[(flux > mean_flux) & (flux < flux_cut_hi)])\n",
    "\n",
    "I_low = np.nanmean(rss1.intensity[flux < flux_cut_low, :], axis=0)\n",
    "I_med = np.nanmean(rss1.intensity[(flux > flux_cut_low) & (flux < mean_flux), :], axis=0)\n",
    "I_hi = np.nanmean(rss1.intensity[(flux > mean_flux) & (flux < flux_cut_hi), :], axis=0)\n",
    "m = (I_hi - I_low) / (flux_hi - flux_low)\n",
    "b = I_low - m * flux_low\n",
    "\n",
    "sky_flux_candidate = np.linspace(0, flux_cut_hi, int(100*flux_cut_hi/flux_cut_low))\n",
    "sky_filtered = m[np.newaxis, :] * sky_flux_candidate[:, np.newaxis] + b[np.newaxis, :]\n",
    "x = np.nancumsum(sky_filtered, axis=1)\n",
    "s = wavelet1.scale\n",
    "sky_filtered = (x[:, 2*s:-s] - x[:, s:-2*s]) / s\n",
    "sky_filtered -= (x[:, 3*s:] - x[:, :-3*s]) / (3*s)\n",
    "chi2_sky = np.nanstd(sky_filtered*wavelet1.sky_weight - wavelet1.sky, axis=1)\n",
    "chi2_no_sky = np.nanstd(sky_filtered*(1 - wavelet1.sky_weight), axis=1)\n",
    "\n",
    "sky_flux = sky_flux_candidate[np.nanargmin(chi2_no_sky)]\n",
    "sky_intensity = b + m*sky_flux"
   ]
  },
  {
   "cell_type": "code",
   "execution_count": null,
   "id": "a002b44c-9079-46b1-810f-0d1d53a0ca72",
   "metadata": {},
   "outputs": [],
   "source": [
    "fig, axes = new_figure('get sky flux', nrows=1)\n",
    "\n",
    "ax = axes[0, 0]\n",
    "ax.plot(sky_flux_candidate, chi2_sky, 'y-')\n",
    "ax.plot(sky_flux_candidate, chi2_no_sky, 'r-')\n",
    "ax.axvline(sky_flux, c='k', ls=':', label=f'sky flux = {sky_flux:.2f}')\n",
    "ax.legend()\n",
    ","
   ]
  },
  {
   "cell_type": "code",
   "execution_count": null,
   "id": "84856228-95e0-4ec3-8171-5592dd294627",
   "metadata": {},
   "outputs": [],
   "source": [
    "fig, axes = new_figure('fit coefficients', nrows=4)\n",
    "\n",
    "ax = axes[0, 0]\n",
    "ax.set_ylabel(r'$m_\\lambda$')\n",
    "ax.plot(wavelength_AA, m, 'k-', label=r'$\\sum m_\\lambda$ = '+f'{np.nanmean(m):.3f}')\n",
    "#ax.plot(wavelet1.wavelength, wavelet1.sky_weight, 'y-')\n",
    "#ax.plot(rss1.wavelength, sky_intensity / np.nanmean(sky_intensity), 'c-')\n",
    "ax.legend()\n",
    "\n",
    "ax = axes[1, 0]\n",
    "ax.set_ylabel(r'$b_\\lambda$')\n",
    "#ax.plot(wavelength_AA, sky_fit.intensity, 'r-')\n",
    "ax.plot(wavelength_AA, sky_intensity, 'c-', label=f'sky_flux = {sky_flux:.3f}')\n",
    "ax.plot(wavelength_AA, b, 'k-', label=r'$\\sum b_\\lambda$ = '+f'{np.nanmean(m):.3f}')\n",
    "#ax.set_ylim(-10, 500)\n",
    "ax.legend()\n",
    "\n",
    "ax = axes[2, 0]\n",
    "s = wavelet1.scale\n",
    "ax.set_ylabel(f'wavelet b ({s} pix)')\n",
    "\n",
    "x = np.nancumsum(sky_intensity)\n",
    "sky_filtered = (x[2*s:-s] - x[s:-2*s]) / s\n",
    "sky_filtered -= (x[3*s:] - x[:-3*s]) / (3*s)\n",
    "ax.plot(wavelet1.wavelength, sky_filtered, 'r-', alpha=.5)\n",
    "ax.plot(wavelet1.wavelength, sky_filtered * wavelet1.sky_weight, 'k-', alpha=.5)\n",
    "ax.plot(wavelet1.wavelength, wavelet1.sky, 'c-', alpha=.5)\n",
    "\n",
    "ax = axes[3, 0]\n",
    "ax.plot(wavelet1.wavelength, wavelet1.sky_weight)"
   ]
  },
  {
   "cell_type": "markdown",
   "id": "550db397-8ac4-41a0-a84c-477525843482",
   "metadata": {},
   "source": [
    "## Flux calibration"
   ]
  },
  {
   "cell_type": "code",
   "execution_count": null,
   "id": "e0d66d6d-6afd-4860-9958-52004e4b122c",
   "metadata": {},
   "outputs": [],
   "source": [
    "def fit_line(x, y):\n",
    "    valid = np.where(np.isfinite(x) & np.isfinite(y))\n",
    "    xx = x[valid]\n",
    "    yy = y[valid]\n",
    "    slope, intercept, r_value, p_value, std_err = linregress(xx, yy)\n",
    "    model = intercept + slope*xx\n",
    "    abs_deviation = np.abs(yy - model)\n",
    "    valid = np.where(abs_deviation < np.median(abs_deviation))\n",
    "    xx = xx[valid]\n",
    "    yy = yy[valid]\n",
    "    slope, intercept, r_value, p_value, std_err = linregress(xx, yy)\n",
    "    model = intercept + slope*xx\n",
    "    abs_deviation = np.abs(yy - model)\n",
    "    valid = np.where(abs_deviation < np.median(abs_deviation))\n",
    "    xx = xx[valid]\n",
    "    yy = yy[valid]\n",
    "    slope, intercept, r_value, p_value, std_err = linregress(xx, yy)\n",
    "    return slope, intercept"
   ]
  },
  {
   "cell_type": "code",
   "execution_count": null,
   "id": "9fa510ad-890b-4308-92a5-58be9b9a76ce",
   "metadata": {},
   "outputs": [],
   "source": [
    "if example == \"WEAVE\":\n",
    "    l_ref_r = 6201.20 * u.Angstrom\n",
    "    zero_point_r = (3631*u.Jy * c.c/(l_ref_r)**2).to_value(u.erg/u.s/u.cm**2/u.Angstrom)\n",
    "    i0, i1 = np.interp([5391.11, 7038.08], wavelength_AA, np.arange(wavelength_AA.size)).astype(int)\n",
    "    r_L1 = np.nanmean((rss0.intensity.value - sky_L1)[:, i0:i1], axis=1)\n",
    "    r_fit = np.nanmean((rss1.intensity.value - sky_fit.intensity.value)[:, i0:i1], axis=1)\n",
    "    r_iter2 = np.nanmean((rss2.intensity.value - sky2_fit.intensity.value)[:, i0:i1], axis=1)\n",
    "\n",
    "    ref_flux_r = zero_point_r * np.power(10, -.4*(fibtable['MAG_R']))\n",
    "    m0_r = 1/np.interp(l_ref_r, rss0.wavelength, sensitivity_function)\n",
    "\n",
    "    m_r_counts, sky_r_counts = fit_line(ref_flux_r, r_L1)\n",
    "    m_r_new, sky_r_new = fit_line(ref_flux_r, r_fit)"
   ]
  },
  {
   "cell_type": "code",
   "execution_count": null,
   "id": "2b26a844-08b8-4ecc-b814-f8666cb4af43",
   "metadata": {},
   "outputs": [],
   "source": [
    "if example == \"WEAVE\":\n",
    "    l_ref_i = 7534.96 * u.Angstrom\n",
    "    zero_point_i = (3631*u.Jy * c.c/(l_ref_i)**2).to_value(u.erg/u.s/u.cm**2/u.Angstrom)\n",
    "\n",
    "    zero_point_r = (3631*u.Jy * c.c/(l_ref_r)**2).to_value(u.erg/u.s/u.cm**2/u.Angstrom)\n",
    "    i0, i1 = np.interp([5391.11, 7038.08], wavelength_AA, np.arange(wavelength_AA.size)).astype(int)\n",
    "    i_L1 = np.nanmean((rss0.intensity.value - sky_L1)[:, i0:i1], axis=1)\n",
    "    i_fit = np.nanmean((rss1.intensity.value - sky_fit.intensity.value)[:, i0:i1], axis=1)\n",
    "    i_iter2 = np.nanmean((rss2.intensity.value - sky2_fit.intensity.value)[:, i0:i1], axis=1)\n",
    "\n",
    "    ref_flux_r = zero_point_r * np.power(10, -.4*(fibtable['MAG_R']))\n",
    "    ref_flux_i = zero_point_i * np.power(10, -.4*(fibtable['MAG_I']))\n",
    "    m0_i = 1/np.interp(l_ref_i, rss0.wavelength, sensitivity_function)\n",
    "\n",
    "    m_i_counts, sky_i_counts = fit_line(ref_flux_r, r_L1)\n",
    "    m_i_new, sky_i_new = fit_line(ref_flux_r, r_fit)"
   ]
  },
  {
   "cell_type": "code",
   "execution_count": null,
   "id": "7f53f0a9-43cc-4d05-b3bd-940215dea86b",
   "metadata": {},
   "outputs": [],
   "source": [
    "if example == \"WEAVE\":\n",
    "    fig, axes = new_figure(f'flux calibration - {rss0.info['name']}', nrows=1, ncols=2, sharey=True)\n",
    "\n",
    "    xlim_mag = np.array([15.5, 25.5])\n",
    "    xlim_flux = zero_point_r * np.power(10, -.4*xlim_mag)\n",
    "    xx_mag = np.linspace(xlim_mag[0], xlim_mag[1], 101)\n",
    "    xx_r = zero_point_r * np.power(10, -.4*xx_mag)\n",
    "    xx_i = zero_point_i * np.power(10, -.4*xx_mag)\n",
    "\n",
    "\n",
    "    ax = axes[0, 0]\n",
    "    ax.set_ylabel('counts [ADU/s/pix]')\n",
    "    ax.set_yscale('log')\n",
    "    ax.set_ylim(.3, 3e3)\n",
    "    #ax.set_ylim(30, 3e4)\n",
    "\n",
    "    ax.errorbar(fibtable['MAG_R'], r_L1, fmt='b.', alpha=.1, label='L1')\n",
    "    ax.errorbar(fibtable['MAG_R'], r_fit, fmt='k.', alpha=.1, label='PyKOALA')\n",
    "    #ax.errorbar(fibtable['MAG_R'], r_iter2, fmt='r.', alpha=.1, label='iter 2')\n",
    "\n",
    "    ax.plot(xx_mag, m0_r*xx_r, 'r--', label='expected $r$ sensitivity')\n",
    "    #ax.plot(xx, m_r_counts*xx + sky_r_counts, 'r-', label=f'sens x {m0_r/m_r_counts:.2f}, {sky_r_counts:+.2f} sky')\n",
    "    #ax.plot(xx, m_r_new*xx + sky_r_new, 'k-', label=f'sens x {m0_r/m_r_new:.2f}, {sky_r_new:+.2f} sky')\n",
    "    ax.legend()\n",
    "\n",
    "\n",
    "    ax = axes[0, 1]\n",
    "    ax.set_yscale('log')\n",
    "\n",
    "    ax.errorbar(fibtable['MAG_I'], i_L1, fmt='b.', alpha=.1, label='L1')\n",
    "    ax.errorbar(fibtable['MAG_I'], i_fit, fmt='k.', alpha=.1, label='PyKOALA')\n",
    "    #ax.errorbar(fibtable['MAG_I'], i_iter2, fmt='r.', alpha=.1, label='iter 2')\n",
    "\n",
    "    ax.plot(xx_mag, m0_i*xx_i, 'y--', label='expected $i$ sensitivity')\n",
    "    #ax.plot(xx, m_i_counts*xx + sky_i_counts, 'r-', label=f'sens x {m0_r/m_r_counts:.2f}, {sky_r_counts:+.2f} sky')\n",
    "    #ax.plot(xx, m_i_new*xx + sky_i_new, 'k-', label=f'sens x {m0_r/m_r_new:.2f}, {sky_r_new:+.2f} sky')\n",
    "    ax.legend()\n",
    "\n",
    "\n",
    "    for ax in axes[-1, :]:\n",
    "        #ax.set_xscale('log')\n",
    "        ax.set_xlim(xlim_mag)\n",
    "        #ax.set_xlim(-1e-17, 1.1e-16)\n",
    "        #ax.set_ylim(-50, 550)\n",
    "\n",
    "    axes[-1, 0].set_xlabel(r'Pan-STARRS $r$ [erg/s/cm$^2/\\AA$]')\n",
    "    axes[-1, 1].set_xlabel(r'Pan-STARRS $i$ [erg/s/cm$^2/\\AA$]')\n",
    "\n",
    "    fig.savefig(f'{rss0.info['name']}_flux_calibration.png')\n"
   ]
  },
  {
   "cell_type": "markdown",
   "id": "f748d2de-df69-4d60-ae28-2ed331660da3",
   "metadata": {},
   "source": [
    "## Single fibre tests"
   ]
  },
  {
   "cell_type": "code",
   "execution_count": null,
   "id": "45f35529-64e8-4295-a371-194d4393820c",
   "metadata": {},
   "outputs": [],
   "source": [
    "fibre = 42"
   ]
  },
  {
   "cell_type": "code",
   "execution_count": null,
   "id": "0f2c870d-5219-448d-b251-1bc67f82c929",
   "metadata": {},
   "outputs": [],
   "source": [
    "fig, axes = new_figure('single throughput', nrows=3, sharex=False, sharey=False, gridspec_kw={'hspace': .2})\n",
    "\n",
    "ax = axes[0, 0]\n",
    "ax.hist(wavelet1.filtered[fibre]*wavelet1.fibre_throughput[fibre] / wavelet1.sky, bins=np.linspace(0, 7.5, 101), color='k', alpha=.2)\n",
    "ax.hist(wavelet1.filtered[fibre] / wavelet1.sky, bins=np.linspace(0, 7.5, 101), color='y', alpha=.5)\n",
    "\n",
    "ax = axes[1, 0]\n",
    "ax.set_ylabel('wavelet')\n",
    "ax.plot(wavelet1.wavelength, wavelet1.sky, 'y:', alpha=.5, label='sky')\n",
    "ax.plot(wavelet1.wavelength, wavelet1.filtered[fibre]*wavelet1.fibre_throughput[fibre], 'k--', alpha=.2, label='data')\n",
    "ax.plot(wavelet1.wavelength, wavelet1.filtered[fibre], 'k-', alpha=.5, label='throughput-corrected')\n",
    "ax.plot(wavelet2.wavelength, wavelet2.filtered[fibre], 'r-', alpha=.5, label='iter 2')\n",
    "ax.legend()\n",
    "\n",
    "\n",
    "ax = axes[2, 0]\n",
    "ax.set_ylabel('intensity')\n",
    "ax.sharex(axes[1, 0])\n",
    "\n",
    "x = rss0.wavelength\n",
    "if isinstance(x, u.Quantity):\n",
    "    x = x.to_value(u.AA)\n",
    "\n",
    "ax.plot(x, rss0.intensity[fibre], 'k--', alpha=.2, label=f'fibre {fibre}')\n",
    "ax.plot(x, rss1.intensity[fibre], 'k-', alpha=.5, label='corrected')\n",
    "ax.plot(x, rss1.intensity[fibre] - sky_fit.intensity, 'c-', alpha=.5, label='sky-subtracted')\n",
    "ax.plot(x, rss2.intensity[fibre] - sky2_fit.intensity, 'c--', alpha=.5, label='iter 2')\n",
    "\n",
    "ax.legend()\n",
    "ax.set_xlabel('wavelength [\\AA]')\n"
   ]
  },
  {
   "cell_type": "code",
   "execution_count": null,
   "id": "66b58c19-611b-4607-9720-d6646a78c711",
   "metadata": {},
   "outputs": [],
   "source": [
    "fig, axes = new_figure(f'single wavelength calibration')\n",
    "\n",
    "ax = axes[0, 0]\n",
    "\n",
    "mid = wavelet1.wavelength.size // 2\n",
    "s = wavelet1.scale\n",
    "x = np.nanmedian(wavelet1.filtered, axis=0)\n",
    "x[~ np.isfinite(x)] = 0\n",
    "x = fftconvolve(wavelet1.filtered[fibre], x[::-1], mode='same')[mid-s:mid+s+1]\n",
    "idx = np.arange(x.size)\n",
    "\n",
    "ax.plot(idx - s, x/np.max(x), 'k-', label=f'fibre {fibre}')\n",
    "oo = wavelet1.fibre_offset[fibre].to_value(u.pix)\n",
    "ax.axvline(oo, c='k', ls=':', label=f'offset = {wavelet1.fibre_offset[fibre]:.2f}')\n",
    "ax.plot(2*oo - (idx - s), x/np.max(x), 'k--', alpha=.5, label='reflected cross-correlation')\n",
    "\n",
    "ax.legend()\n",
    "ax.set_ylabel('cross-correlation with sky')\n",
    "ax.set_xlabel('offset [pix]')\n",
    ","
   ]
  },
  {
   "cell_type": "markdown",
   "id": "14e4091c-018e-430e-a43f-36a2c71da2e9",
   "metadata": {},
   "source": [
    "## Single wavelength"
   ]
  },
  {
   "cell_type": "code",
   "execution_count": null,
   "id": "c22d6dc0-22e9-4b56-90b8-684adf163ac9",
   "metadata": {},
   "outputs": [],
   "source": [
    "wl = 6700\n",
    "idx = np.searchsorted(wavelength_AA, wl)"
   ]
  },
  {
   "cell_type": "code",
   "execution_count": null,
   "id": "f2dd420f-c14a-40f3-8674-b696e7c1de4c",
   "metadata": {},
   "outputs": [],
   "source": [
    "fig, axes = new_figure('linear fit')\n",
    "\n",
    "ax = axes[0, 0]\n",
    "\n",
    "ax.plot(flux, rss1.intensity[:, idx], 'k.')\n",
    "ax.axvline(mean_flux, c='r', ls='--', label=f'mean flux: {mean_flux:.2f}')\n",
    "ax.axvline(flux_cut_low, c='r', ls=':', label=f'flux low: {flux_cut_low:.2f}')\n",
    "ax.axvline(flux_cut_hi, c='r', ls=':', label=f'flux high: {flux_cut_hi:.2f}')\n",
    "\n",
    "x = np.nanpercentile(flux, np.linspace(0, 100, 101))\n",
    "ax.plot(x, m[idx]*x + b[idx], 'y:', label=f'm={m[idx]:.2f} b={b[idx]:.2f}')\n",
    "ax.plot(u.Quantity([flux_low, flux_med, flux_hi]), u.Quantity([I_low[idx], I_med[idx], I_hi[idx]]), 'ro')\n",
    "\n",
    "ax.plot(sky_flux, sky_intensity[idx], 'co', label=f'Sky level = {sky_intensity[idx]:.2f}')\n",
    "\n",
    "ax.legend()\n",
    "ax.set_xlabel('mean fibre intensity')\n",
    "ax.set_ylabel(f'intensity at $\\\\lambda={wavelength_AA[idx]:.2f}$ \\\\AA')\n",
    "ax.set_xscale('log')\n",
    "ax.set_yscale('log')"
   ]
  },
  {
   "cell_type": "code",
   "execution_count": null,
   "id": "2b53264d-be65-4e20-b04f-f8ddbd3951bd",
   "metadata": {},
   "outputs": [],
   "source": [
    "fig, axes = new_figure('monochrome hist')\n",
    "\n",
    "ax = axes[0, 0]\n",
    "\n",
    "x = np.linspace(b[idx], 3*sky_intensity[idx] - 2*b[idx], 101)\n",
    "\n",
    "ax.hist(rss1.intensity[:, idx], bins=x, alpha=.5)\n",
    "ax.axvline(sky_intensity[idx], c='k', ls='--')\n",
    "\n",
    "ax.legend()\n",
    "ax.set_ylabel('number of fibres')\n",
    "ax.set_xlabel(f'intensity at $\\\\lambda={wavelength_AA[idx]:.2f}$ \\\\AA')\n",
    "#ax.set_xscale('log')\n",
    "ax.set_yscale('log')"
   ]
  },
  {
   "cell_type": "code",
   "execution_count": null,
   "id": "5b7b8594-26ec-45d8-9f00-1d71c2842056",
   "metadata": {},
   "outputs": [],
   "source": [
    "fig, axes = new_figure('correction maps',\n",
    "                       nrows=4, ncols=2, sharey=False, figsize=(8, 12),\n",
    "                       gridspec_kw={'left': 0.07, 'right':0.9, 'width_ratios': [1, .05], 'hspace': 0.05, 'wspace': 0.25})\n",
    "\n",
    "x = rss0.intensity[:, idx].value\n",
    "norm = colors.LogNorm(vmin=.05*np.nanmedian(sky_intensity).value, vmax=np.nanpercentile(x, 99))\n",
    "plot_fibres(fig, axes[0, 0], cblabel=f'original $I_\\\\lambda({wavelength_AA[idx]:.2f} \\\\AA)$', rss=rss0, data=x, cbax=axes[0, 1], norm=norm)\n",
    "plot_fibres(fig, axes[1, 0], cblabel='throughput corrected', rss=rss1, data=rss1.intensity[:, idx], cbax=axes[1, 1], norm=norm)\n",
    "plot_fibres(fig, axes[2, 0], cblabel='sky subtracted', rss=rss1, data=rss1.intensity[:, idx] - sky_fit.intensity[idx], cbax=axes[2, 1], norm=norm)\n",
    "plot_fibres(fig, axes[3, 0], cblabel='iter2', rss=rss2, data=rss2.intensity[:, idx] - sky2_fit.intensity[idx], cbax=axes[3, 1], norm=norm)\n",
    "\n",
    "if example == \"WEAVE\":\n",
    "    if rss0.info['name'] == \"NGC5322\":\n",
    "        axes[0, 0].set_xlim(207.285, 207.345)\n",
    "        axes[0, 0].set_ylim(60.178, 60.203)\n",
    "    if rss0.info['name'] == \"J122047.09+580537.3\":\n",
    "        axes[0, 0].set_xlim(185.175, 185.222)\n",
    "        axes[0, 0].set_ylim(58.080, 58.105)\n",
    "\n",
    "for ax in axes[1:, 0]:\n",
    "    ax.sharey(axes[0, 0])\n"
   ]
  },
  {
   "cell_type": "code",
   "execution_count": null,
   "id": "ad07178b-db3d-41c0-98ad-5657671a72be",
   "metadata": {},
   "outputs": [],
   "source": []
  }
 ],
 "metadata": {
  "kernelspec": {
   "display_name": "venv-koala",
   "language": "python",
   "name": "venv-koala"
  },
  "language_info": {
   "codemirror_mode": {
    "name": "ipython",
    "version": 3
   },
   "file_extension": ".py",
   "mimetype": "text/x-python",
   "name": "python",
   "nbconvert_exporter": "python",
   "pygments_lexer": "ipython3",
   "version": "3.12.7"
  },
  "toc-autonumbering": false
 },
 "nbformat": 4,
 "nbformat_minor": 5
}
