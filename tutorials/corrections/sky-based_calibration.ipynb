{
 "cells": [
  {
   "cell_type": "markdown",
   "id": "0293e361",
   "metadata": {},
   "source": [
    "# Corrections based on sky emission lines\n",
    "\n",
    "Compute relative offsets in wavelength (in pixels) and flux (arbitrary units) based on the sky emission lines, detected through a wavelet filter"
   ]
  },
  {
   "cell_type": "markdown",
   "id": "b6d607f5-ccca-46c1-a304-043a64936c41",
   "metadata": {},
   "source": [
    "# 1. Initialisation\n",
    "\n",
    "## Imports"
   ]
  },
  {
   "cell_type": "code",
   "execution_count": null,
   "id": "de348001-aa80-4816-972b-ed31b3e44b1f",
   "metadata": {},
   "outputs": [],
   "source": [
    "%matplotlib ipympl\n",
    "from matplotlib import pyplot as plt\n",
    "import numpy as np"
   ]
  },
  {
   "cell_type": "code",
   "execution_count": null,
   "id": "0351b570-0d66-437f-9ac3-e24444947bd6",
   "metadata": {},
   "outputs": [],
   "source": [
    "from pykoala import __version__\n",
    "from pykoala.instruments import koala_ifu, weave\n",
    "from pykoala.corrections import sky\n",
    "from pykoala.corrections.throughput import ThroughputCorrection\n",
    "from pykoala.corrections.wavelength import WavelengthCorrection\n",
    "from pykoala.corrections.sky import SkySubsCorrection\n",
    "print(\"pyKOALA version: \", __version__)"
   ]
  },
  {
   "cell_type": "markdown",
   "id": "75672d85-c39a-451a-a46e-f750c4357707",
   "metadata": {},
   "source": [
    "The following will probably disappear in the final version of the tutorial"
   ]
  },
  {
   "cell_type": "code",
   "execution_count": null,
   "id": "c8a0240d-3202-45a8-85dd-d640e4d6c08e",
   "metadata": {},
   "outputs": [],
   "source": [
    "from astropy import stats\n",
    "from astropy import units as u\n",
    "from astropy.stats import biweight_location, biweight_scale\n",
    "from pykoala.plotting.utils import new_figure, plot_image, plot_fibres\n",
    "from matplotlib.colors import LogNorm, Normalize\n",
    "import scipy\n",
    "from pykoala.ancillary import symmetric_background"
   ]
  },
  {
   "cell_type": "code",
   "execution_count": null,
   "id": "091b7fcc-b92c-4d5a-a977-b84eb20f72f5",
   "metadata": {},
   "outputs": [],
   "source": [
    "%load_ext autoreload\n",
    "%autoreload 2"
   ]
  },
  {
   "cell_type": "markdown",
   "id": "290b7c49",
   "metadata": {},
   "source": [
    "## Load the science data\n",
    "This must be a Row-Stacked Spectra (RSS) file. Please choose one of the following examples"
   ]
  },
  {
   "cell_type": "code",
   "execution_count": null,
   "id": "03b75586-cf2d-4e5d-8798-38ae98c9b4fa",
   "metadata": {},
   "outputs": [],
   "source": [
    "example = 'KOALA'\n",
    "#example = 'WEAVE'"
   ]
  },
  {
   "cell_type": "markdown",
   "id": "ecfefaa0-403c-42ef-811b-89a067177e45",
   "metadata": {},
   "source": [
    "KOALA:"
   ]
  },
  {
   "cell_type": "code",
   "execution_count": null,
   "id": "e74b6548-e0cf-4d1c-9383-bd6db3c2cfdf",
   "metadata": {},
   "outputs": [],
   "source": [
    "if example == 'KOALA':\n",
    "    filename = f\"../data/27feb20036red.fits\"\n",
    "    rss0 = koala_ifu.koala_rss(filename)\n",
    "    #wavelength_AA = rss0.wavelength.to_value(u.Angstrom)"
   ]
  },
  {
   "cell_type": "markdown",
   "id": "92234ead-3106-46d5-8df8-740150f37927",
   "metadata": {},
   "source": [
    "WEAVE:"
   ]
  },
  {
   "cell_type": "code",
   "execution_count": null,
   "id": "66885b26-0dfe-478d-9976-c2d3f2b9e04d",
   "metadata": {},
   "outputs": [],
   "source": [
    "if example == 'WEAVE':\n",
    "    # Old versions of the pipeline\n",
    "    #filename = \"../data/weave/v3/NGC5322_OB12063/L1/single_3045973.fit\"\n",
    "    #filename = \"../data/weave/v3/NGC4290_OB11113/L1/single_3039517.fit\"\n",
    "    #filename = \"../data/weave/v3/WA_J024019.19+321544.10/single_3042890.fit\"\n",
    "    #filename = \"../data/weave/v0.9/OB11162/single_3063947.fit\"\n",
    "    #filename = \"../data/weave/v0.9/OB12709/single_3058745.fit\"\n",
    "    # Twilight (probably old pipeline)\n",
    "    #filename = \"../data/weave/solar/msp_3059302.fit\" # WARNING: Doesn't conform to data model (requires tweaks)\n",
    "    # Pablo's data (probably old pipeline)\n",
    "    #filename = \"../data/weave/ws2023b2-012/L1/single_3041989.fit\"\n",
    "    #filename = \"../data/weave/ws2023b2-012/L1/single_3041991.fit\"\n",
    "    #filename = \"../data/weave/ws2023b2-012/L1/single_3041993.fit\"\n",
    "\n",
    "    # Latest version of the pipeline\n",
    "    filename = \"../data/weave/v0.91/OB11162/single_3063947.fit\"\n",
    "    filename = \"../data/weave/v0.91/OB12709/single_3058745.fit\"\n",
    "    \n",
    "    rss0 = weave.weave_rss(filename)\n",
    "    #wavelength_AA = rss0.wavelength.to_value(u.Angstrom)"
   ]
  },
  {
   "cell_type": "markdown",
   "id": "78cd6529-e090-4084-a48d-cc5e870e8f56",
   "metadata": {},
   "source": [
    "### Data summary"
   ]
  },
  {
   "cell_type": "code",
   "execution_count": null,
   "id": "09e6b80a-bb6a-4415-9f6e-1ba560a8efc8",
   "metadata": {},
   "outputs": [],
   "source": [
    "print(f\"Analysing object {rss0.info['name']} read from {filename}\")\n",
    "print('- info:')\n",
    "print(rss0.info.keys())\n",
    "print('- log:')\n",
    "rss0.history.show()\n"
   ]
  },
  {
   "cell_type": "markdown",
   "id": "5a553449-919b-4a05-9dcf-f76ea2767622",
   "metadata": {},
   "source": [
    "# 2. Sky spectrum"
   ]
  },
  {
   "cell_type": "code",
   "execution_count": null,
   "id": "efd03668-7b53-455a-a859-a86c5b5734ff",
   "metadata": {},
   "outputs": [],
   "source": [
    "help(sky.SkyFromObject.__init__)"
   ]
  },
  {
   "cell_type": "code",
   "execution_count": null,
   "id": "3510355f-cdf4-4fcc-a0d7-39d407f945c4",
   "metadata": {},
   "outputs": [],
   "source": [
    "sky_model = sky.SkyFromObject(rss0, qc_plots={'show': False})"
   ]
  },
  {
   "cell_type": "code",
   "execution_count": null,
   "id": "fdc8a991-7da9-4c7e-a1e5-acc13e4fa236",
   "metadata": {
    "tags": []
   },
   "outputs": [],
   "source": [
    "sky_model.qc_plots['sky_fibres']"
   ]
  },
  {
   "cell_type": "code",
   "execution_count": null,
   "id": "56f22ee5-1436-4424-b0cc-02040042ee13",
   "metadata": {
    "tags": []
   },
   "outputs": [],
   "source": [
    "sky_model.qc_plots['sky_model']"
   ]
  },
  {
   "cell_type": "markdown",
   "id": "17fdc00b-849e-4cf3-bcbe-97137b052812",
   "metadata": {},
   "source": [
    "The default behaviour tries to read the list of sky fibres from the `info` attribute of the `DataContainer`, and estimates them in case they are not present.\n",
    "Alternatively, one may resort to other types of `BackgroundEstimator`:"
   ]
  },
  {
   "cell_type": "code",
   "execution_count": null,
   "id": "26c82b88-af7a-4686-99aa-b6639c0394c3",
   "metadata": {
    "tags": []
   },
   "outputs": [],
   "source": [
    "help(sky.BackgroundEstimator)"
   ]
  },
  {
   "cell_type": "code",
   "execution_count": null,
   "id": "01822262-4e8a-40c1-b3b7-f69b66396591",
   "metadata": {},
   "outputs": [],
   "source": [
    "sky_sigma_clip = sky.SkyFromObject(rss0, bckgr_estimator='mad', sky_fibres='all', source_mask_nsigma=3, qc_plots={'show': False})"
   ]
  },
  {
   "cell_type": "code",
   "execution_count": null,
   "id": "12fc469a-c0c2-4a40-b88c-f9e4cec64c6c",
   "metadata": {
    "tags": []
   },
   "outputs": [],
   "source": [
    "sky_sigma_clip.qc_plots.get('sky_fibres', None)"
   ]
  },
  {
   "cell_type": "code",
   "execution_count": null,
   "id": "e6d51a43-5ced-4966-89a7-091b4385865b",
   "metadata": {
    "tags": []
   },
   "outputs": [],
   "source": [
    "sky_sigma_clip.qc_plots.get('sky_model', None)"
   ]
  },
  {
   "cell_type": "code",
   "execution_count": null,
   "id": "88b10741-a30e-4434-b8fb-9de09f5c510b",
   "metadata": {},
   "outputs": [],
   "source": [
    "sky_mode = sky.SkyFromObject(rss0, bckgr_estimator='mode', sky_fibres='all', qc_plots={'show': False})"
   ]
  },
  {
   "cell_type": "code",
   "execution_count": null,
   "id": "4e018d43-5670-47e8-b7bf-c5c8ea03cd5f",
   "metadata": {
    "tags": []
   },
   "outputs": [],
   "source": [
    "sky_mode.qc_plots.get('sky_fibres', None)"
   ]
  },
  {
   "cell_type": "code",
   "execution_count": null,
   "id": "fb6ab908-f5ea-4c51-964b-02a18d56c1b0",
   "metadata": {
    "tags": []
   },
   "outputs": [],
   "source": [
    "sky_mode.qc_plots.get('sky_model', None)"
   ]
  },
  {
   "cell_type": "markdown",
   "id": "0dee77f3-c98a-49ed-a4be-d537385176c1",
   "metadata": {},
   "source": [
    "## -- Single wavelength test --"
   ]
  },
  {
   "cell_type": "code",
   "execution_count": null,
   "id": "43bb40ac-0fe7-46fc-9b6d-bb650f837277",
   "metadata": {},
   "outputs": [],
   "source": [
    "#wl = 6582\n",
    "#wl = 6620\n",
    "#wl = 6700\n",
    "#wl = 7718\n",
    "wl = 8344.5\n",
    "idx = np.searchsorted(rss0.wavelength, wl << u.Angstrom) - 1\n",
    "\n",
    "intensity = rss0.rss_intensity[:, idx].value\n",
    "total_flux = np.nanmean(rss0.rss_intensity, axis=1)\n",
    "intensity_norm = intensity / total_flux\n",
    "\n",
    "sorted_by_flux = np.argsort(total_flux)\n",
    "flux_mean = np.nancumsum(total_flux[sorted_by_flux]) / np.arange(1, total_flux.size+1)\n",
    "half_sample = total_flux.size // 2"
   ]
  },
  {
   "cell_type": "code",
   "execution_count": null,
   "id": "170c44ad-a23f-4fd3-891e-47b1da665650",
   "metadata": {},
   "outputs": [],
   "source": [
    "fig, axes = new_figure('single_wavelength_sky', nrows=2)\n",
    "\n",
    "ax = axes[0, 0]\n",
    "ax.set_ylabel(f'intensity ($\\\\lambda={rss0.wavelength[idx]:.2f}\\\\ \\\\AA$)')\n",
    "vmin = np.nanmin(intensity[sky_model.sky_fibres])\n",
    "vmax = np.nanmax(intensity[sky_model.sky_fibres])\n",
    "h = .1 * (vmax - vmin)\n",
    "ax.set_ylim(vmin-h, vmax+2*h)\n",
    "\n",
    "ax.plot(total_flux, intensity, 'k.', alpha=.1)\n",
    "ax.plot(total_flux[sky_model.sky_fibres], intensity[sky_model.sky_fibres], 'b+', alpha=.5)\n",
    "ax.axhline(sky_model.intensity[idx], c='k', ls='--')\n",
    "std = np.sqrt(sky_model.variance[idx])\n",
    "ax.axhline(sky_model.intensity[idx] + std, c='k', ls=':')\n",
    "ax.axhline(sky_model.intensity[idx] - std, c='k', ls=':')\n",
    "\n",
    "\n",
    "ax = axes[1, 0]\n",
    "ax.set_ylabel(f'normalised intensity')\n",
    "vmin = np.nanmin(intensity_norm[sky_model.sky_fibres])\n",
    "vmax = np.nanmax(intensity_norm[sky_model.sky_fibres])\n",
    "h = .1 * (vmax - vmin)\n",
    "ax.set_ylim(vmin-h, vmax+2*h)\n",
    "\n",
    "ax.plot(total_flux, intensity_norm, 'k.', alpha=.1)\n",
    "ax.plot(total_flux[sky_model.sky_fibres], intensity_norm[sky_model.sky_fibres], 'b+', alpha=.5)\n",
    "sky_flux = np.nanmean(sky_model.intensity.value)\n",
    "ax.axhline(sky_model.intensity.value[idx]/sky_flux, c='k', ls='--')\n",
    "ax.axhline((sky_model.intensity[idx] + std).value/sky_flux, c='k', ls=':')\n",
    "ax.axhline((sky_model.intensity[idx] - std).value/sky_flux, c='k', ls=':')\n",
    "\n",
    "ax.set_xlabel('total flux (mean fibre intensity)')\n",
    "vmin, vmax = (flux_mean[0], flux_mean[-1])\n",
    "h = .1 * (vmax - vmin)\n",
    "ax.set_xlim(vmin-h, vmax+2*h)\n",
    "#h = th_flux-bg_flux\n",
    "#ax.set_xlim(bg_flux-2*h, th_flux+6*h)\n",
    "#ax.set_xscale('log')"
   ]
  },
  {
   "cell_type": "markdown",
   "id": "3fb7d9ec-b190-4f17-a3cd-0943ec55244a",
   "metadata": {
    "tags": []
   },
   "source": [
    "# -- STOP --"
   ]
  },
  {
   "cell_type": "code",
   "execution_count": null,
   "id": "f8211473-e55e-47a6-8168-43429876c15d",
   "metadata": {},
   "outputs": [],
   "source": [
    "raise -1"
   ]
  },
  {
   "cell_type": "markdown",
   "id": "d397765e-5ffd-42f6-97cd-6e1bbbad175d",
   "metadata": {},
   "source": [
    "# 4. Wavelet-based corrections"
   ]
  },
  {
   "cell_type": "markdown",
   "id": "80fe5def-c438-421d-a0bb-a64847e6a1d2",
   "metadata": {},
   "source": [
    "## Wavelet"
   ]
  },
  {
   "cell_type": "code",
   "execution_count": null,
   "id": "bcbf66ea-ebaf-41ee-ad7d-dd5c57da0f4a",
   "metadata": {},
   "outputs": [],
   "source": [
    "wavelet1 = sky.WaveletFilter(rss0)"
   ]
  },
  {
   "cell_type": "code",
   "execution_count": null,
   "id": "11832092-3fde-4028-8d73-f7cb3fc89589",
   "metadata": {},
   "outputs": [],
   "source": [
    "# 1. Estimate the FWHM of emission lines from the autocorrelation of the median (~ sky) spectrum.\n",
    "\n",
    "x = np.where(np.isfinite(sky_mode.intensity), sky_mode.intensity, 0)\n",
    "x -= np.nanmean(x)"
   ]
  },
  {
   "cell_type": "code",
   "execution_count": null,
   "id": "3aff01a0-8b64-4e2f-a07c-0b914c2ec240",
   "metadata": {},
   "outputs": [],
   "source": [
    "x = scipy.signal.correlate(x, x, mode='same')\n",
    "h = (np.count_nonzero(x > 0.5*np.nanmax(x)) + 1) // 2\n",
    "# h = 0\n",
    "scale = 2*h + 1\n",
    "print(f'> Wavelet filter scale: {scale} pixels')"
   ]
  },
  {
   "cell_type": "code",
   "execution_count": null,
   "id": "ebbfd6f9-f8db-4764-9097-f6d838aba8e5",
   "metadata": {},
   "outputs": [],
   "source": [
    "# 2. Apply a (mexican top hat) wavelet filter to detect features on that scale (i.e. filter out the continuum).\n",
    "\n",
    "x = np.nancumsum(rss0.intensity, axis=1)\n",
    "rss_filtered = (x[:, 2*scale:-scale] - x[:, scale:-2*scale]) / scale\n",
    "rss_filtered -= (x[:, 3*scale:] - x[:, :-3*scale]) / (3*scale)"
   ]
  },
  {
   "cell_type": "code",
   "execution_count": null,
   "id": "1f6c055d-855c-4ae6-b35a-9c4453090e86",
   "metadata": {},
   "outputs": [],
   "source": [
    "x = np.nancumsum(sky_mode.intensity)\n",
    "sky_filtered = (x[2*scale:-scale] - x[scale:-2*scale]) / scale\n",
    "sky_filtered -= (x[3*scale:] - x[:-3*scale]) / (3*scale)\n",
    "sky_filtered_p25, sky_filtered_p75 = np.nanpercentile(sky_filtered, [25, 75])\n",
    "sky_intense = np.where((sky_filtered < sky_filtered_p25) | (sky_filtered > sky_filtered_p75))[0]"
   ]
  },
  {
   "cell_type": "code",
   "execution_count": null,
   "id": "efb9bc23-6104-463d-88f5-a080880ab47c",
   "metadata": {},
   "outputs": [],
   "source": [
    "wavelength_filtered = rss0.wavelength[scale+h+1 : -scale-h]\n",
    "sky_error_filtered = np.sqrt(sky_mode.variance)[scale+h+1 : -scale-h]\n",
    "filtered_idx = np.arange(wavelength_filtered.size)\n",
    "sky_filtered_weight = (sky_filtered / sky_error_filtered)**2\n",
    "sky_filtered_weight /= np.nanmean(sky_filtered_weight)"
   ]
  },
  {
   "cell_type": "markdown",
   "id": "c20d9beb-81c0-485c-ae75-4592114cc42c",
   "metadata": {},
   "source": [
    "## Offset"
   ]
  },
  {
   "cell_type": "code",
   "execution_count": null,
   "id": "ba1d0783-528c-42f9-b57d-dcf25dec0abb",
   "metadata": {},
   "outputs": [],
   "source": [
    "def plot_fibre_wavelet_diff(ax, fibre):\n",
    "    sky_sub = rss_filtered[fibre] - sky_filtered\n",
    "    sky_sub_SNR = sky_sub / sky_error_filtered\n",
    "    #ax.plot(wavelength_filtered, sky_filtered, 'b-', alpha=.2, label=f'sky')\n",
    "    #ax.plot(wavelength_filtered, sky_sub, 'b:', alpha=.2, label=f'sky subtracted')\n",
    "    #ax.fill_between(wavelength_filtered, sky_sub-sky_error_filtered, sky_sub+sky_error_filtered, color='b', alpha=.2)\n",
    "    ax.plot(wavelength_filtered, sky_sub_SNR, 'k-', alpha=.5,\n",
    "            label=f'SNR = {np.sqrt(np.nanmean(sky_sub_SNR**2)):.3f} {np.sqrt(np.nanmean(sky_filtered_weight*sky_sub_SNR**2)):.3f}')\n",
    "    ax.legend()\n",
    "\n",
    "fig, axes = new_figure('individual_wavelets', nrows=3, ncols=1, sharex=True, sharey=True)\n",
    "#fig.supylabel('correlation with sky')\n",
    "fig.supxlabel('wavelength')\n",
    "\n",
    "plot_fibre_wavelet_diff(axes[0, 0], 42)\n",
    "#plot_fibre_wavelet_diff(axes[0, 0], np.nanargmin(fibre_offset))\n",
    "plot_fibre_wavelet_diff(axes[1, 0], np.nanargmax(np.nanmean(rss0.intensity, axis=1)))\n",
    "#plot_fibre_wavelet_diff(axes[2, 0], np.nanargmax(fibre_offset))\n",
    "plot_fibre_wavelet_diff(axes[2, 0], 69)\n",
    "\n",
    "axes[0, 0].set_ylim(-2.50, 2.5)"
   ]
  },
  {
   "cell_type": "code",
   "execution_count": null,
   "id": "4a954454-3f56-476a-997d-c7b166eb8130",
   "metadata": {},
   "outputs": [],
   "source": [
    "def sky_sub_residual(fibre, offset):\n",
    "    sky_sub_SNR = np.interp(filtered_idx-offset, filtered_idx, rss_filtered[fibre])\n",
    "    sky_sub_SNR -= sky_filtered\n",
    "    sky_sub_SNR /= sky_error_filtered\n",
    "    return np.sqrt(np.nanmean(sky_sub_SNR**2)), np.sqrt(np.nanmean(sky_filtered_weight*sky_sub_SNR**2))\n",
    "\n",
    "for off in np.linspace(-1.5, 1.5, 31):\n",
    "    print(f'{off:.2f} {sky_sub_residual(42, off)}')"
   ]
  },
  {
   "cell_type": "markdown",
   "id": "6c3bd38d-5316-47cb-8619-81bd44f83bbd",
   "metadata": {},
   "source": [
    "## Old stuff"
   ]
  },
  {
   "cell_type": "code",
   "execution_count": null,
   "id": "2f9f00c0-2057-4d93-9a49-9efaef4676ca",
   "metadata": {},
   "outputs": [],
   "source": [
    "# 5. Estimate wavelength offset of each fibre (in pixels) from cross-correlation with the sky.\n",
    "\n",
    "mid = sky_filtered.size // 2\n",
    "x = scipy.signal.fftconvolve(\n",
    "    rss_filtered, sky_filtered[np.newaxis, ::-1], mode='same', axes=1)[:, mid-scale:mid+scale+1]\n",
    "idx = np.arange(x.shape[1])\n",
    "weight = np.where(x > 0, x, 0)\n",
    "fibre_offset = np.nansum(\n",
    "    (idx - scale)[np.newaxis, :] * weight, axis=1) / np.nansum(weight, axis=1)"
   ]
  },
  {
   "cell_type": "code",
   "execution_count": null,
   "id": "7e46b1a0-8981-4f57-86b4-5a6a530bb0cf",
   "metadata": {},
   "outputs": [],
   "source": [
    "def plot_fibre_sky_corr(ax, fibre):\n",
    "    ax.plot(x[fibre], 'b-', alpha=.2)\n",
    "    ax.axvline(scale, c='b', ls=':', alpha=.2)\n",
    "    ax.axvline(scale+fibre_offset[fibre], c='k', ls='-', label=f'fibre {fibre} ({fibre_offset[fibre]:.3f})')\n",
    "    ax.legend()\n",
    "\n",
    "\n",
    "fig, axes = new_figure('individual_wavelet_correlation', nrows=3)\n",
    "fig.supylabel('correlation with sky')\n",
    "fig.supxlabel(f'scale ({scale} pix) + offset')\n",
    "\n",
    "plot_fibre_sky_corr(axes[0, 0], np.nanargmin(fibre_offset))\n",
    "plot_fibre_sky_corr(axes[1, 0], np.nanargmax(np.nanmean(rss0.intensity, axis=1)))\n",
    "plot_fibre_sky_corr(axes[2, 0], np.nanargmax(fibre_offset))"
   ]
  },
  {
   "cell_type": "code",
   "execution_count": null,
   "id": "450b02f9-5caa-4ba7-b660-59323f98dff0",
   "metadata": {},
   "outputs": [],
   "source": [
    "\n",
    "def rescale(base, target):\n",
    "    base_norm = base / np.sqrt(np.nanmean(base**2))\n",
    "    return np.nanmean(target*base_norm) * base_norm\n",
    "\n",
    "def plot_fibre_wavelet(ax, fibre):\n",
    "    ax.plot(wavelength_filtered, sky_filtered, 'b--', alpha=.2, label=f'sky')\n",
    "    #ax.fill_between(idx, sky_filtered-sky_error_filtered, sky_filtered+sky_error_filtered, color='b', alpha=.2)\n",
    "    #sky_rescaled = rescale(sky_filtered, rss_filtered[fibre])\n",
    "    #ax.plot(sky_rescaled, 'r--', alpha=.2, label=f'rescaled sky')\n",
    "    ax.plot(wavelength_filtered, rss_filtered[fibre], 'k-', alpha=.5, label=f'fibre {fibre} ({fibre_offset[fibre]:.3f})')\n",
    "    #corrected = np.interp(idx+fibre_offset[fibre], idx, rss_filtered[fibre])\n",
    "    #ax.plot(corrected, 'k-', alpha=.5, label=f'corrected')\n",
    "    sky_sub = rss_filtered[fibre] - sky_filtered\n",
    "    #ax.plot(wavelength_filtered, sky_sub, 'b:', alpha=.2, label=f'subtracted')\n",
    "    #ax.fill_between(wavelength_filtered, sky_sub-sky_error_filtered, sky_sub+sky_error_filtered, color='b', alpha=.2)\n",
    "    #ax.plot(rss_filtered[fibre] - sky_rescaled, 'r-', alpha=.2, label=f'rescaled sky')\n",
    "    ax.legend()\n",
    "\n",
    "def diff(x, y):\n",
    "    y_norm = y / np.sqrt(np.nanmean(y**2))\n",
    "    coeff = np.nanmean(x*y_norm)\n",
    "    return x - coeff*y_norm\n",
    "\n",
    "def plot_fibre_wavelet_diff(ax, fibre):\n",
    "    ax.plot(diff(rss_filtered[fibre], sky_filtered), 'b--', alpha=.2, label=f'orginal')\n",
    "    corrected = np.interp(idx+fibre_offset[fibre], idx, rss_filtered[fibre])\n",
    "    ax.plot(diff(corrected, sky_filtered), 'r-', alpha=.5, label=f'corrected')\n",
    "    ax.legend()\n",
    "\n",
    "fig, axes = new_figure('individual_wavelets', nrows=3, ncols=1, sharex=True, sharey=True)\n",
    "fig.supylabel('correlation with sky')\n",
    "fig.supxlabel('wavelength')\n",
    "\n",
    "plot_fibre_wavelet(axes[0, 0], np.nanargmin(fibre_offset))\n",
    "plot_fibre_wavelet(axes[1, 0], np.nanargmax(np.nanmean(rss0.intensity, axis=1)))\n",
    "plot_fibre_wavelet(axes[2, 0], np.nanargmax(fibre_offset))\n",
    "\n",
    "#plot_fibre_wavelet_diff(axes[0, 1], np.nanargmin(fibre_offset))\n",
    "#plot_fibre_wavelet_diff(axes[1, 1], np.nanargmax(np.nanmean(rss0.intensity, axis=1)))\n",
    "#plot_fibre_wavelet_diff(axes[2, 1], np.nanargmax(fibre_offset))\n",
    "\n",
    "axes[0, 0].set_ylim(-250, 250)"
   ]
  },
  {
   "cell_type": "code",
   "execution_count": null,
   "id": "62d59ecd-af9e-45f9-b9ca-89fec58ef806",
   "metadata": {},
   "outputs": [],
   "source": [
    "fig, axes = new_figure('offset comparison', nrows=1)\n",
    "ax = axes[0, 0]\n",
    "ax.plot(fibre_offset, wavelet1.fibre_offset, 'b.', alpha=.1)\n",
    "ax.plot([-0.6, 0.8], [-0.6, 0.8])"
   ]
  },
  {
   "cell_type": "markdown",
   "id": "ba5fa9ae-72e2-4d4d-aa51-ed20a79f43c7",
   "metadata": {
    "tags": []
   },
   "source": [
    "# 4. Identify sky fibres"
   ]
  },
  {
   "cell_type": "markdown",
   "id": "536f0b38-e3d7-4c59-a7de-774f5231ab16",
   "metadata": {},
   "source": [
    "## Wavelet"
   ]
  },
  {
   "cell_type": "code",
   "execution_count": null,
   "id": "130d07a0-1eb3-4374-bfe6-17676cbcc189",
   "metadata": {},
   "outputs": [],
   "source": [
    "wavelet1 = sky.WaveletFilter(rss0)"
   ]
  },
  {
   "cell_type": "code",
   "execution_count": null,
   "id": "41a53fa1-6773-46df-9f63-b5353f35de27",
   "metadata": {},
   "outputs": [],
   "source": [
    "# 1. Estimate the FWHM of emission lines from the autocorrelation of the median (~ sky) spectrum.\n",
    "\n",
    "x = np.where(np.isfinite(sky_mode.intensity), sky_mode.intensity, 0)\n",
    "x -= np.nanmean(x)"
   ]
  },
  {
   "cell_type": "code",
   "execution_count": null,
   "id": "d6c5db22-8f01-43ef-9f9d-3cfc5f8a4271",
   "metadata": {},
   "outputs": [],
   "source": [
    "x = scipy.signal.correlate(x, x, mode='same')\n",
    "h = (np.count_nonzero(x > 0.5*np.nanmax(x)) + 1) // 2\n",
    "# h = 0\n",
    "scale = 2*h + 1\n",
    "print(f'> Wavelet filter scale: {scale} pixels')"
   ]
  },
  {
   "cell_type": "code",
   "execution_count": null,
   "id": "e4e8c79e-4676-47b0-8a16-cbbe04fc974c",
   "metadata": {},
   "outputs": [],
   "source": [
    "# 2. Apply a (mexican top hat) wavelet filter to detect features on that scale (i.e. filter out the continuum).\n",
    "\n",
    "x = np.nancumsum(rss0.intensity, axis=1)\n",
    "rss_filtered = (x[:, 2*scale:-scale] - x[:, scale:-2*scale]) / scale\n",
    "rss_filtered -= (x[:, 3*scale:] - x[:, :-3*scale]) / (3*scale)"
   ]
  },
  {
   "cell_type": "code",
   "execution_count": null,
   "id": "ae8d048b-45fa-4a24-962e-2ed8d6e5b0ef",
   "metadata": {},
   "outputs": [],
   "source": [
    "x = np.nancumsum(sky_mode.intensity)\n",
    "sky_filtered = (x[2*scale:-scale] - x[scale:-2*scale]) / scale\n",
    "sky_filtered -= (x[3*scale:] - x[:-3*scale]) / (3*scale)\n",
    "sky_filtered_p25, sky_filtered_p75 = np.nanpercentile(sky_filtered, [25, 75])\n",
    "sky_intense = np.where((sky_filtered < sky_filtered_p25) | (sky_filtered > sky_filtered_p75))[0]"
   ]
  },
  {
   "cell_type": "code",
   "execution_count": null,
   "id": "658b26a0-e073-4e6f-bfa3-7fc91b11a8b7",
   "metadata": {},
   "outputs": [],
   "source": [
    "# 5. Estimate wavelength offset of each fibre (in pixels) from cross-correlation with the sky.\n",
    "\n",
    "mid = sky_filtered.size // 2\n",
    "x = scipy.signal.fftconvolve(\n",
    "    rss_filtered, sky_filtered[np.newaxis, ::-1], mode='same', axes=1)[:, mid-scale:mid+scale+1]\n",
    "idx = np.arange(x.shape[1])\n",
    "weight = np.where(x > 0, x, 0)\n",
    "fibre_offset = np.nansum(\n",
    "    (idx - scale)[np.newaxis, :] * weight, axis=1) / np.nansum(weight, axis=1)"
   ]
  },
  {
   "cell_type": "code",
   "execution_count": null,
   "id": "8944287e-4544-42f6-b1b5-7b7ac25d7ad0",
   "metadata": {},
   "outputs": [],
   "source": [
    "def plot_fibre_sky_corr(ax, fibre):\n",
    "    ax.plot(x[fibre], 'b-', alpha=.1)\n",
    "    ax.axvline(scale, c='b', ls=':', alpha=.1)\n",
    "    ax.axvline(scale+fibre_offset[fibre], c='k', ls='-', label=f'fibre {fibre} ({fibre_offset[fibre]:.3f})')\n",
    "    ax.legend()\n",
    "\n",
    "\n",
    "fig, axes = new_figure('kk', nrows=3)\n",
    "fig.supylabel('intensity')\n",
    "fig.supxlabel('wavelength')\n",
    "\n",
    "plot_fibre_sky_corr(axes[0, 0], np.nanargmin(fibre_offset))\n",
    "plot_fibre_sky_corr(axes[1, 0], np.nanargmax(np.nanmean(rss0.intensity, axis=1)))\n",
    "plot_fibre_sky_corr(axes[2, 0], np.nanargmax(fibre_offset))\n",
    "\n",
    "\n",
    "\n",
    "ax = axes[0, 0]\n",
    "ax.legend()"
   ]
  },
  {
   "cell_type": "code",
   "execution_count": null,
   "id": "e266c661-84f2-4f7c-a139-491aaad45986",
   "metadata": {},
   "outputs": [],
   "source": [
    "fig, axes = new_figure('offset comparison', nrows=1)\n",
    "ax = axes[0, 0]\n",
    "ax.plot(fibre_offset, wavelet1.fibre_offset, 'b.', alpha=.1)\n",
    "ax.plot([-0.6, 0.8], [-0.6, 0.8])"
   ]
  },
  {
   "cell_type": "code",
   "execution_count": null,
   "id": "941fbbd5-4fd1-49fc-bcf1-62a70b8570ee",
   "metadata": {},
   "outputs": [],
   "source": [
    "fibre_throughput = np.nanmedian(rss_filtered[:, sky_intense] / sky_filtered[np.newaxis, sky_intense], axis=1)\n",
    "#fibre_throughput /= np.nanmedian(fibre_throughput)\n",
    "median_throughput = np.nanmedian(fibre_throughput)\n",
    "fibre_throughput /= median_throughput\n",
    "sky_filtered *= median_throughput"
   ]
  },
  {
   "cell_type": "code",
   "execution_count": null,
   "id": "65bcba25-4f25-4548-8ca9-4335ed82e391",
   "metadata": {},
   "outputs": [],
   "source": [
    "fig, axes = new_figure('kk')\n",
    "wl = rss0.wavelength[scale + h + 1: - scale - h]\n",
    "axes[0, 0].plot(wl, sky_filtered)\n",
    "axes[0, 0].plot(wl[sky_intense], sky_filtered[sky_intense], 'k+')"
   ]
  },
  {
   "cell_type": "code",
   "execution_count": null,
   "id": "4ccf3da7-c671-4262-abbb-ad985ef3d600",
   "metadata": {},
   "outputs": [],
   "source": [
    "#fibre = 42\n",
    "fibre = np.nanargmax(np.nanmean(rss0.intensity, axis=1))"
   ]
  },
  {
   "cell_type": "code",
   "execution_count": null,
   "id": "4c73f416-5d93-438b-a507-d18bacf0b845",
   "metadata": {},
   "outputs": [],
   "source": [
    "def plot_fibre_vs_sky(ax, fibre):\n",
    "    ax.plot(sky_filtered, rss_filtered[fibre] - fibre_throughput[fibre]*sky_filtered, 'b.', alpha=.1,\n",
    "            label=f'fibre {fibre} ({fibre_throughput[fibre]:.4f})')\n",
    "    ax.axhline(0, c='k', ls=':')\n",
    "    ax.legend()\n",
    "\n",
    "\n",
    "fig, axes = new_figure('fibre vs sky', nrows=3)\n",
    "fig.supylabel('filetered intensity')\n",
    "fig.supxlabel('filetered sky')\n",
    "\n",
    "plot_fibre_vs_sky(axes[0, 0], np.nanargmin(fibre_throughput))\n",
    "plot_fibre_vs_sky(axes[1, 0], np.nanargmax(np.nanmean(rss0.intensity, axis=1)))\n",
    "plot_fibre_vs_sky(axes[2, 0], np.nanargmax(fibre_throughput))"
   ]
  },
  {
   "cell_type": "code",
   "execution_count": null,
   "id": "00f24fdc-05e2-412c-82d6-0129c2197291",
   "metadata": {},
   "outputs": [],
   "source": [
    "def plot_fibre_sky_sub(ax, fibre):\n",
    "    ax.plot(rss0.wavelength, rss0.intensity[fibre], 'b--', alpha=.1, label=f'fibre {fibre} ({fibre_throughput[fibre]:.4f})')\n",
    "    ax.plot(rss0.wavelength, rss0.intensity[fibre]*fibre_throughput[fibre] - sky_mode.intensity*median_throughput, 'k-', alpha=.5)\n",
    "    if example ==  \"WEAVE\":\n",
    "        ax.plot(rss0.wavelength, rss0.intensity[fibre] - rss0.info['sky_CASU'], 'r-', alpha=.5)\n",
    "    ax.legend()\n",
    "\n",
    "\n",
    "fig, axes = new_figure('fibre sky subtraction', nrows=3)\n",
    "fig.supylabel('intensity')\n",
    "fig.supxlabel('wavelength')\n",
    "\n",
    "plot_fibre_sky_sub(axes[0, 0], np.nanargmin(fibre_throughput))\n",
    "plot_fibre_sky_sub(axes[1, 0], np.nanargmax(np.nanmean(rss0.intensity, axis=1)))\n",
    "plot_fibre_sky_sub(axes[2, 0], np.nanargmax(fibre_throughput))"
   ]
  },
  {
   "cell_type": "code",
   "execution_count": null,
   "id": "cdd81173-968d-4e62-8e46-297bd19656aa",
   "metadata": {},
   "outputs": [],
   "source": [
    "fig, axes = new_figure('throughput comparison', nrows=1)\n",
    "fig.suptitle(f'fibre {fibre}')\n",
    "\n",
    "ax = axes[0, 0]\n",
    "ax.plot(fibre_throughput, wavelet1.fibre_throughput, 'b.', alpha=.1)\n",
    "ax.plot([0.6, 1.4], [0.6, 1.4])"
   ]
  },
  {
   "cell_type": "markdown",
   "id": "7814656d-c0d0-4822-a4d2-73676a09be20",
   "metadata": {},
   "source": [
    "# -- STOP --"
   ]
  },
  {
   "cell_type": "code",
   "execution_count": null,
   "id": "cc444e4b-7b58-41b8-af75-30bcfb6c7226",
   "metadata": {},
   "outputs": [],
   "source": [
    "raise -1"
   ]
  },
  {
   "cell_type": "markdown",
   "id": "9a9ddd27-f23b-4126-8afa-b26912e3c466",
   "metadata": {},
   "source": [
    "# 3. Wavelet filter"
   ]
  },
  {
   "cell_type": "markdown",
   "id": "20711e44-06a3-4084-a446-621f02bba45c",
   "metadata": {},
   "source": [
    "## First iteration"
   ]
  },
  {
   "cell_type": "code",
   "execution_count": null,
   "id": "70b28011-dbf6-4fcc-8ea3-7d48df1d2394",
   "metadata": {},
   "outputs": [],
   "source": [
    "wavelet1 = sky.WaveletFilter(rss0)"
   ]
  },
  {
   "cell_type": "code",
   "execution_count": null,
   "id": "afc7f504-5dec-4415-abb7-267b46be8d6d",
   "metadata": {
    "tags": []
   },
   "outputs": [],
   "source": [
    "throughput_corr = ThroughputCorrection(throughput=wavelet1.get_throughput_object())"
   ]
  },
  {
   "cell_type": "code",
   "execution_count": null,
   "id": "19e51811-f1a2-4f48-b72f-ce440953172f",
   "metadata": {
    "tags": []
   },
   "outputs": [],
   "source": [
    "wave_corr = WavelengthCorrection(offset=wavelet1.get_wavelength_offset())"
   ]
  },
  {
   "cell_type": "code",
   "execution_count": null,
   "id": "b98bac96-fa47-4102-be3f-c991dad4b8b8",
   "metadata": {},
   "outputs": [],
   "source": [
    "rss1 = wave_corr.apply(rss0)\n",
    "rss1 = throughput_corr.apply(rss1)"
   ]
  },
  {
   "cell_type": "markdown",
   "id": "0c5b8879-e3fe-4259-9eef-fa556995da3f",
   "metadata": {},
   "source": [
    "## Second iteration"
   ]
  },
  {
   "cell_type": "code",
   "execution_count": null,
   "id": "42c8fc78-c0f7-4b66-9873-c0d17b712f93",
   "metadata": {},
   "outputs": [],
   "source": [
    "#wavelet2 = sky.WaveletFilter(rss1)"
   ]
  },
  {
   "cell_type": "code",
   "execution_count": null,
   "id": "7a58c000-c4bb-4de2-b51b-b603950fa91a",
   "metadata": {
    "tags": []
   },
   "outputs": [],
   "source": [
    "#throughput_corr = ThroughputCorrection(throughput=wavelet2.get_throughput_object())"
   ]
  },
  {
   "cell_type": "code",
   "execution_count": null,
   "id": "526b4915-cded-45af-8a45-ff8e6f808a89",
   "metadata": {
    "tags": []
   },
   "outputs": [],
   "source": [
    "#wave_corr = WavelengthCorrection(offset=wavelet2.get_wavelength_offset())"
   ]
  },
  {
   "cell_type": "code",
   "execution_count": null,
   "id": "10b31160-c60f-483e-a129-b1602fb26a66",
   "metadata": {},
   "outputs": [],
   "source": [
    "#rss2 = wave_corr.apply(rss1)\n",
    "#rss2 = throughput_corr.apply(rss2)"
   ]
  },
  {
   "cell_type": "code",
   "execution_count": null,
   "id": "968ee517-7bbb-4d57-a81d-8b376d82c546",
   "metadata": {},
   "outputs": [],
   "source": [
    "#rss2.history.show()"
   ]
  },
  {
   "cell_type": "markdown",
   "id": "eb503e48-67a2-4b21-8064-1a566a215a25",
   "metadata": {},
   "source": [
    "# 5. Create datacube"
   ]
  },
  {
   "cell_type": "code",
   "execution_count": null,
   "id": "6d337460-cc04-49ac-8049-bce28464d2b1",
   "metadata": {},
   "outputs": [],
   "source": [
    "sky_corr = SkySubsCorrection(sky_mode)\n",
    "rss1 = sky_corr.apply(rss1)[0]"
   ]
  },
  {
   "cell_type": "code",
   "execution_count": null,
   "id": "8829e7a3-0f35-4064-b192-e4a30bc1fc1d",
   "metadata": {},
   "outputs": [],
   "source": [
    "from pykoala.cubing import CubeInterpolator\n",
    "interpolator = CubeInterpolator(rss_set=[rss1], spatial_pix_size=2*u.arcsec, spectra_pix_size=1*u.Angstrom)"
   ]
  },
  {
   "cell_type": "code",
   "execution_count": null,
   "id": "f0ea9dd1-352b-45c9-bc55-e2217d0f8fb5",
   "metadata": {},
   "outputs": [],
   "source": [
    "cube = interpolator.build_cube()"
   ]
  },
  {
   "cell_type": "code",
   "execution_count": null,
   "id": "c1796851-92b6-4e19-98dd-a17e6d0b46f3",
   "metadata": {},
   "outputs": [],
   "source": [
    "cube.to_fits('cube.fits', overwrite=True)"
   ]
  },
  {
   "cell_type": "markdown",
   "id": "1e48fa56-3da0-443d-a238-538cd6b3f997",
   "metadata": {},
   "source": [
    "# 6. Quality control plots"
   ]
  },
  {
   "cell_type": "markdown",
   "id": "3f0318dc-efb2-4c30-94f3-9cc41887e730",
   "metadata": {},
   "source": [
    "## Wavlelet filter"
   ]
  },
  {
   "cell_type": "code",
   "execution_count": null,
   "id": "910f9559-c9e7-4681-bcf6-4feeb9c79c48",
   "metadata": {},
   "outputs": [],
   "source": [
    "wavelet1.qc_plots()"
   ]
  },
  {
   "cell_type": "markdown",
   "id": "26904aca-deb0-4197-b21f-8fac6f481945",
   "metadata": {},
   "source": [
    "## Relative calibration"
   ]
  },
  {
   "cell_type": "code",
   "execution_count": null,
   "id": "cd597c06-cad3-4f9d-abbc-a0e32ce58e9e",
   "metadata": {},
   "outputs": [],
   "source": [
    "fig, axes = new_figure('sky-based relative calibration', nrows=2)\n",
    "\n",
    "ax = axes[0, 0]\n",
    "ax.set_ylabel('relative throughput')\n",
    "#ax.set_ylim(.4, 2.1)\n",
    "\n",
    "ax.plot(wavelet1.fibre_throughput, 'k-', label='iter 1')\n",
    "ax.plot(wavelet2.fibre_throughput, 'k-', alpha=.25, label='iter 2')\n",
    "\n",
    "#p16, p50, p84 = np.nanpercentile(wavelet1.filtered / wavelet1.sky[np.newaxis, :], [16, 50, 84], axis=1)\n",
    "#ax.plot(p50, 'r--', alpha=.5)\n",
    "#ax.fill_between(np.arange(p50.size), p16, p84, color='r', alpha=0.1)\n",
    "#p16, p50, p84 = np.nanpercentile(wavelet2.filtered / wavelet2.sky[np.newaxis, :], [16, 50, 84], axis=1)\n",
    "#ax.plot(p50, 'y--', alpha=.5)\n",
    "\n",
    "ax.legend()\n",
    "\n",
    "\n",
    "ax = axes[1, 0]\n",
    "ax.set_ylabel('relative offset [pix]')\n",
    "\n",
    "ax.plot(wavelet1.fibre_offset, 'k-', label='iter 1')\n",
    "ax.plot(wavelet2.fibre_offset, 'k-', alpha=.25, label='iter 2')\n",
    "\n",
    "ax.legend()\n",
    "ax.set_xlabel('fibre')\n",
    ","
   ]
  },
  {
   "cell_type": "code",
   "execution_count": null,
   "id": "86fceea5-e42e-4e2e-a98a-2b173cb3985b",
   "metadata": {},
   "outputs": [],
   "source": [
    "fig, axes = new_figure('relative calibration maps',\n",
    "                       nrows=2, ncols=2, sharey=False, figsize=(8, 10),\n",
    "                       gridspec_kw={'left': 0.07, 'right':0.9, 'width_ratios': [1, .05], 'hspace': 0.05, 'wspace': 0.25})\n",
    "\n",
    "plot_fibres(fig, axes[0, 0], rss0, data=wavelet1.fibre_throughput, cbax=axes[0, 1], cmap='Spectral', cblabel='relative throughput')\n",
    "plot_fibres(fig, axes[1, 0], rss0, data=wavelet1.fibre_offset, cbax=axes[1, 1], cmap='Spectral', cblabel='relative offset')\n",
    "\n",
    "axes[0, 0].sharey(axes[1, 0])"
   ]
  },
  {
   "cell_type": "markdown",
   "id": "c795e84d-5017-48d0-b567-2b5ba9a92a4f",
   "metadata": {},
   "source": [
    "## Single fibre tests"
   ]
  },
  {
   "cell_type": "code",
   "execution_count": null,
   "id": "45f35529-64e8-4295-a371-194d4393820c",
   "metadata": {},
   "outputs": [],
   "source": [
    "fibre = 42\n",
    "#fibre = np.nanargmax(np.nanmean(rss1.intensity, axis=1))"
   ]
  },
  {
   "cell_type": "code",
   "execution_count": null,
   "id": "0f2c870d-5219-448d-b251-1bc67f82c929",
   "metadata": {},
   "outputs": [],
   "source": [
    "fig, axes = new_figure('single throughput', nrows=3, sharex=False, sharey=False, gridspec_kw={'hspace': .2})\n",
    "\n",
    "ax = axes[0, 0]\n",
    "ax.hist(wavelet1.filtered[fibre]*wavelet1.fibre_throughput[fibre] / wavelet1.sky, bins=np.linspace(0, 7.5, 101), color='k', alpha=.2)\n",
    "ax.hist(wavelet1.filtered[fibre] / wavelet1.sky, bins=np.linspace(0, 7.5, 101), color='b', alpha=.5)\n",
    "\n",
    "ax = axes[1, 0]\n",
    "ax.set_ylabel('wavelet')\n",
    "ax.plot(wavelet1.wavelength, wavelet1.sky, 'b:', alpha=.5, label='sky')\n",
    "ax.plot(wavelet1.wavelength, wavelet1.filtered[fibre]*wavelet1.fibre_throughput[fibre], 'k--', alpha=.2, label='data')\n",
    "ax.plot(wavelet1.wavelength, wavelet1.filtered[fibre], 'k-', alpha=.5, label='throughput-corrected')\n",
    "ax.plot(wavelet2.wavelength, wavelet2.filtered[fibre], 'r-', alpha=.5, label='iter 2')\n",
    "ax.legend()\n",
    "\n",
    "\n",
    "ax = axes[2, 0]\n",
    "ax.set_ylabel('intensity')\n",
    "ax.sharex(axes[1, 0])\n",
    "\n",
    "x = rss0.wavelength\n",
    "if isinstance(x, u.Quantity):\n",
    "    x = x.to_value(u.AA)\n",
    "\n",
    "ax.plot(x, rss0.intensity[fibre], 'k--', alpha=.2, label=f'fibre {fibre}')\n",
    "ax.plot(x, rss1.intensity[fibre], 'k-', alpha=.5, label='corrected')\n",
    "ax.plot(x, rss1.intensity[fibre] - sky_fit.intensity, 'c-', alpha=.5, label='sky-subtracted')\n",
    "ax.plot(x, rss2.intensity[fibre] - sky2_fit.intensity, 'c--', alpha=.5, label='iter 2')\n",
    "ax.plot(x, rss0.intensity[fibre] - sky_mode.intensity, 'k--', alpha=.5, label='mode')\n",
    "\n",
    "ax.legend()\n",
    "ax.set_xlabel(r'wavelength [$\\AA$]')\n"
   ]
  },
  {
   "cell_type": "code",
   "execution_count": null,
   "id": "66b58c19-611b-4607-9720-d6646a78c711",
   "metadata": {},
   "outputs": [],
   "source": [
    "fig, axes = new_figure(f'single wavelength calibration')\n",
    "\n",
    "ax = axes[0, 0]\n",
    "\n",
    "mid = wavelet1.wavelength.size // 2\n",
    "s = wavelet1.scale\n",
    "x = np.nanmedian(wavelet1.filtered, axis=0)\n",
    "x[~ np.isfinite(x)] = 0\n",
    "x = scipy.signal.fftconvolve(wavelet1.filtered[fibre], x[::-1], mode='same')[mid-s:mid+s+1]\n",
    "idx = np.arange(x.size)\n",
    "\n",
    "ax.plot(idx - s, x/np.max(x), 'k-', label=f'fibre {fibre}')\n",
    "ax.axvline(wavelet1.fibre_offset[fibre], c='k', ls=':', label=f'offset = {wavelet1.fibre_offset[fibre]:.2f} pix')\n",
    "ax.plot(2*wavelet1.fibre_offset[fibre] - (idx - s), x/np.max(x), 'k--', alpha=.25, label='reflected cross-correlation')\n",
    "\n",
    "ax.legend()\n",
    "ax.set_ylabel('cross-correlation with sky')\n",
    "ax.set_xlabel('offset [pix]')\n",
    ","
   ]
  },
  {
   "cell_type": "markdown",
   "id": "1048b163-ee29-4b39-9f05-7ab90ac439d0",
   "metadata": {},
   "source": [
    "## Corrected intensities"
   ]
  },
  {
   "cell_type": "code",
   "execution_count": null,
   "id": "2cfc7378-3b76-4976-b18b-243f2ddc7daf",
   "metadata": {},
   "outputs": [],
   "source": [
    "fig, axes = new_figure('skyline-based correction',\n",
    "                       nrows=2, ncols=3, sharex=False, sharey=False,\n",
    "                       gridspec_kw={'left': 0.07, 'right':0.9, 'width_ratios': [1, 1, .05], 'hspace': 0.25, 'wspace': 0.25})\n",
    "\n",
    "x = rss0.wavelength\n",
    "if isinstance(x, u.Quantity):\n",
    "    x = x.to_value(u.AA)\n",
    "\n",
    "im, cb = plot_image(fig, axes[0, 0], 'intensity', rss0.intensity, x=x, ylabel='fibre', cbax=axes[0, 2])\n",
    "im, cb = plot_image(fig, axes[0, 1], '.', rss1.intensity, x=x, norm=im.norm, cbax=False)\n",
    "\n",
    "im, cb = plot_image(fig, axes[1, 0], 'subtracted', rss0.intensity - sky0_fit.intensity, x=x, cbax=axes[1, 2])\n",
    "#im, cb = plot_image(fig, axes[1, 1], '.', rss1.intensity - sky_fit.intensity, x=x, norm=im.norm, cbax=False)\n",
    "im, cb = plot_image(fig, axes[1, 1], '.', rss1.intensity - sky_mode.intensity, x=x, norm=im.norm, cbax=False)\n",
    "\n",
    "for ax in [axes[0, 1], axes[1, 0], axes[1, 1]]:\n",
    "    ax.sharex(axes[0, 0])\n",
    "    ax.sharey(axes[0, 0])\n"
   ]
  },
  {
   "cell_type": "markdown",
   "id": "03f525e1-8d1e-4f5e-a323-25c0599aa6b7",
   "metadata": {},
   "source": [
    "## Sky subtraction"
   ]
  },
  {
   "cell_type": "code",
   "execution_count": null,
   "id": "21ebab4e-7d27-419c-9202-19beeccbab9a",
   "metadata": {},
   "outputs": [],
   "source": [
    "flux = np.nanmean(rss1.intensity, axis=1)\n",
    "mean_flux = np.nanmean(flux)\n",
    "flux_cut_low = np.nanmedian(flux[flux < mean_flux])\n",
    "flux_cut_hi = 2*mean_flux - flux_cut_low\n",
    "flux_low = np.nanmean(flux[flux < flux_cut_low])\n",
    "flux_med = np.nanmean(flux[(flux > flux_cut_low) & (flux < mean_flux)])\n",
    "flux_hi = np.nanmean(flux[(flux > mean_flux) & (flux < flux_cut_hi)])\n",
    "\n",
    "I_low = np.nanmean(rss1.intensity[flux < flux_cut_low, :], axis=0)\n",
    "I_med = np.nanmean(rss1.intensity[(flux > flux_cut_low) & (flux < mean_flux), :], axis=0)\n",
    "I_hi = np.nanmean(rss1.intensity[(flux > mean_flux) & (flux < flux_cut_hi), :], axis=0)\n",
    "m = (I_hi - I_low) / (flux_hi - flux_low)\n",
    "b = I_low - m * flux_low\n",
    "\n",
    "sky_flux_candidate = np.arange(0, flux_cut_hi.value, .01*np.min(flux.value)) << flux.unit\n",
    "sky_filtered = m[np.newaxis, :] * sky_flux_candidate[:, np.newaxis] + b[np.newaxis, :]\n",
    "x = np.nancumsum(sky_filtered, axis=1)\n",
    "s = wavelet1.scale\n",
    "sky_filtered = (x[:, 2*s:-s] - x[:, s:-2*s]) / s\n",
    "sky_filtered -= (x[:, 3*s:] - x[:, :-3*s]) / (3*s)\n",
    "chi2_sky = np.nanstd(sky_filtered*wavelet1.sky_weight - wavelet1.sky, axis=1)\n",
    "chi2_no_sky = np.nanstd(sky_filtered*(1 - wavelet1.sky_weight), axis=1)\n",
    "\n",
    "sky_flux = sky_flux_candidate[np.nanargmin(chi2_no_sky)]\n",
    "#sky_flux = 280 * u.adu\n",
    "#sky_flux = np.mean(np.nanmedian(rss1.intensity, axis=0))\n",
    "#sky_flux = background * u.adu\n",
    "sky_intensity = b + m*sky_flux"
   ]
  },
  {
   "cell_type": "code",
   "execution_count": null,
   "id": "dc8525bf-fb13-46e9-ac86-f6b3a1a7935e",
   "metadata": {},
   "outputs": [],
   "source": [
    "background, threshold = symmetric_background(flux.value, fig_name='mean intensity')"
   ]
  },
  {
   "cell_type": "code",
   "execution_count": null,
   "id": "2b53264d-be65-4e20-b04f-f8ddbd3951bd",
   "metadata": {},
   "outputs": [],
   "source": [
    "fig, axes = new_figure('intensity hist')\n",
    "\n",
    "ax = axes[0, 0]\n",
    "\n",
    "x = np.linspace(0, 3*sky_flux, 101)\n",
    "\n",
    "ax.hist(flux, bins=x, alpha=.5)\n",
    "ax.axvline(background, c='k', ls='--', label=f'Mode = {background:.2f}')\n",
    "ax.axvline(threshold, c='k', ls=':', label=f'th = {threshold:.2f}')\n",
    "\n",
    "ax.legend()\n",
    "ax.set_ylabel('number of fibres')\n",
    "ax.set_xlabel(f'mean fibre intensity')\n",
    "#ax.set_xscale('log')\n",
    "ax.set_yscale('log')"
   ]
  },
  {
   "cell_type": "code",
   "execution_count": null,
   "id": "a002b44c-9079-46b1-810f-0d1d53a0ca72",
   "metadata": {},
   "outputs": [],
   "source": [
    "fig, axes = new_figure('get sky flux', nrows=1)\n",
    "\n",
    "ax = axes[0, 0]\n",
    "ax.plot(sky_flux_candidate, chi2_sky, 'b-')\n",
    "ax.plot(sky_flux_candidate, chi2_no_sky, 'r-')\n",
    "ax.axvline(sky_flux, c='k', ls=':', label=f'sky flux = {sky_flux:.2f}')\n",
    "ax.legend()\n",
    ","
   ]
  },
  {
   "cell_type": "code",
   "execution_count": null,
   "id": "84856228-95e0-4ec3-8171-5592dd294627",
   "metadata": {},
   "outputs": [],
   "source": [
    "fig, axes = new_figure('fit coefficients', nrows=4)\n",
    "\n",
    "ax = axes[0, 0]\n",
    "ax.set_ylabel('m')\n",
    "ax.plot(rss0.wavelength, m, 'k-')\n",
    "#ax.plot(wavelet1.wavelength, wavelet1.sky_weight, 'b-')\n",
    "#ax.plot(rss1.wavelength, sky_intensity / np.nanmean(sky_intensity), 'c-')\n",
    "\n",
    "\n",
    "ax = axes[1, 0]\n",
    "ax.set_ylabel('b')\n",
    "ax.plot(rss0.wavelength, sky_fit.intensity, 'r-')\n",
    "ax.plot(rss0.wavelength, sky_intensity, 'c-')\n",
    "ax.plot(rss0.wavelength, b, 'k-')\n",
    "ax.plot(rss0.wavelength, sky_mad.intensity, 'r:')\n",
    "ax.plot(rss0.wavelength, sky_mode.intensity, 'k--')\n",
    "#ax.set_ylim(-10, 500)\n",
    "\n",
    "\n",
    "ax = axes[2, 0]\n",
    "s = wavelet1.scale\n",
    "ax.set_ylabel(f'wavelet b ({s} pix)')\n",
    "\n",
    "x = np.nancumsum(sky_intensity)\n",
    "sky_filtered = (x[2*s:-s] - x[s:-2*s]) / s\n",
    "sky_filtered -= (x[3*s:] - x[:-3*s]) / (3*s)\n",
    "ax.plot(wavelet1.wavelength, sky_filtered, 'r-', alpha=.5)\n",
    "ax.plot(wavelet1.wavelength, sky_filtered * wavelet1.sky_weight, 'k-', alpha=.5)\n",
    "ax.plot(wavelet1.wavelength, wavelet1.sky, 'c-', alpha=.5)\n",
    "\n",
    "ax = axes[3, 0]\n",
    "ax.plot(wavelet1.wavelength, wavelet1.sky_weight)"
   ]
  },
  {
   "cell_type": "markdown",
   "id": "14e4091c-018e-430e-a43f-36a2c71da2e9",
   "metadata": {},
   "source": [
    "## Single wavelength"
   ]
  },
  {
   "cell_type": "code",
   "execution_count": null,
   "id": "c22d6dc0-22e9-4b56-90b8-684adf163ac9",
   "metadata": {},
   "outputs": [],
   "source": [
    "#wl = 6581\n",
    "wl = 6620\n",
    "#wl = 6700\n",
    "idx = np.searchsorted(rss0.wavelength, wl)"
   ]
  },
  {
   "cell_type": "code",
   "execution_count": null,
   "id": "1b0f55c7-9de6-4dd8-9deb-916b822b128c",
   "metadata": {},
   "outputs": [],
   "source": [
    "bg, th = symmetric_background(rss1.intensity[:, idx].value, fig_name='monochrome mode')"
   ]
  },
  {
   "cell_type": "code",
   "execution_count": null,
   "id": "f98475f3-c403-4350-bc15-5f18fd9592e7",
   "metadata": {},
   "outputs": [],
   "source": [
    "fig, axes = new_figure('monochrome hist')\n",
    "\n",
    "ax = axes[0, 0]\n",
    "\n",
    "x = np.linspace(b[idx], 3*sky_intensity[idx] - 2*b[idx], 101)\n",
    "\n",
    "ax.hist(rss1.intensity[:, idx], bins=x, alpha=.5)\n",
    "ax.axvline(sky_intensity[idx], c='k', ls='--', label=f'Sky level = {sky_intensity[idx]:.2f}')\n",
    "ax.axvline(bg, c='k', ls=':', label=f'mode = {bg:.2f}')\n",
    "\n",
    "ax.legend()\n",
    "ax.set_ylabel('number of fibres')\n",
    "ax.set_xlabel(f'intensity at $\\\\lambda={rss0.wavelength[idx]:.2f}$ \\\\AA')\n",
    "#ax.set_xscale('log')\n",
    "ax.set_yscale('log')"
   ]
  },
  {
   "cell_type": "code",
   "execution_count": null,
   "id": "f2dd420f-c14a-40f3-8674-b696e7c1de4c",
   "metadata": {},
   "outputs": [],
   "source": [
    "fig, axes = new_figure('linear fit')\n",
    "\n",
    "ax = axes[0, 0]\n",
    "\n",
    "ax.plot(flux, rss1.intensity[:, idx], 'k.', alpha=.1)\n",
    "ax.axvline(mean_flux, c='r', ls='--', label=f'mean flux: {mean_flux:.2f}')\n",
    "ax.axvline(flux_cut_low, c='r', ls=':', label=f'flux low: {flux_cut_low:.2f}')\n",
    "ax.axvline(flux_cut_hi, c='r', ls=':', label=f'flux high: {flux_cut_hi:.2f}')\n",
    "\n",
    "ax.axhline(bg, c='k', ls=':', label=f'mode: {bg:.2f}')\n",
    "ax.axhline(th, c='k', ls='--', label=f'th: {th:.2f}')\n",
    "ax.axvline(background, c='k', ls=':', label=f'mode fl: {background:.2f}')\n",
    "ax.axvline(threshold, c='k', ls='--', label=f'th fl: {threshold:.2f}')\n",
    "\n",
    "x = np.nanpercentile(flux, np.linspace(0, 100, 101))\n",
    "ax.plot(x, m[idx]*x + b[idx], 'b:', label=f'm={m[idx]:.2f} b={b[idx]:.2f}')\n",
    "ax.plot(u.Quantity([flux_low, flux_med, flux_hi]), u.Quantity([I_low[idx], I_med[idx], I_hi[idx]]), 'ro-')\n",
    "\n",
    "ax.plot(sky_flux, sky_intensity[idx], 'co', label=f'Sky level = {sky_intensity[idx]:.2f}')\n",
    "\n",
    "ax.legend()\n",
    "ax.set_xlabel('mean fibre intensity')\n",
    "ax.set_ylabel(f'intensity at $\\\\lambda={rss0.wavelength[idx]:.2f}\\\\ \\\\AA$')\n",
    "ax.set_xscale('log')\n",
    "ax.set_yscale('log')"
   ]
  },
  {
   "cell_type": "code",
   "execution_count": null,
   "id": "5b7b8594-26ec-45d8-9f00-1d71c2842056",
   "metadata": {},
   "outputs": [],
   "source": [
    "from pykoala.plotting import utils\n",
    "from matplotlib import colors\n",
    "fig, axes = new_figure('correction maps',\n",
    "                       nrows=4, ncols=2, sharey=False, figsize=(8, 12),\n",
    "                       gridspec_kw={'left': 0.07, 'right':0.9, 'width_ratios': [1, .05], 'hspace': 0.05, 'wspace': 0.25})\n",
    "\n",
    "#(fig, ax, rss=None, x=None, y=None,\n",
    "#                fibre_diam=None, data=None, \n",
    "#                patch_args={}, use_wcs=False, fix_limits=True,\n",
    "#                cmap=DEFAULT_CMAP, norm=None, cbax=None, cblabel=None, \n",
    "#                norm_interval=visualization.MinMaxInterval, interval_args={},\n",
    "#                stretch=visualization.LinearStretch, stretch_args={})\n",
    "norm = LogNorm(vmin=1, vmax=np.nanpercentile(rss1.intensity[:, idx].value, 90))\n",
    "utils.plot_fibres(fig, axes[0, 0], rss0, data=rss0.intensity[:, idx], cbax=axes[0, 1], cblabel=f'original $I_\\\\lambda({rss0.wavelength[idx]:.2f} \\\\AA)$', norm=norm)\n",
    "utils.plot_fibres(fig, axes[1, 0], rss1, data=rss1.intensity[:, idx], cbax=axes[1, 1], cblabel='throughput corrected', norm=norm)\n",
    "#utils.plot_fibres(fig, axes[2, 0], rss1, data=rss1.intensity[:, idx] - sky_fit.intensity[idx], cbax=axes[2, 1], cblabel='sky subtracted', norm=norm)\n",
    "utils.plot_fibres(fig, axes[2, 0], rss1, data=rss1.intensity[:, idx] - sky_biweight[idx], cbax=axes[2, 1], cblabel='biweight sky', norm=norm)\n",
    "utils.plot_fibres(fig, axes[3, 0], rss1, data=rss1.intensity[:, idx] - sky_mode.intensity[idx], cbax=axes[3, 1], cblabel='mode sky', norm=norm)\n",
    "\n",
    "for ax in axes[1:, 0]:\n",
    "    ax.sharey(axes[0, 0])\n"
   ]
  },
  {
   "cell_type": "code",
   "execution_count": null,
   "id": "af8a815e-6980-428e-8e3a-7e1e1a12cf84",
   "metadata": {},
   "outputs": [],
   "source": []
  }
 ],
 "metadata": {
  "kernelspec": {
   "display_name": "venv-koala",
   "language": "python",
   "name": "venv-koala"
  },
  "language_info": {
   "codemirror_mode": {
    "name": "ipython",
    "version": 3
   },
   "file_extension": ".py",
   "mimetype": "text/x-python",
   "name": "python",
   "nbconvert_exporter": "python",
   "pygments_lexer": "ipython3",
   "version": "3.12.7"
  },
  "toc-autonumbering": false
 },
 "nbformat": 4,
 "nbformat_minor": 5
}
