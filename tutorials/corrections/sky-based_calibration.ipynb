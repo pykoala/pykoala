{
 "cells": [
  {
   "cell_type": "markdown",
   "id": "0293e361",
   "metadata": {},
   "source": [
    "# Corrections based on sky emission lines\n",
    "\n",
    "Compute relative offsets in wavelength (in pixels) and flux (arbitrary units) based on the sky emission lines, detected through a wavelet filter"
   ]
  },
  {
   "cell_type": "markdown",
   "id": "b6d607f5-ccca-46c1-a304-043a64936c41",
   "metadata": {},
   "source": [
    "# 1. Initialisation"
   ]
  },
  {
   "cell_type": "code",
   "execution_count": null,
   "id": "de348001-aa80-4816-972b-ed31b3e44b1f",
   "metadata": {},
   "outputs": [],
   "source": [
    "%matplotlib ipympl\n",
    "from matplotlib import pyplot as plt\n",
    "import numpy as np"
   ]
  },
  {
   "cell_type": "code",
   "execution_count": null,
   "id": "0351b570-0d66-437f-9ac3-e24444947bd6",
   "metadata": {},
   "outputs": [],
   "source": [
    "from pykoala import __version__\n",
    "from pykoala.instruments import koala_ifu, weave\n",
    "from pykoala.corrections import sky\n",
    "from pykoala.corrections.throughput import ThroughputCorrection\n",
    "from pykoala.corrections.wavelength import WavelengthCorrection\n",
    "print(\"pyKOALA version: \", __version__)"
   ]
  },
  {
   "cell_type": "markdown",
   "id": "75672d85-c39a-451a-a46e-f750c4357707",
   "metadata": {},
   "source": [
    "The following will probably disappear in the final version of the tutorial"
   ]
  },
  {
   "cell_type": "code",
   "execution_count": null,
   "id": "c8a0240d-3202-45a8-85dd-d640e4d6c08e",
   "metadata": {},
   "outputs": [],
   "source": [
    "import importlib\n",
    "from astropy import stats\n",
    "from astropy import units as u\n",
    "from pykoala.plotting.utils import new_figure, colour_map\n",
    "import scipy"
   ]
  },
  {
   "cell_type": "markdown",
   "id": "290b7c49",
   "metadata": {},
   "source": [
    "# 2. Load the science data\n",
    "This must be a Row-Stacked Spectra (RSS) file. Please choose one of the following examples"
   ]
  },
  {
   "cell_type": "code",
   "execution_count": null,
   "id": "03b75586-cf2d-4e5d-8798-38ae98c9b4fa",
   "metadata": {},
   "outputs": [],
   "source": [
    "example = 'KOALA'\n",
    "#example = 'WEAVE'"
   ]
  },
  {
   "cell_type": "markdown",
   "id": "ecfefaa0-403c-42ef-811b-89a067177e45",
   "metadata": {},
   "source": [
    "KOALA:"
   ]
  },
  {
   "cell_type": "code",
   "execution_count": null,
   "id": "e74b6548-e0cf-4d1c-9383-bd6db3c2cfdf",
   "metadata": {},
   "outputs": [],
   "source": [
    "if example == 'KOALA':\n",
    "    filename = f\"../data/27feb20036red.fits\"\n",
    "    rss0 = koala_ifu.koala_rss(filename)\n",
    "    wavelength_AA = rss0.wavelength"
   ]
  },
  {
   "cell_type": "markdown",
   "id": "92234ead-3106-46d5-8df8-740150f37927",
   "metadata": {},
   "source": [
    "WEAVE:"
   ]
  },
  {
   "cell_type": "code",
   "execution_count": null,
   "id": "66885b26-0dfe-478d-9976-c2d3f2b9e04d",
   "metadata": {},
   "outputs": [],
   "source": [
    "if example == 'WEAVE':\n",
    "    filename = f\"../data/weave/single_3042890.fit\"\n",
    "    rss0 = weave.weave_rss(filename)\n",
    "    wavelength_AA = rss0.wavelength.to_value(u.Angstrom)"
   ]
  },
  {
   "cell_type": "markdown",
   "id": "78cd6529-e090-4084-a48d-cc5e870e8f56",
   "metadata": {},
   "source": [
    "## Summary"
   ]
  },
  {
   "cell_type": "code",
   "execution_count": null,
   "id": "09e6b80a-bb6a-4415-9f6e-1ba560a8efc8",
   "metadata": {},
   "outputs": [],
   "source": [
    "print(f\"Analysing object {rss0.info['name']} read from {filename}\")\n",
    "print('- info:')\n",
    "print(rss0.info.keys())\n",
    "print('- log:')\n",
    "rss0.history.show()\n"
   ]
  },
  {
   "cell_type": "markdown",
   "id": "794ae740-77de-4211-a2dd-a92b688ab640",
   "metadata": {},
   "source": [
    "# 3. Wavelet filter"
   ]
  },
  {
   "cell_type": "code",
   "execution_count": null,
   "id": "eb206ff8-d0e0-4282-a86e-9633d245625a",
   "metadata": {},
   "outputs": [],
   "source": [
    "importlib.reload(sky)"
   ]
  },
  {
   "cell_type": "markdown",
   "id": "a9615d66-3a43-40be-8cef-f917a19e228a",
   "metadata": {},
   "source": [
    "## First iteration"
   ]
  },
  {
   "cell_type": "code",
   "execution_count": null,
   "id": "70b28011-dbf6-4fcc-8ea3-7d48df1d2394",
   "metadata": {},
   "outputs": [],
   "source": [
    "wavelet1 = sky.WaveletFilter(rss0)"
   ]
  },
  {
   "cell_type": "code",
   "execution_count": null,
   "id": "afc7f504-5dec-4415-abb7-267b46be8d6d",
   "metadata": {
    "tags": []
   },
   "outputs": [],
   "source": [
    "throughput_corr = ThroughputCorrection(throughput=wavelet1.get_throughput_object())"
   ]
  },
  {
   "cell_type": "code",
   "execution_count": null,
   "id": "19e51811-f1a2-4f48-b72f-ce440953172f",
   "metadata": {
    "tags": []
   },
   "outputs": [],
   "source": [
    "wave_corr = WavelengthCorrection(offset=wavelet1.get_wavelength_offset())"
   ]
  },
  {
   "cell_type": "code",
   "execution_count": null,
   "id": "b98bac96-fa47-4102-be3f-c991dad4b8b8",
   "metadata": {},
   "outputs": [],
   "source": [
    "rss1 = wave_corr.apply(rss0)\n",
    "rss1 = throughput_corr.apply(rss1)"
   ]
  },
  {
   "cell_type": "markdown",
   "id": "0fc78a57-c08e-4318-ae7a-bd9d5b0be1d6",
   "metadata": {},
   "source": [
    "## Second iteration"
   ]
  },
  {
   "cell_type": "code",
   "execution_count": null,
   "id": "42c8fc78-c0f7-4b66-9873-c0d17b712f93",
   "metadata": {},
   "outputs": [],
   "source": [
    "wavelet2 = sky.WaveletFilter(rss1)"
   ]
  },
  {
   "cell_type": "code",
   "execution_count": null,
   "id": "7a58c000-c4bb-4de2-b51b-b603950fa91a",
   "metadata": {
    "tags": []
   },
   "outputs": [],
   "source": [
    "throughput_corr = ThroughputCorrection(throughput=wavelet2.get_throughput_object())"
   ]
  },
  {
   "cell_type": "code",
   "execution_count": null,
   "id": "526b4915-cded-45af-8a45-ff8e6f808a89",
   "metadata": {
    "tags": []
   },
   "outputs": [],
   "source": [
    "wave_corr = WavelengthCorrection(offset=wavelet2.get_wavelength_offset())"
   ]
  },
  {
   "cell_type": "code",
   "execution_count": null,
   "id": "10b31160-c60f-483e-a129-b1602fb26a66",
   "metadata": {},
   "outputs": [],
   "source": [
    "rss2 = wave_corr.apply(rss1)\n",
    "rss2 = throughput_corr.apply(rss2)"
   ]
  },
  {
   "cell_type": "code",
   "execution_count": null,
   "id": "968ee517-7bbb-4d57-a81d-8b376d82c546",
   "metadata": {},
   "outputs": [],
   "source": [
    "rss2.history.show()"
   ]
  },
  {
   "cell_type": "markdown",
   "id": "c1e236aa-046c-4548-ac39-8ce23de68ab0",
   "metadata": {},
   "source": [
    "# 4. Sky subtraction"
   ]
  },
  {
   "cell_type": "code",
   "execution_count": null,
   "id": "531b7610-0789-47ee-9113-a7a0e47c59ce",
   "metadata": {
    "tags": []
   },
   "outputs": [],
   "source": [
    "importlib.reload(sky)"
   ]
  },
  {
   "cell_type": "code",
   "execution_count": null,
   "id": "22b327e3-5fd2-4f1d-88ca-076392ed3e67",
   "metadata": {
    "tags": []
   },
   "outputs": [],
   "source": [
    "sky0_fit = sky.SkyFromObject(rss0, bckgr_estimator='fit', bckgr_params={'wavelet': wavelet1})"
   ]
  },
  {
   "cell_type": "code",
   "execution_count": null,
   "id": "ca3d98d9-c2f7-4e16-a3ed-273ee31a8b6b",
   "metadata": {},
   "outputs": [],
   "source": [
    "sky_fit = sky.SkyFromObject(rss1, bckgr_estimator='fit', bckgr_params={'wavelet': wavelet1})"
   ]
  },
  {
   "cell_type": "code",
   "execution_count": null,
   "id": "2f7c6a07-215e-4c09-bf3b-5533b9abaaae",
   "metadata": {},
   "outputs": [],
   "source": [
    "sky2_fit = sky.SkyFromObject(rss2, bckgr_estimator='fit', bckgr_params={'wavelet': wavelet2})"
   ]
  },
  {
   "cell_type": "code",
   "execution_count": null,
   "id": "113f36a8-d498-4171-a6a1-8ec30625e3ab",
   "metadata": {},
   "outputs": [],
   "source": [
    "sky_med = sky.SkyFromObject(rss1, bckgr_estimator='percentile')"
   ]
  },
  {
   "cell_type": "code",
   "execution_count": null,
   "id": "5131773b-5c93-43ac-a9a7-25768eb28f41",
   "metadata": {},
   "outputs": [],
   "source": [
    "sky_mad = sky.SkyFromObject(rss1, bckgr_estimator='mad', source_mask_nsigma=3)"
   ]
  },
  {
   "cell_type": "code",
   "execution_count": null,
   "id": "99fff45d-4284-4629-87ea-a0a4d532d610",
   "metadata": {
    "tags": []
   },
   "outputs": [],
   "source": [
    "fig, axes = new_figure('sky model')\n",
    "\n",
    "ax = axes[0, 0]\n",
    "\n",
    "ax.plot(wavelength_AA, sky_med.intensity, 'b-', alpha=.5, label='median')\n",
    "std = np.sqrt(sky_med.variance)\n",
    "ax.fill_between(wavelength_AA, sky_med.intensity-std, sky_med.intensity+std, color='b', alpha=.1, label='$16-84$ \\\\%')\n",
    "\n",
    "ax.plot(wavelength_AA, sky_mad.intensity, 'b--', alpha=.5, label='MAD + 3-$\\\\sigma$ clip')\n",
    "\n",
    "ax.plot(wavelength_AA, sky0_fit.intensity, 'k:', alpha=.5, label='uncorrected fit')\n",
    "ax.plot(wavelength_AA, sky_fit.intensity, 'k-', alpha=.5, label='fit')\n",
    "ax.plot(wavelength_AA, sky2_fit.intensity, 'r-', alpha=.5, label='iter 2')\n",
    "\n",
    "ax.legend()\n",
    ","
   ]
  },
  {
   "cell_type": "markdown",
   "id": "7814656d-c0d0-4822-a4d2-73676a09be20",
   "metadata": {},
   "source": [
    "# 5. Quality control plots"
   ]
  },
  {
   "cell_type": "markdown",
   "id": "3f0318dc-efb2-4c30-94f3-9cc41887e730",
   "metadata": {},
   "source": [
    "## Wavlelet filter"
   ]
  },
  {
   "cell_type": "code",
   "execution_count": null,
   "id": "910f9559-c9e7-4681-bcf6-4feeb9c79c48",
   "metadata": {},
   "outputs": [],
   "source": [
    "wavelet1.qc_plots()"
   ]
  },
  {
   "cell_type": "markdown",
   "id": "26904aca-deb0-4197-b21f-8fac6f481945",
   "metadata": {},
   "source": [
    "## Relative calibration"
   ]
  },
  {
   "cell_type": "code",
   "execution_count": null,
   "id": "cd597c06-cad3-4f9d-abbc-a0e32ce58e9e",
   "metadata": {},
   "outputs": [],
   "source": [
    "fig, axes = new_figure('sky-based relative calibration', nrows=2)\n",
    "\n",
    "ax = axes[0, 0]\n",
    "ax.set_ylabel('relative throughput')\n",
    "ax.set_ylim(.4, 2.1)\n",
    "\n",
    "ax.plot(wavelet1.fibre_throughput, 'k-', label='iter 1')\n",
    "ax.plot(wavelet2.fibre_throughput, 'k-', alpha=.5, label='iter 2')\n",
    "\n",
    "p16, p50, p84 = np.nanpercentile(wavelet1.filtered / wavelet1.sky[np.newaxis, :], [16, 50, 84], axis=1)\n",
    "ax.plot(p50, 'r--', alpha=.5)\n",
    "ax.fill_between(np.arange(p50.size), p16, p84, color='r', alpha=0.1)\n",
    "p16, p50, p84 = np.nanpercentile(wavelet2.filtered / wavelet2.sky[np.newaxis, :], [16, 50, 84], axis=1)\n",
    "ax.plot(p50, 'y--', alpha=.5)\n",
    "\n",
    "ax.legend()\n",
    "\n",
    "\n",
    "ax = axes[1, 0]\n",
    "ax.set_ylabel('relative offset [pix]')\n",
    "\n",
    "ax.plot(wavelet1.fibre_offset, 'k-', label='iter 1')\n",
    "ax.plot(wavelet2.fibre_offset, 'k-', alpha=.5, label='iter 2')\n",
    "\n",
    "ax.legend()\n",
    "ax.set_xlabel('fibre')\n",
    ","
   ]
  },
  {
   "cell_type": "code",
   "execution_count": null,
   "id": "86fceea5-e42e-4e2e-a98a-2b173cb3985b",
   "metadata": {},
   "outputs": [],
   "source": [
    "from pykoala.plotting import utils\n",
    "from matplotlib import colors\n",
    "importlib.reload(utils)\n",
    "fig, axes = new_figure('relative calibration maps',\n",
    "                       nrows=2, ncols=2, sharey=False, figsize=(8, 10),\n",
    "                       gridspec_kw={'left': 0.07, 'right':0.9, 'width_ratios': [1, .05], 'hspace': 0.05, 'wspace': 0.25})\n",
    "\n",
    "im, cb = utils.fibre_map(fig, axes[0, 0], 'relative throughput', rss0, wavelet1.fibre_throughput, cbax=axes[0, 1], cmap='Spectral', norm=colors.Normalize())\n",
    "im, cb = utils.fibre_map(fig, axes[1, 0], 'relative offset', rss0, wavelet1.fibre_offset, cbax=axes[1, 1], cmap='Spectral', norm=colors.Normalize())\n",
    "\n",
    "axes[0, 0].sharey(axes[1, 0])\n"
   ]
  },
  {
   "cell_type": "markdown",
   "id": "c795e84d-5017-48d0-b567-2b5ba9a92a4f",
   "metadata": {},
   "source": [
    "## Single fibre tests"
   ]
  },
  {
   "cell_type": "code",
   "execution_count": null,
   "id": "45f35529-64e8-4295-a371-194d4393820c",
   "metadata": {},
   "outputs": [],
   "source": [
    "fibre = 42"
   ]
  },
  {
   "cell_type": "code",
   "execution_count": null,
   "id": "0f2c870d-5219-448d-b251-1bc67f82c929",
   "metadata": {},
   "outputs": [],
   "source": [
    "fig, axes = new_figure('single throughput', nrows=3, sharex=False, sharey=False, gridspec_kw={'hspace': .2})\n",
    "\n",
    "ax = axes[0, 0]\n",
    "ax.hist(wavelet1.filtered[fibre]*wavelet1.fibre_throughput[fibre] / wavelet1.sky, bins=np.linspace(0, 7.5, 101), color='k', alpha=.2)\n",
    "ax.hist(wavelet1.filtered[fibre] / wavelet1.sky, bins=np.linspace(0, 7.5, 101), color='b', alpha=.5)\n",
    "\n",
    "ax = axes[1, 0]\n",
    "ax.set_ylabel('wavelet')\n",
    "ax.plot(wavelet1.wavelength, wavelet1.sky, 'b:', alpha=.5, label='sky')\n",
    "ax.plot(wavelet1.wavelength, wavelet1.filtered[fibre]*wavelet1.fibre_throughput[fibre], 'k--', alpha=.2, label='data')\n",
    "ax.plot(wavelet1.wavelength, wavelet1.filtered[fibre], 'k-', alpha=.5, label='throughput-corrected')\n",
    "ax.plot(wavelet2.wavelength, wavelet2.filtered[fibre], 'r-', alpha=.5, label='iter 2')\n",
    "ax.legend()\n",
    "\n",
    "\n",
    "ax = axes[2, 0]\n",
    "ax.set_ylabel('intensity')\n",
    "ax.sharex(axes[1, 0])\n",
    "\n",
    "x = rss0.wavelength\n",
    "if isinstance(x, u.Quantity):\n",
    "    x = x.to_value(u.AA)\n",
    "\n",
    "ax.plot(x, rss0.intensity[fibre], 'k--', alpha=.2, label=f'fibre {fibre}')\n",
    "ax.plot(x, rss1.intensity[fibre], 'k-', alpha=.5, label='corrected')\n",
    "ax.plot(x, rss1.intensity[fibre] - sky_fit.intensity, 'c-', alpha=.5, label='sky-subtracted')\n",
    "ax.plot(x, rss2.intensity[fibre] - sky2_fit.intensity, 'c--', alpha=.5, label='iter 2')\n",
    "\n",
    "ax.legend()\n",
    "ax.set_xlabel('wavelength [\\AA]')\n"
   ]
  },
  {
   "cell_type": "code",
   "execution_count": null,
   "id": "66b58c19-611b-4607-9720-d6646a78c711",
   "metadata": {},
   "outputs": [],
   "source": [
    "fig, axes = new_figure(f'single wavelength calibration')\n",
    "\n",
    "ax = axes[0, 0]\n",
    "\n",
    "mid = wavelet1.wavelength.size // 2\n",
    "s = wavelet1.scale\n",
    "x = np.nanmedian(wavelet1.filtered, axis=0)\n",
    "x[~ np.isfinite(x)] = 0\n",
    "x = scipy.signal.fftconvolve(wavelet1.filtered[fibre], x[::-1], mode='same')[mid-s:mid+s+1]\n",
    "idx = np.arange(x.size)\n",
    "\n",
    "ax.plot(idx - s, x/np.max(x), 'k-', label=f'fibre {fibre}')\n",
    "ax.axvline(wavelet1.fibre_offset[fibre], c='k', ls=':', label=f'offset = {wavelet1.fibre_offset[fibre]:.2f} pix')\n",
    "ax.plot(2*wavelet1.fibre_offset[fibre] - (idx - s), x/np.max(x), 'k--', alpha=.25, label='reflected cross-correlation')\n",
    "\n",
    "ax.legend()\n",
    "ax.set_ylabel('cross-correlation with sky')\n",
    "ax.set_xlabel('offset [pix]')\n",
    ","
   ]
  },
  {
   "cell_type": "markdown",
   "id": "1048b163-ee29-4b39-9f05-7ab90ac439d0",
   "metadata": {},
   "source": [
    "## Corrected intensities"
   ]
  },
  {
   "cell_type": "code",
   "execution_count": null,
   "id": "2cfc7378-3b76-4976-b18b-243f2ddc7daf",
   "metadata": {},
   "outputs": [],
   "source": [
    "fig, axes = new_figure('skyline-based correction',\n",
    "                       nrows=2, ncols=3, sharex=False, sharey=False,\n",
    "                       gridspec_kw={'left': 0.07, 'right':0.9, 'width_ratios': [1, 1, .05], 'hspace': 0.25, 'wspace': 0.25})\n",
    "\n",
    "x = rss0.wavelength\n",
    "if isinstance(x, u.Quantity):\n",
    "    x = x.to_value(u.AA)\n",
    "\n",
    "im, cb = colour_map(fig, axes[0, 0], 'intensity', rss0.intensity, x=x, ylabel='fibre', cbax=axes[0, 2])\n",
    "im, cb = colour_map(fig, axes[0, 1], '.', rss1.intensity, x=x, norm=im.norm, cbax=False)\n",
    "\n",
    "im, cb = colour_map(fig, axes[1, 0], 'subtracted', rss0.intensity - sky0_fit.intensity, x=x, cbax=axes[1, 2])\n",
    "im, cb = colour_map(fig, axes[1, 1], '.', rss1.intensity - sky_fit.intensity, x=x, norm=im.norm, cbax=False)\n",
    "\n",
    "for ax in [axes[0, 1], axes[1, 0], axes[1, 1]]:\n",
    "    ax.sharex(axes[0, 0])\n",
    "    ax.sharey(axes[0, 0])\n"
   ]
  },
  {
   "cell_type": "markdown",
   "id": "03f525e1-8d1e-4f5e-a323-25c0599aa6b7",
   "metadata": {},
   "source": [
    "## Sky subtraction"
   ]
  },
  {
   "cell_type": "code",
   "execution_count": null,
   "id": "21ebab4e-7d27-419c-9202-19beeccbab9a",
   "metadata": {},
   "outputs": [],
   "source": [
    "flux = np.nanmean(rss1.intensity, axis=1)\n",
    "mean_flux = np.nanmean(flux)\n",
    "flux_cut_low = np.nanmedian(flux[flux < mean_flux])\n",
    "flux_cut_hi = 2*mean_flux - flux_cut_low\n",
    "flux_low = np.nanmean(flux[flux < flux_cut_low])\n",
    "flux_med = np.nanmean(flux[(flux > flux_cut_low) & (flux < mean_flux)])\n",
    "flux_hi = np.nanmean(flux[(flux > mean_flux) & (flux < flux_cut_hi)])\n",
    "\n",
    "I_low = np.nanmean(rss1.intensity[flux < flux_cut_low, :], axis=0)\n",
    "I_med = np.nanmean(rss1.intensity[(flux > flux_cut_low) & (flux < mean_flux), :], axis=0)\n",
    "I_hi = np.nanmean(rss1.intensity[(flux > mean_flux) & (flux < flux_cut_hi), :], axis=0)\n",
    "m = (I_hi - I_low) / (flux_hi - flux_low)\n",
    "b = I_low - m * flux_low\n",
    "\n",
    "sky_flux_candidate = np.arange(0, flux_cut_hi, .01*np.min(flux))\n",
    "sky_filtered = m[np.newaxis, :] * sky_flux_candidate[:, np.newaxis] + b[np.newaxis, :]\n",
    "x = np.nancumsum(sky_filtered, axis=1)\n",
    "s = wavelet1.scale\n",
    "sky_filtered = (x[:, 2*s:-s] - x[:, s:-2*s]) / s\n",
    "sky_filtered -= (x[:, 3*s:] - x[:, :-3*s]) / (3*s)\n",
    "chi2_sky = np.nanstd(sky_filtered*wavelet1.sky_weight - wavelet1.sky, axis=1)\n",
    "chi2_no_sky = np.nanstd(sky_filtered*(1 - wavelet1.sky_weight), axis=1)\n",
    "\n",
    "sky_flux = sky_flux_candidate[np.nanargmin(chi2_no_sky)]\n",
    "sky_intensity = b + m*sky_flux"
   ]
  },
  {
   "cell_type": "code",
   "execution_count": null,
   "id": "a002b44c-9079-46b1-810f-0d1d53a0ca72",
   "metadata": {},
   "outputs": [],
   "source": [
    "fig, axes = new_figure('get sky flux', nrows=1)\n",
    "\n",
    "ax = axes[0, 0]\n",
    "ax.plot(sky_flux_candidate, chi2_sky, 'b-')\n",
    "ax.plot(sky_flux_candidate, chi2_no_sky, 'r-')\n",
    "ax.axvline(sky_flux, c='k', ls=':', label=f'sky flux = {sky_flux:.2f}')\n",
    "ax.legend()\n",
    ","
   ]
  },
  {
   "cell_type": "code",
   "execution_count": null,
   "id": "84856228-95e0-4ec3-8171-5592dd294627",
   "metadata": {},
   "outputs": [],
   "source": [
    "fig, axes = new_figure('fit coefficients', nrows=4)\n",
    "\n",
    "ax = axes[0, 0]\n",
    "ax.set_ylabel('m')\n",
    "ax.plot(wavelength_AA, m, 'k-')\n",
    "#ax.plot(wavelet1.wavelength, wavelet1.sky_weight, 'b-')\n",
    "#ax.plot(rss1.wavelength, sky_intensity / np.nanmean(sky_intensity), 'c-')\n",
    "\n",
    "\n",
    "ax = axes[1, 0]\n",
    "ax.set_ylabel('b')\n",
    "ax.plot(wavelength_AA, sky_fit.intensity, 'r-')\n",
    "ax.plot(wavelength_AA, sky_intensity, 'c-')\n",
    "ax.plot(wavelength_AA, b, 'k-')\n",
    "#ax.set_ylim(-10, 500)\n",
    "\n",
    "\n",
    "ax = axes[2, 0]\n",
    "s = wavelet1.scale\n",
    "ax.set_ylabel(f'wavelet b ({s} pix)')\n",
    "\n",
    "x = np.nancumsum(sky_intensity)\n",
    "sky_filtered = (x[2*s:-s] - x[s:-2*s]) / s\n",
    "sky_filtered -= (x[3*s:] - x[:-3*s]) / (3*s)\n",
    "ax.plot(wavelet1.wavelength, sky_filtered, 'r-', alpha=.5)\n",
    "ax.plot(wavelet1.wavelength, sky_filtered * wavelet1.sky_weight, 'k-', alpha=.5)\n",
    "ax.plot(wavelet1.wavelength, wavelet1.sky, 'c-', alpha=.5)\n",
    "\n",
    "ax = axes[3, 0]\n",
    "ax.plot(wavelet1.wavelength, wavelet1.sky_weight)"
   ]
  },
  {
   "cell_type": "markdown",
   "id": "14e4091c-018e-430e-a43f-36a2c71da2e9",
   "metadata": {},
   "source": [
    "## Single wavelength"
   ]
  },
  {
   "cell_type": "code",
   "execution_count": null,
   "id": "c22d6dc0-22e9-4b56-90b8-684adf163ac9",
   "metadata": {},
   "outputs": [],
   "source": [
    "wl = 6700\n",
    "idx = np.searchsorted(wavelength_AA, wl)"
   ]
  },
  {
   "cell_type": "code",
   "execution_count": null,
   "id": "f2dd420f-c14a-40f3-8674-b696e7c1de4c",
   "metadata": {},
   "outputs": [],
   "source": [
    "fig, axes = new_figure('linear fit')\n",
    "\n",
    "ax = axes[0, 0]\n",
    "\n",
    "ax.plot(flux, rss1.intensity[:, idx], 'k.')\n",
    "ax.axvline(mean_flux, c='r', ls='--', label=f'mean flux: {mean_flux:.2f}')\n",
    "ax.axvline(flux_cut_low, c='r', ls=':', label=f'flux low: {flux_cut_low:.2f}')\n",
    "ax.axvline(flux_cut_hi, c='r', ls=':', label=f'flux high: {flux_cut_hi:.2f}')\n",
    "\n",
    "x = np.nanpercentile(flux, np.linspace(0, 100, 101))\n",
    "ax.plot(x, m[idx]*x + b[idx], 'b:', label=f'm={m[idx]:.2f} b={b[idx]:.2f}')\n",
    "ax.plot([flux_low, flux_med, flux_hi], [I_low[idx], I_med[idx], I_hi[idx]], 'ro-')\n",
    "\n",
    "ax.plot(sky_flux, sky_intensity[idx], 'co', label=f'Sky level = {sky_intensity[idx]:.2f}')\n",
    "\n",
    "ax.legend()\n",
    "ax.set_xlabel('mean fibre intensity')\n",
    "ax.set_ylabel(f'intensity at $\\\\lambda={wavelength_AA[idx]:.2f}$ \\\\AA')\n",
    "ax.set_xscale('log')\n",
    "ax.set_yscale('log')"
   ]
  },
  {
   "cell_type": "code",
   "execution_count": null,
   "id": "2b53264d-be65-4e20-b04f-f8ddbd3951bd",
   "metadata": {},
   "outputs": [],
   "source": [
    "fig, axes = new_figure('monochrome hist')\n",
    "\n",
    "ax = axes[0, 0]\n",
    "\n",
    "x = np.linspace(b[idx], 3*sky_intensity[idx] - 2*b[idx], 101)\n",
    "\n",
    "ax.hist(rss1.intensity[:, idx], bins=x, alpha=.5)\n",
    "ax.axvline(sky_intensity[idx], c='k', ls='--')\n",
    "\n",
    "ax.legend()\n",
    "ax.set_ylabel('number of fibres')\n",
    "ax.set_xlabel(f'intensity at $\\\\lambda={wavelength_AA[idx]:.2f}$ \\\\AA')\n",
    "#ax.set_xscale('log')\n",
    "ax.set_yscale('log')"
   ]
  },
  {
   "cell_type": "code",
   "execution_count": null,
   "id": "5b7b8594-26ec-45d8-9f00-1d71c2842056",
   "metadata": {},
   "outputs": [],
   "source": [
    "from pykoala.plotting import utils\n",
    "from matplotlib import colors\n",
    "importlib.reload(utils)\n",
    "fig, axes = new_figure('correction maps',\n",
    "                       nrows=3, ncols=2, sharey=False, figsize=(8, 12),\n",
    "                       gridspec_kw={'left': 0.07, 'right':0.9, 'width_ratios': [1, .05], 'hspace': 0.05, 'wspace': 0.25})\n",
    "\n",
    "im, cb = utils.fibre_map(fig, axes[0, 0], f'original $I_\\\\lambda({wavelength_AA[idx]:.2f} \\\\AA)$', rss0, rss0.intensity[:, idx], cbax=axes[0, 1])\n",
    "im, cb = utils.fibre_map(fig, axes[1, 0], 'throughput corrected', rss1, rss1.intensity[:, idx], cbax=axes[1, 1])\n",
    "im, cb = utils.fibre_map(fig, axes[2, 0], 'sky subtracted', rss1, rss1.intensity[:, idx] - sky_fit.intensity[idx], cbax=axes[2, 1])\n",
    "\n",
    "for ax in axes[1:, 0]:\n",
    "    ax.sharey(axes[0, 0])\n"
   ]
  },
  {
   "cell_type": "code",
   "execution_count": null,
   "id": "548d570f-59ce-4e3b-88b9-b71410732077",
   "metadata": {},
   "outputs": [],
   "source": []
  },
  {
   "cell_type": "code",
   "execution_count": null,
   "id": "38862216-45c0-4f35-b66d-de6ac3c83c02",
   "metadata": {},
   "outputs": [],
   "source": []
  }
 ],
 "metadata": {
  "kernelspec": {
   "display_name": "Python 3 (ipykernel)",
   "language": "python",
   "name": "python3"
  },
  "language_info": {
   "codemirror_mode": {
    "name": "ipython",
    "version": 3
   },
   "file_extension": ".py",
   "mimetype": "text/x-python",
   "name": "python",
   "nbconvert_exporter": "python",
   "pygments_lexer": "ipython3",
   "version": "3.11.5"
  },
  "toc-autonumbering": false
 },
 "nbformat": 4,
 "nbformat_minor": 5
}
