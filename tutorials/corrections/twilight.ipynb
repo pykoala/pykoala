{
 "cells": [
  {
   "cell_type": "markdown",
   "id": "0293e361",
   "metadata": {},
   "source": [
    "# Twilight corrections\n",
    "\n",
    "**WARNING**: Preliminary, potentially unstable tests based on twilight flats. Use with (more) caution (than the rest of the package ;^D)."
   ]
  },
  {
   "cell_type": "markdown",
   "id": "b6d607f5-ccca-46c1-a304-043a64936c41",
   "metadata": {},
   "source": [
    "# 1. Initialisation"
   ]
  },
  {
   "cell_type": "code",
   "execution_count": null,
   "id": "7eb3c5e1-301f-4665-be7f-b902bd3d2944",
   "metadata": {},
   "outputs": [],
   "source": [
    "%matplotlib ipympl\n",
    "from matplotlib import pyplot as plt\n",
    "import numpy as np\n",
    "from scipy.signal import correlate"
   ]
  },
  {
   "cell_type": "code",
   "execution_count": null,
   "id": "0351b570-0d66-437f-9ac3-e24444947bd6",
   "metadata": {},
   "outputs": [],
   "source": [
    "from pykoala import __version__\n",
    "from pykoala.instruments import koala_ifu, weave\n",
    "from pykoala.corrections.wavelength import SolarCrossCorrOffset\n",
    "from pykoala.plotting.utils import new_figure, colour_map\n",
    "print(\"pyKOALA version: \", __version__)"
   ]
  },
  {
   "cell_type": "markdown",
   "id": "75672d85-c39a-451a-a46e-f750c4357707",
   "metadata": {},
   "source": [
    "The following will probably disappear in the final version of the tutorial"
   ]
  },
  {
   "cell_type": "code",
   "execution_count": null,
   "id": "975a781d-ce14-42f8-bbfb-72482c3a4d64",
   "metadata": {},
   "outputs": [],
   "source": [
    "%load_ext autoreload\n",
    "%autoreload 2"
   ]
  },
  {
   "cell_type": "markdown",
   "id": "290b7c49",
   "metadata": {},
   "source": [
    "# 2. Load the science data\n",
    "This must be a Row-Stacked Spectra (RSS) file. Please choose one of the following examples"
   ]
  },
  {
   "cell_type": "code",
   "execution_count": null,
   "id": "03b75586-cf2d-4e5d-8798-38ae98c9b4fa",
   "metadata": {},
   "outputs": [],
   "source": [
    "#example = 'KOALA'\n",
    "example = 'WEAVE'"
   ]
  },
  {
   "cell_type": "markdown",
   "id": "ecfefaa0-403c-42ef-811b-89a067177e45",
   "metadata": {},
   "source": [
    "KOALA:"
   ]
  },
  {
   "cell_type": "code",
   "execution_count": null,
   "id": "e74b6548-e0cf-4d1c-9383-bd6db3c2cfdf",
   "metadata": {},
   "outputs": [],
   "source": [
    "if example == 'KOALA':\n",
    "    filename = f\"../data/27feb20036red.fits\"\n",
    "    rss0 = koala_ifu.koala_rss(filename)\n",
    "    wavelength_AA = rss0.wavelength"
   ]
  },
  {
   "cell_type": "markdown",
   "id": "92234ead-3106-46d5-8df8-740150f37927",
   "metadata": {},
   "source": [
    "WEAVE:"
   ]
  },
  {
   "cell_type": "code",
   "execution_count": null,
   "id": "66885b26-0dfe-478d-9976-c2d3f2b9e04d",
   "metadata": {},
   "outputs": [],
   "source": [
    "if example == 'WEAVE':\n",
    "    #filename = f\"../data/weave/v3/WA_J024019.19+321544.10/single_3042890.fit\"\n",
    "    #rss0 = weave.weave_rss(filename)\n",
    "    #wavelength_AA = rss0.wavelength.to_value(u.Angstrom)\n",
    "    filename = f\"../data/weave/solar/msp_3059302.fit\"\n",
    "    rss = weave.weave_rss(filename)\n",
    "    wavelength_AA = rss.wavelength"
   ]
  },
  {
   "cell_type": "markdown",
   "id": "78cd6529-e090-4084-a48d-cc5e870e8f56",
   "metadata": {},
   "source": [
    "## Summary"
   ]
  },
  {
   "cell_type": "code",
   "execution_count": null,
   "id": "09e6b80a-bb6a-4415-9f6e-1ba560a8efc8",
   "metadata": {},
   "outputs": [],
   "source": [
    "print(f\"Analysing object {rss.info['name']} read from {filename}\")\n",
    "print('- info:')\n",
    "print(rss.info.keys())\n",
    "print('- log:')\n",
    "rss.history.show()\n"
   ]
  },
  {
   "cell_type": "markdown",
   "id": "794ae740-77de-4211-a2dd-a92b688ab640",
   "metadata": {},
   "source": [
    "# 3. Solar spectrum"
   ]
  },
  {
   "cell_type": "code",
   "execution_count": null,
   "id": "eb206ff8-d0e0-4282-a86e-9633d245625a",
   "metadata": {},
   "outputs": [],
   "source": [
    "solar_correction = SolarCrossCorrOffset.from_fits()"
   ]
  },
  {
   "cell_type": "markdown",
   "id": "c95767ae-63e5-4efa-9173-4ce27bfa6674",
   "metadata": {},
   "source": [
    "# 4. Transforms"
   ]
  },
  {
   "cell_type": "markdown",
   "id": "a49e4581-544f-4b33-aeda-3270e36ce99c",
   "metadata": {},
   "source": [
    "## Normalisation"
   ]
  },
  {
   "cell_type": "code",
   "execution_count": null,
   "id": "a12a1e5c-220a-48f0-bab6-c13e364f3bf6",
   "metadata": {},
   "outputs": [],
   "source": [
    "norm_range = np.array([7000., 7100.])"
   ]
  },
  {
   "cell_type": "code",
   "execution_count": null,
   "id": "b9702488-1a55-4de4-93a6-ba885be20190",
   "metadata": {},
   "outputs": [],
   "source": [
    "#normalised_rss = np.nanmedian(rss.intensity, axis=0).copy()\n",
    "fibre = 42\n",
    "normalised_rss = rss.intensity[fibre]\n",
    "\n",
    "normalised_rss /= np.nanmedian(normalised_rss[(wavelength_AA >= norm_range[0]) & (wavelength_AA <= norm_range[1])])"
   ]
  },
  {
   "cell_type": "code",
   "execution_count": null,
   "id": "93c0f78d-308a-44e3-b984-70525b9a9aac",
   "metadata": {},
   "outputs": [],
   "source": [
    "normalised_sun = solar_correction.sun_intensity.copy()\n",
    "normalised_sun /= np.nanmedian(normalised_sun[(solar_correction.sun_wavelength >= norm_range[0]) & (solar_correction.sun_wavelength <= norm_range[1])])"
   ]
  },
  {
   "cell_type": "markdown",
   "id": "b0a732d3-023c-4d0c-a2ad-4d6d75266488",
   "metadata": {},
   "source": [
    "## Wavelet filter"
   ]
  },
  {
   "cell_type": "code",
   "execution_count": null,
   "id": "5de020c4-da29-4fc4-8505-0cf843ddc925",
   "metadata": {},
   "outputs": [],
   "source": [
    "def integrate(y, x=None):\n",
    "    if x is None:\n",
    "        x = np.arange(y.size)\n",
    "    x_edges = np.hstack([2*x[0] - x[1], (x[1:] + x[:-1]) / 2, 2*x[-1] - x[-2]])\n",
    "    dx = np.diff(x_edges)\n",
    "    integral = np.hstack([0, np.nancumsum(y * dx)])\n",
    "    return x_edges, integral\n",
    "\n",
    "def mean_filter(x0, y0, x, h):\n",
    "    x0_edges, integral_y0 = integrate(y0, x0)\n",
    "    return (np.interp(x+h/2, x0_edges, integral_y0) - np.interp(x-h/2, x0_edges, integral_y0)) / h\n",
    "\n",
    "def wavelet_filter(x0, y0, x, h):\n",
    "    x0_edges, integral_y0 = integrate(y0, x0)\n",
    "    filtered = (np.interp(x+h/2, x0_edges, integral_y0) - np.interp(x-h/2, x0_edges, integral_y0)) / h\n",
    "    filtered -= (np.interp(x+1.5*h, x0_edges, integral_y0) - np.interp(x-1.5*h, x0_edges, integral_y0)) / (3*h)\n",
    "    norm = np.sqrt(mean_filter(x, filtered**2, x, 30*h))\n",
    "    filtered /= norm\n",
    "    return filtered, norm"
   ]
  },
  {
   "cell_type": "code",
   "execution_count": null,
   "id": "d6f75a34-ad7a-42fb-9f08-fbec6ba5f7ff",
   "metadata": {},
   "outputs": [],
   "source": [
    "h = 3  # AA\n",
    "shift = 5  # AA\n",
    "rss_filtered, rss_norm = wavelet_filter(wavelength_AA, normalised_rss, wavelength_AA, h)\n",
    "sun_filtered, sun_norm = wavelet_filter(solar_correction.sun_wavelength, normalised_sun, wavelength_AA, h)"
   ]
  },
  {
   "cell_type": "markdown",
   "id": "cc155152-b316-42b8-bbee-b14c973d1b7d",
   "metadata": {},
   "source": [
    "## Cross-correlation"
   ]
  },
  {
   "cell_type": "code",
   "execution_count": null,
   "id": "a50f09e0-56d4-468b-b97b-6b838655b7af",
   "metadata": {
    "tags": []
   },
   "outputs": [],
   "source": [
    "shift = np.linspace(-5, 5, 101)\n",
    "shift_idx = np.argmin(shift**2)\n",
    "\n",
    "cross_correlation = np.empty((shift.size, wavelength_AA.size))\n",
    "for i in range(shift.size):\n",
    "    cross_correlation[i] = mean_filter(\n",
    "        wavelength_AA,\n",
    "        rss_filtered * np.interp(wavelength_AA, wavelength_AA+shift[i], sun_filtered),\n",
    "        wavelength_AA+shift[i], h)\n",
    "\n"
   ]
  },
  {
   "cell_type": "code",
   "execution_count": null,
   "id": "6108ebb2-5147-41aa-a8c3-6bc4b281cb39",
   "metadata": {
    "tags": []
   },
   "outputs": [],
   "source": [
    "shift = np.linspace(-5, 5, 101)\n",
    "shift_idx = np.argmin(shift**2)\n",
    "\n",
    "self_correlation = np.empty((shift.size, wavelength_AA.size))\n",
    "for i in range(shift.size):\n",
    "    self_correlation[i] = mean_filter(\n",
    "        wavelength_AA,\n",
    "        rss_filtered * np.interp(wavelength_AA, wavelength_AA+shift[i], rss_filtered),\n",
    "        wavelength_AA+shift[i], h)\n",
    "\n"
   ]
  },
  {
   "cell_type": "code",
   "execution_count": null,
   "id": "9f6c2719-25ff-4235-9234-462be1317b5b",
   "metadata": {},
   "outputs": [],
   "source": [
    "fig, axes = new_figure('cross-correlation', nrows=3, ncols=2, sharey=False,\n",
    "                       gridspec_kw={'width_ratios': [1, .02], 'hspace': 0., 'wspace': .1})\n",
    "\n",
    "ax = axes[0, 0]\n",
    "ax.set_ylabel('intensidy [arbitrary units]')\n",
    "ax.set_yscale('log')\n",
    "ax.set_ylim(.03, 30)\n",
    "\n",
    "ax.plot(wavelength_AA, normalised_rss, '-', label='rss')\n",
    "ax.plot(solar_correction.sun_wavelength + shift[shift_idx], normalised_sun, '-', label='sun')\n",
    "\n",
    "ax.legend()\n",
    "\n",
    "\n",
    "ax = axes[1, 0]\n",
    "ax.set_ylabel('wavelet filter')\n",
    "\n",
    "ax.plot(wavelength_AA, rss_filtered, '-', label='rss')\n",
    "'''\n",
    "ax.plot(wavelength_AA, rss_filtered, '-', label='rss')\n",
    "ax.plot(wavelength_AA, sun_filtered, '-', label='sun')\n",
    "#ax.plot(wavelength_AA, rss_filtered*sun_filtered, 'w:', label='product')\n",
    "ax.plot(wavelength_AA, cross_correlation[shift_idx], 'w--', label=f'shift {shift[shift_idx]}')\n",
    "'''\n",
    "ax.plot(wavelength_AA, self_correlation[shift_idx], 'w:', label=f'self {shift[shift_idx]}')\n",
    "\n",
    "ax.legend()\n",
    "\n",
    "ax = axes[2, 0]\n",
    "im, cb = colour_map(fig, ax, 'coeff', self_correlation,\n",
    "                    x=wavelength_AA, xlabel='wavelength [$\\AA$]',\n",
    "                    y=shift, ylabel='shift [$\\AA$]', cbax=axes[2, 1])\n",
    "#best = np.nanargmax(cross_correlation, axis=0)\n",
    "best = np.nansum(cross_correlation**2 * np.arange(shift.size)[:, np.newaxis], axis=0)\n",
    "best = (best / np.nansum(cross_correlation**2, axis=0)).astype(int).clip(0, shift.size-1)\n",
    "ax.plot(wavelength_AA, shift[best], color='k', alpha=.5)\n",
    "ax.set_xlim(wavelength_AA[0], wavelength_AA[-1])\n",
    "\n",
    "axes[0, 1].axis('off')\n",
    "axes[1, 1].axis('off')\n"
   ]
  },
  {
   "cell_type": "code",
   "execution_count": null,
   "id": "bfe17c79-6427-4ce2-8937-f90684d4ddc1",
   "metadata": {},
   "outputs": [],
   "source": [
    "x = np.where(np.isfinite(rss_filtered), rss_filtered, 0)\n",
    "x /= np.std(x)\n",
    "x = correlate(x, x)\n",
    "np.count_nonzero(x > 0.5*np.nanmax(x)), np.nanmax(x)"
   ]
  },
  {
   "cell_type": "code",
   "execution_count": null,
   "id": "86a5d472-c0bd-4de6-9d98-89c12a994b1c",
   "metadata": {},
   "outputs": [],
   "source": [
    "x = np.where(np.isfinite(rss_filtered), rss_filtered, 0)\n",
    "np.std(x)"
   ]
  },
  {
   "cell_type": "code",
   "execution_count": null,
   "id": "9d76578f-9fa2-4ce9-beaa-f3722e242fb2",
   "metadata": {},
   "outputs": [],
   "source": [
    "fig, axes = new_figure('scipy_cross-corr', nrows=3)\n",
    "\n",
    "x = np.where(np.isfinite(rss_filtered), rss_filtered, 0)\n",
    "ax = axes[0, 0]\n",
    "#ax.plot(correlate(x, x) / wavelength_AA.size)\n",
    "def y(x):\n",
    "    norm = (x - np.mean(x)) / np.std(x)\n",
    "    return correlate(norm, norm) / x.size\n",
    "ax.plot(y(normalised_rss), '+-')\n",
    "ax.plot(y(normalised_sun))\n",
    "ax = axes[1, 0]\n",
    "ax.plot(correlate(x, x) / wavelength_AA.size, alpha=.5)\n",
    "ax.plot(correlate(sun_filtered, sun_filtered) / wavelength_AA.size, alpha=.5)\n",
    "ax.plot(correlate(x, sun_filtered) / wavelength_AA.size)\n",
    "ax = axes[2, 0]\n",
    "ax.plot(x)\n",
    "ax.plot(sun_filtered)"
   ]
  },
  {
   "cell_type": "code",
   "execution_count": null,
   "id": "e17112b3-324c-4e08-b89c-2f707d482ed8",
   "metadata": {},
   "outputs": [],
   "source": [
    "fig, axes = new_figure('LSF')\n",
    "\n",
    "ax = axes[0, 0]\n",
    "ax.plot(shift, np.nanmean(cross_correlation, axis=1), '+-')"
   ]
  },
  {
   "cell_type": "code",
   "execution_count": null,
   "id": "c119134f-da5d-423a-92a7-3c7ab561b2c5",
   "metadata": {},
   "outputs": [],
   "source": [
    "shift"
   ]
  }
 ],
 "metadata": {
  "kernelspec": {
   "display_name": "Python 3 (ipykernel)",
   "language": "python",
   "name": "python3"
  },
  "language_info": {
   "codemirror_mode": {
    "name": "ipython",
    "version": 3
   },
   "file_extension": ".py",
   "mimetype": "text/x-python",
   "name": "python",
   "nbconvert_exporter": "python",
   "pygments_lexer": "ipython3",
   "version": "3.8.10"
  },
  "toc-autonumbering": false
 },
 "nbformat": 4,
 "nbformat_minor": 5
}
