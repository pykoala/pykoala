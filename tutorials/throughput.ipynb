{
 "cells": [
  {
   "cell_type": "code",
   "execution_count": null,
   "metadata": {},
   "outputs": [],
   "source": [
    "from pykoala.instruments.koala_ifu import koala_rss\n",
    "from matplotlib import pyplot as plt\n",
    "import numpy as np\n",
    "from pykoala import __version__\n",
    "import warnings\n",
    "import importlib\n",
    "# You may want to comment the following line\n",
    "warnings.filterwarnings(\"ignore\")\n",
    "from pykoala.corrections.throughput import ThroughputCorrection"
   ]
  },
  {
   "cell_type": "code",
   "execution_count": null,
   "metadata": {},
   "outputs": [],
   "source": [
    "flat_rss = [koala_rss(\"data/combined_skyflat_red.fits\")]\n",
    "throughput_corr = ThroughputCorrection.from_rss(flat_rss, clear_nan=True,\n",
    "                                                medfilt=100)\n",
    "\n",
    "# apply the correction to the flat exposure\n",
    "corrected_flat = throughput_corr.apply(flat_rss[0])"
   ]
  },
  {
   "cell_type": "code",
   "execution_count": null,
   "metadata": {},
   "outputs": [],
   "source": [
    "throughput_fig = throughput_corr.throughput.plot()"
   ]
  },
  {
   "cell_type": "code",
   "execution_count": null,
   "metadata": {},
   "outputs": [],
   "source": [
    "plt.figure(figsize=(15, 8))\n",
    "plt.subplot(121, title='Original')\n",
    "plt.imshow(flat_rss[0].intensity.value, interpolation='none', aspect='auto',\n",
    "           cmap='nipy_spectral',\n",
    "           vmin=np.nanpercentile(flat_rss[0].intensity, 5).value,\n",
    "           vmax=np.nanpercentile(flat_rss[0].intensity, 95).value)\n",
    "plt.colorbar()\n",
    "\n",
    "plt.subplot(122, title='Throughput corrected')\n",
    "plt.imshow(corrected_flat.intensity.value, interpolation='none', aspect='auto', cmap='nipy_spectral',\n",
    "           vmin=np.nanpercentile(flat_rss[0].intensity, 5).value,\n",
    "           vmax=np.nanpercentile(flat_rss[0].intensity, 95).value)\n",
    "plt.colorbar()"
   ]
  },
  {
   "cell_type": "markdown",
   "metadata": {},
   "source": [
    "# Use wavelength correction first"
   ]
  },
  {
   "cell_type": "code",
   "execution_count": null,
   "metadata": {},
   "outputs": [],
   "source": [
    "from pykoala.instruments.koala_ifu import koala_rss\n",
    "\n",
    "from pykoala.corrections.wavelength import SolarCrossCorrOffset\n",
    "from time import time\n",
    "from pykoala.plotting.utils import plot_fibres\n",
    "from matplotlib import pyplot as plt\n",
    "import numpy as np\n"
   ]
  },
  {
   "cell_type": "code",
   "execution_count": null,
   "metadata": {},
   "outputs": [],
   "source": [
    "solar_correction = SolarCrossCorrOffset.from_fits()\n",
    "\n",
    "solution = solar_correction.compute_shift_from_twilight(\n",
    "    flat_rss[0], keep_features_frac=0.05,\n",
    "    pix_shift_array=np.arange(-2, 2, 0.10),\n",
    "    pix_std_array=np.arange(0.1, 2, 0.10),\n",
    "    logspace=False, inspect_fibres=[400, 900])"
   ]
  },
  {
   "cell_type": "code",
   "execution_count": null,
   "metadata": {},
   "outputs": [],
   "source": [
    "rss_corrected = solar_correction.apply(flat_rss[0])"
   ]
  },
  {
   "cell_type": "code",
   "execution_count": null,
   "metadata": {},
   "outputs": [],
   "source": [
    "plt.imshow(rss_corrected.intensity.value, interpolation='none')\n"
   ]
  },
  {
   "cell_type": "code",
   "execution_count": null,
   "metadata": {},
   "outputs": [],
   "source": [
    "fig, axs = plt.subplots(ncols=2, nrows=2, constrained_layout=True, sharex=True, sharey=True,\n",
    "                        figsize=(8, 4))\n",
    "\n",
    "plot_fibres(fig, axs[0, 0], rss=flat_rss[0], data=solution['mean'][0], norm=plt.Normalize(),\n",
    "          cmap='gnuplot', cblabel=r'$\\Delta\\lambda$ (pix)')\n",
    "plot_fibres(fig, axs[0, 1], rss=flat_rss[0], data=solution['mean'][1], norm=plt.Normalize(),\n",
    "          cmap='gnuplot', cblabel=r'$\\sigma$ (pix)')\n",
    "plot_fibres(fig, axs[1, 0], rss=flat_rss[0], data=solution['best-fit'][0], norm=plt.Normalize(),\n",
    "          cmap='gnuplot', cblabel=r'$\\Delta\\lambda$ (pix)')\n",
    "plot_fibres(fig, axs[1, 1], rss=flat_rss[0], data=solution['best-fit'][1], norm=plt.Normalize(),\n",
    "          cmap='gnuplot', cblabel=r'$\\sigma$ (pix)')\n",
    "\n",
    "\n",
    "axs[0, 0].set_title(\"Mean avelength offset\")\n",
    "axs[1, 0].set_title(\"Best-fit avelength offset\")\n",
    "axs[0, 1].set_title(\"Mean LSF std\")\n",
    "axs[1, 1].set_title(\"Best-fit LSF std\")"
   ]
  },
  {
   "cell_type": "code",
   "execution_count": null,
   "metadata": {},
   "outputs": [],
   "source": [
    "throughput_corr = ThroughputCorrection.from_rss([rss_corrected], clear_nan=True,\n",
    "                                                medfilt=100)\n",
    "new_corrected_flat = throughput_corr.apply(rss_corrected)\n"
   ]
  },
  {
   "cell_type": "code",
   "execution_count": null,
   "metadata": {},
   "outputs": [],
   "source": [
    "plt.figure(figsize=(15, 8))\n",
    "plt.subplot(121, title='Original')\n",
    "plt.imshow(rss_corrected.intensity.value, interpolation='none',\n",
    "           aspect='auto', cmap='nipy_spectral',\n",
    "           vmin=np.nanpercentile(rss_corrected.intensity.value, 5),\n",
    "           vmax=np.nanpercentile(rss_corrected.intensity.value, 95))\n",
    "plt.colorbar()\n",
    "\n",
    "plt.subplot(122, title='Throughput corrected')\n",
    "plt.imshow(new_corrected_flat.intensity.value, interpolation='none',\n",
    "           aspect='auto', cmap='nipy_spectral',\n",
    "           vmin=np.nanpercentile(rss_corrected.intensity.value, 5),\n",
    "           vmax=np.nanpercentile(rss_corrected.intensity.value, 95))\n",
    "plt.colorbar()"
   ]
  },
  {
   "cell_type": "code",
   "execution_count": null,
   "metadata": {},
   "outputs": [],
   "source": [
    "throughput_fig = throughput_corr.throughput.plot()"
   ]
  },
  {
   "cell_type": "code",
   "execution_count": null,
   "metadata": {},
   "outputs": [],
   "source": [
    "new_dispersion = np.nanstd(new_corrected_flat.intensity, axis=0) / np.nanmean(new_corrected_flat.intensity, axis=0)\n",
    "old_dispersion = np.nanstd(corrected_flat.intensity, axis=0)  / np.nanmean(corrected_flat.intensity, axis=0)\n",
    "fig, axs = plt.subplots(nrows=2, figsize=(12, 8), sharex=True)\n",
    "ax = axs[0]\n",
    "ax.plot(new_corrected_flat.wavelength, new_dispersion, alpha=1, label='New')\n",
    "ax.plot(corrected_flat.wavelength, old_dispersion, alpha=0.5, label='Old')\n",
    "ax.set_ylim(0, 0.1)\n",
    "ax.legend()\n",
    "ax = axs[1]\n",
    "ax.plot(corrected_flat.wavelength, np.nanstd(new_corrected_flat.intensity, axis=0) / np.nanstd(corrected_flat.intensity, axis=0))\n",
    "ax.set_ylabel(\"STD(new) / STD(original)\")\n",
    "ax.set_ylim(0.1, 1.2)"
   ]
  }
 ],
 "metadata": {
  "kernelspec": {
   "display_name": "base",
   "language": "python",
   "name": "python3"
  },
  "language_info": {
   "codemirror_mode": {
    "name": "ipython",
    "version": 3
   },
   "file_extension": ".py",
   "mimetype": "text/x-python",
   "name": "python",
   "nbconvert_exporter": "python",
   "pygments_lexer": "ipython3",
   "version": "3.11.5"
  }
 },
 "nbformat": 4,
 "nbformat_minor": 2
}
