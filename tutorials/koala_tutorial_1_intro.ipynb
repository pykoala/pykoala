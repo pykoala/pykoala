{
 "cells": [
  {
   "cell_type": "markdown",
   "id": "dc4d591b-158b-437a-b461-4a66dbaed41d",
   "metadata": {},
   "source": [
    "# Tutorial for processing KOALA data with PyKOALA\n",
    "## 1. Intro and generic tasks"
   ]
  },
  {
   "cell_type": "markdown",
   "id": "e194d081-2ae1-4c07-9879-6ed558f35f12",
   "metadata": {},
   "source": [
    "### Import tasks"
   ]
  },
  {
   "cell_type": "code",
   "execution_count": null,
   "id": "c1993708-ac2a-41f3-b238-f87b8b5b223e",
   "metadata": {},
   "outputs": [],
   "source": [
    "# Import modules\n",
    "import numpy as np\n",
    "# PyKOALA modules\n",
    "from pykoala import __version__\n",
    "print(\"Running pyKOALA version: \", __version__)\n",
    "\n",
    "from pykoala.instruments.koala_ifu import koala_rss"
   ]
  },
  {
   "cell_type": "markdown",
   "id": "3a804cdd-83d1-4021-a35e-b96bab5aee1b",
   "metadata": {},
   "source": [
    "## Prepare the data \n",
    "Read RSS files already pre-processed with 2dFdr"
   ]
  },
  {
   "cell_type": "code",
   "execution_count": null,
   "id": "2fe6b19e-b962-460a-bfbc-05f70850a68e",
   "metadata": {},
   "outputs": [],
   "source": [
    "aaomega_arms = {'blue': 1, 'red': 2}\n",
    "aaomega_gratings = {'blue': \"580V\", 'red': \"385R\"}\n",
    "\n",
    "# # Set the folder with the data\n",
    "path_to_data = './data'\n",
    "import os\n",
    "os.system('pwd')\n",
    "\n",
    "# # Set the date for AAT data files\n",
    "date=\"27feb\"\n",
    "\n",
    "# # Choose which arm of the spectrograph is going to be used, it is best starting with the RED grating\n",
    "arm = 'red'\n",
    "\n",
    "# # If using name of the gratings as name of folder\n",
    "path_to_filename = f\"{path_to_data}/{aaomega_gratings[arm]}\"\n",
    "\n",
    "# # Check the data that we have in folder path_to_filename using task \"list_koala_fits_files_in_folder()\"\n",
    "#list_koala_fits_files_in_folder(path_to_data)"
   ]
  },
  {
   "cell_type": "markdown",
   "id": "a006f056-d33f-4706-9e80-90c11f67063d",
   "metadata": {},
   "source": [
    "## Read rss file\n",
    "\n",
    "The task koala_rss(filename) creates a KOALA `RSS` object."
   ]
  },
  {
   "cell_type": "code",
   "execution_count": null,
   "id": "4f7828df-a0e5-493a-865c-92e65e2741b6",
   "metadata": {},
   "outputs": [],
   "source": [
    "# # Set obs_number to be read\n",
    "obs_number = 28 #31-36  galaxy, 28, 29, 30 star 2, 25,26,27 star 1\n",
    "\n",
    "# # Set variable \"filename\" just with the info of the file (it does not include the path in this example)\n",
    "filename = f\"{date}{aaomega_arms[arm]}00{obs_number}red.fits\"        \n",
    "\n",
    "# run28_red = koalaRSS(filename,                         # Name of the file, it could including all full path\n",
    "#                      path = path_to_data,          # Path to the file (optional, default=None)\n",
    "#                      rss_object_name = \"run28_red\",    # Name of the rss object to be created (optional, default=None)\n",
    "#                      verbose = True,                   # Print in screen what it is happening (optional, default=False)\n",
    "#                      plot = True)                      # Plot any plot that appears in the process (optional, default=False)\n",
    "\n",
    "run28_red = koala_rss(os.path.join(path_to_data, filename))"
   ]
  },
  {
   "cell_type": "markdown",
   "id": "39dcf50f",
   "metadata": {},
   "source": [
    "## Visualize the data content of an RSS\n",
    "\n",
    "The method `plot_rss_image` allows to plot any quantity related to a given RSS"
   ]
  },
  {
   "cell_type": "code",
   "execution_count": null,
   "id": "3cfb6ba3",
   "metadata": {},
   "outputs": [],
   "source": [
    "# Plot the RSS intensity by default\n",
    "fig = run28_red.plot_rss_image()"
   ]
  },
  {
   "cell_type": "code",
   "execution_count": null,
   "id": "59d53cb3",
   "metadata": {},
   "outputs": [],
   "source": [
    "# Plot the SNR\n",
    "fig = run28_red.plot_rss_image(run28_red.snr, data_label=\"Signal-to-noise ratio\",\n",
    "                               cmap_args=dict(cmap='jet'))"
   ]
  },
  {
   "cell_type": "markdown",
   "id": "93a8d16e",
   "metadata": {},
   "source": [
    "You can also visualize the quality control mask of the RSS (or any data container)"
   ]
  },
  {
   "cell_type": "code",
   "execution_count": null,
   "id": "e071d4b3",
   "metadata": {},
   "outputs": [],
   "source": [
    "# Fill the existing mask with different criteria\n",
    "run28_red.mask.flag_pixels(~np.isfinite(run28_red.intensity), \"BAD\")\n",
    "run28_red.mask.flag_pixels(run28_red.intensity < 1, \"NEGATIVE\", \"Pixels with very little counts\")\n",
    "run28_red.mask.flag_pixels(run28_red.intensity > 1e4, \"BRIGHT\", \"Very bright pixels\")\n",
    "\n",
    "# Plot the bitmask\n",
    "fig = run28_red.plot_mask()\n",
    "print(\"Label - Integer value (2^bitmask) pairs of the current mask: \\n\", run28_red.mask.flag_map)"
   ]
  },
  {
   "cell_type": "markdown",
   "id": "c0efb93a-0cbe-4e3c-a387-e01869d30bea",
   "metadata": {},
   "source": [
    "## Check structure of the rss object"
   ]
  },
  {
   "cell_type": "code",
   "execution_count": null,
   "id": "382c594d-9e19-442d-ac46-bd4b704c70e4",
   "metadata": {},
   "outputs": [],
   "source": [
    "run28_red.wavelength  # Wavelength vector\n",
    "run28_red.intensity   # Intensity in the form run28_red.intensity[fibre_index,wavelength_index]\n",
    "run28_red.variance    # Variance in the form run28_red.variance[fibre_index,wavelength_index]\n",
    "run28_red.info        # Dictionary with general info of the rss"
   ]
  },
  {
   "cell_type": "code",
   "execution_count": null,
   "id": "17eb2b1d-ce3f-40c7-a866-49cd5d1284b0",
   "metadata": {},
   "outputs": [],
   "source": [
    "print(run28_red.wavelength)"
   ]
  },
  {
   "cell_type": "code",
   "execution_count": null,
   "id": "3d0c585b-8d73-4b4e-a026-661186104c98",
   "metadata": {},
   "outputs": [],
   "source": [
    "print(run28_red.intensity)"
   ]
  },
  {
   "cell_type": "code",
   "execution_count": null,
   "id": "2b1aba57-1926-48ab-ba34-77e422a5ccc6",
   "metadata": {},
   "outputs": [],
   "source": [
    "print(\"Name of this rss :\",run28_red.info[\"name\"])        # Name of the observation, as taken at the telescope and included in fits file\n",
    "print(\"Exposition time  :\",run28_red.info[\"exptime\"])     # Exposition time in s  \n",
    "print(\"Airmass          :\",run28_red.info[\"airmass\"])     # Airmass\n",
    "#print(run28_red.info[\"fib_ra\"])     # Absolute RA  position of fibres in sky (lists 986 values), in degrees\n",
    "#print(run28_red.info[\"fib_dec\"])    # Absolute DEC position of fibres in sky (lists 986 values), in degrees"
   ]
  },
  {
   "cell_type": "markdown",
   "id": "147c6334-95e5-44be-8096-6572974cbba7",
   "metadata": {},
   "source": [
    "## Plotting spectra"
   ]
  },
  {
   "cell_type": "markdown",
   "id": "bda01bfd-14d2-4379-b5e1-9f45878f854e",
   "metadata": {},
   "source": [
    "For plotting a spectrum, we can use task get_spectrum(data_container, fibre=fibre, r=False, **kwargs)\n",
    "\n",
    "In this example, we will plot the spectrum of the brightest fibre (the title of the plot will tell us its number), also indicating with vertical dashed lines valid_wave_min and valid_wave_max, as well as H-alpha in this star, and shading the region with the strong telluric absorption at ~7600 A."
   ]
  },
  {
   "cell_type": "code",
   "execution_count": null,
   "id": "edb00ace",
   "metadata": {},
   "outputs": [],
   "source": [
    "from pykoala.plotting.rss_plot import get_spectrum, plot_wavelength\n",
    "from pykoala.plotting.quick_plot import quick_plot"
   ]
  },
  {
   "cell_type": "code",
   "execution_count": null,
   "id": "c54a473b-ed98-444b-8dea-046126ee98d6",
   "metadata": {},
   "outputs": [],
   "source": [
    "sorted_fibres = run28_red.get_spectra_sorted()\n",
    "\n",
    "get_spectrum(run28_red,\n",
    "             fibre = sorted_fibres[-1],       # Brightest fibre\n",
    "             r = False,                                                 # The spectrum will NOT be returned\n",
    "             plot=True,                                                 # Plot the spectrum\n",
    "             axvspan = [[7575,7700]],                                   # Many options in quick_plot go in **kwargs\n",
    "             )"
   ]
  },
  {
   "cell_type": "markdown",
   "id": "2adb3a27-7136-49bb-a02a-33c6046d16fe",
   "metadata": {},
   "source": [
    "We can also plot or obtain a spectrum combining several fibres using plot_combined_spectrum(rss, list_spectra=None, median=False, r=False, **kwargs).\n",
    "\n",
    "In this example, we add (using median = False) the 10 brightest fibres, and save it in bright_spectrum"
   ]
  },
  {
   "cell_type": "code",
   "execution_count": null,
   "id": "f6257ebf-aa49-4331-8acd-5d6b3e6bd487",
   "metadata": {},
   "outputs": [],
   "source": [
    "bright_spectrum = get_spectrum(run28_red,\n",
    "                               list_fibre=sorted_fibres[-10:],  # List of fibres to be combined\n",
    "                               median=False,                                              # If median = False, we sum all flux\n",
    "                               plot = True,                                               # Plot it\n",
    "                               r=True)                                                    # The spectrum WILL be returned"
   ]
  },
  {
   "cell_type": "markdown",
   "id": "6e7c76b2-9696-43a4-849d-74eee25fc8ba",
   "metadata": {},
   "source": [
    "### Using quick_plot()\n",
    "\n",
    "The task get_spectrum() uses the generic plotting task quick_plot().\n",
    "\n",
    "This task has plenty of options. Check full info in the description of the task."
   ]
  },
  {
   "cell_type": "code",
   "execution_count": null,
   "id": "a006e54b-04a6-4703-9297-7c2a91ea8d46",
   "metadata": {},
   "outputs": [],
   "source": [
    "wr = run28_red.wavelength\n",
    "#bright_spectrum = run28_red.intensity[run28_red.koala.integrated_fibre_sorted[-1]]\n",
    "\n",
    "quick_plot(wr,                                                   # x vector (it can be a list matching the y vectors)\n",
    "          bright_spectrum,                                      # y vector (or vector list using [spec1, spec2,...]\n",
    "          ptitle=\"10 brightest fibres in run28_red combined\",   # Title of the plot\n",
    "          color = \"green\",                                      # color (or vector with colors matching y vectors)\n",
    "          xmin =6300, xmax=9200,                                # xmin and xmax: min x and max x to plot\n",
    "          ymin=0, ymax = 84000,                                 # ymin and ymax: min y and max y to plot (check extra_y = 0)\n",
    "          extra_y = 0                                           # By default, quick_plot shows 2-98 percentiles + an extra_y = 0.1\n",
    "          ) "
   ]
  },
  {
   "cell_type": "markdown",
   "id": "7dec9b80-f1e4-4c33-b70a-4527878c568a",
   "metadata": {},
   "source": [
    "### Cuts at a fixed wavelength\n",
    "\n",
    "For showing a plot in the fibre direction, we can use plot_wavelength(rss, wavelength, r = False, **kwargs)"
   ]
  },
  {
   "cell_type": "code",
   "execution_count": null,
   "id": "808bcc9a-f455-4f5a-8c98-44bfd069cc03",
   "metadata": {},
   "outputs": [],
   "source": [
    "plot_wavelength(run28_red, 500, r=False)          # If wavelength is integer and < wavelength[0], it is an index \n",
    "plot_wavelength(run28_red, 6563,                  # This plots the cut closest to 6563, it is in index 307 as says in plot title \n",
    "                r=False,\n",
    "                ymin=0, ymax=1000, extra_y=0)     # Additional plotting adjustments for quick_plot() as kwargs "
   ]
  },
  {
   "cell_type": "markdown",
   "id": "aa5ed11f-fad8-480d-9cc8-db254e2e8b45",
   "metadata": {},
   "source": [
    " ## Plotting the RSS image"
   ]
  },
  {
   "cell_type": "markdown",
   "id": "b390ecf8-5b84-47a9-905b-b9dc262a4605",
   "metadata": {},
   "source": [
    "It is possible to plot only a subregion:"
   ]
  },
  {
   "cell_type": "code",
   "execution_count": null,
   "id": "fd8ac244-ae2c-4e8e-85f6-452fbf2829e9",
   "metadata": {},
   "outputs": [],
   "source": [
    "fig = run28_red.plot_rss_image(wavelength_range=[6500, 6800], fibre_range=[400, 600],\n",
    "                               cmap_args={'norm': 'LogNorm'})"
   ]
  },
  {
   "cell_type": "markdown",
   "id": "a00a0c3a-285f-45c0-ba4c-eb6a84f76aa7",
   "metadata": {},
   "source": [
    " ## Plotting the KOALA RSS map"
   ]
  },
  {
   "cell_type": "markdown",
   "id": "ea42e6d5-164c-4c66-859b-360e51b64bfe",
   "metadata": {},
   "source": [
    "The task rss_map() plots a map using the integrated value of each fibre. Many options in task:"
   ]
  },
  {
   "cell_type": "code",
   "execution_count": null,
   "id": "27ec59c6-eeb6-4e08-9abc-05f207178b7e",
   "metadata": {},
   "outputs": [],
   "source": [
    "fig = run28_red.plot_fibres(cmap_args={'cmap': 'jet', 'norm': 'LogNorm'})"
   ]
  },
  {
   "cell_type": "markdown",
   "id": "7a21929f-f79e-4689-8c62-b5e892177328",
   "metadata": {},
   "source": [
    "# Processing RSS files  - DO NOT RUN FROM HERE !!!"
   ]
  },
  {
   "cell_type": "markdown",
   "id": "57cd7dd7-8590-4ade-977d-a472e1736515",
   "metadata": {},
   "source": [
    "RSS files for KOALA in PyKOALA can easily be processed using ONLY ONE task: process_koala_rss(). This task will perform, in order and as requested:\n",
    "\n",
    "1. Read the file using koalaRSS, creating .koala object and creating mask\n",
    "2. Applying the throughput correction (T)\n",
    "3. Correcting CCD defects (for removing some nans) (C)\n",
    "4. Small wavelength shift correction (W)\n",
    "5. Atmospheric extinction correction (X)\n",
    "6. Telluric correction (red arm) (U)\n",
    "7. Sky subtraction (several methods included) (S)\n",
    "8. Check negative sky (over-substracting sky if using self sky spectrum) (N)\n",
    "9. Emission line identification (E)\n",
    "10. Cleaning sky residuals (R)\n",
    "11. Cleaning extreme negative values (R)\n",
    "12. Cleaning bright cosmic rays not deleted by 2dFdr (R)\n",
    "13. Save your processed RSS data in fits files.\n",
    "\n",
    "The details of the processing RSS for science or calibration files are included in tutorial 3. \n",
    "\n",
    "Below we provide the info of the most important parameters. \n",
    "NOTE: As we have not derived any calibration here, only those procedures that do not need them are True, and of course the resulting RSS will not be good (mainly as we have not applied the throughput)."
   ]
  },
  {
   "cell_type": "markdown",
   "id": "a72551eb-0b71-4976-be05-45392c03ee9c",
   "metadata": {},
   "source": [
    "```python\n",
    "run28_red=process_koala_rss(rss_object_name=\"run28_red\",                          # Name of the object to be created\n",
    "                            rss=run28_red,                                        # rss object, if it has been already created\n",
    "                            #filename=filename,                                   # name of the .fits file\n",
    "                            #path = path_to_filename,                             # path to the fits file\n",
    "                            #calibration_night = calibration_night_385R,          # Object with the calibration of the night, if obtained\n",
    "                            #save_rss_to_fits_file =\"clean\",                      # save fits file adding \"clean\" at the end, e.g. \"27feb20028red_clean.fits\"\n",
    "                            apply_throughput = False,                             # (T)\n",
    "                            #throughput=throughput_2D_red,                        # Throughput correction object, included in calibration_night_385R\n",
    "                            correct_ccd_defects = True,                           # (C)\n",
    "                            fix_wavelengths = False,                              # (W)\n",
    "                            #wavelength_shift_correction = wavelength_shift_correction,   # wavelength shift correction object, included in calibration_night_385R \n",
    "                            correct_for_extinction = True,                        # (X)\n",
    "                            apply_telluric_correction=False,                      # (U)\n",
    "                            #telluric_correction = telluric_correction,           # Telluric correction object, included in calibration_night_385R\n",
    "                            sky_method = \"self\",                                  # Sky method to use, in this case using fibres from rss itself\n",
    "                            correct_negative_sky=True,                            # (N)\n",
    "                            id_el = False,                                        # (E)  \n",
    "                            big_telluric_residua_correction = False,              # (R)\n",
    "                            telluric_residua_at_6860_correction = False,          # (R)\n",
    "                            correct_extreme_negatives = True,                     # (R)\n",
    "                            percentile_min_for_extreme_negatives = 0.01,          # As it says\n",
    "                            clean_cosmics=True,                                   # (R) \n",
    "                            only_plot_cosmics_cleaned = True,                     # As it says  \n",
    "\n",
    "                            verbose_counter = False,                              # Counter does not work on Jypiter\n",
    "                            plot_final_rss=True, warnings=True, plot = True, verbose = True        # This plots and verbose everything\n",
    "                            #plot_final_rss=False, warnings=False, plot = False, verbose = False   # This does not plot or verbose (default)\n",
    "                            )\n",
    "```                            "
   ]
  },
  {
   "cell_type": "markdown",
   "id": "e97a79eb-b79a-4e80-b62d-b54e085e7626",
   "metadata": {},
   "source": [
    "# process_koala_rss() with all the options"
   ]
  },
  {
   "cell_type": "markdown",
   "id": "214461f8-91f7-4667-b1a0-4ad0201bf128",
   "metadata": {},
   "source": [
    "```python\n",
    "# Set obs_number to be read\n",
    "obs_number = 32 #31-36  galaxy He2-10\n",
    "\n",
    "# Set variable \"filename\" just with the info of the file (it does not include the path in this example)\n",
    "filename = f\"{date}{aaomega_arms[arm]}00{obs_number}red.fits\"     \n",
    "\n",
    "run32_red=process_koala_rss(rss_object_name=\"run32_red\",                          # Name of the object to be created\n",
    "                            filename=filename,                                    # name of the .fits file to use\n",
    "                            path = path_to_filename,                              # path to fits file\n",
    "                            calibration_night = calibration_night_385R,           # Object with the calibration of the night                        \n",
    "                            apply_throughput = True,                              # (T)  \n",
    "                            #throughput=throughput_2D_red,                        # Throughput object, included in calibration_night_385R\n",
    "                            correct_ccd_defects = True,                           # (C)\n",
    "                            fix_wavelengths = True,                               # (W)\n",
    "                            #wavelength_shift_correction = wavelength_shift_correction,   # wavelength shift correction object, included in calibration_night_385R \n",
    "                            correct_for_extinction = True,                        # (X)\n",
    "                            apply_telluric_correction=True,                       # (U)\n",
    "                            #telluric_correction = telluric_correction,           # Telluric correction object, included in calibration_night_385R\n",
    " \n",
    "                            sky_method = \"selffit\",                                         # (S) Using the same rss and fitting Gaussians to skylines in each fibre\n",
    "                            n_sky = 25,                                                     # Using the 25 fibres with lowest intensity...          \n",
    "                            sky_wave_min=6960,                                              # ... between 6960 ..\n",
    "                            sky_wave_max=7220,                                              # ... and 7220\n",
    "                            bright_emission_lines_to_substract_in_sky = [6584],             # List with bright emission lines to substract in sky, typically H-alpha\n",
    "                            list_of_skylines_to_fit_near_bright_emission_lines = [[6577]],  # List with lists of adjacent skylines we have to consider close to bright emission lines\n",
    "                            fix_edges = True,                                               # Use information in the rss to fix the red/blue edges in sky spectrum if needed\n",
    " \n",
    "                            correct_negative_sky = True,                  # (N) Check fibres for negative sky\n",
    "                            id_el = True,                                 # (E) Identify emission lines in combined spectrum of rss\n",
    "                            big_telluric_residua_correction = True,       # (R) # Fix residua of the big telluric absorption at ~7600 A \n",
    "                            correct_extreme_negatives = True,             # (R) Correct for extreme negatives\n",
    "                            percentile_min_for_extreme_negatives = 0.05,  # Percentile below which extreme negative will be corrected\n",
    "                            clean_cosmics = True,                         # (R) Clean cosmics\n",
    "                            max_number_of_cosmics_per_fibre = 15,         # Max number of cosmics to clean per fibre or wavelength, if more than this it does not correct anything.\n",
    "                            only_plot_cosmics_cleaned = True,             # The only plot that this task will provide, default is False, but use True for minimizing plotting\n",
    "                              \n",
    "                            verbose_counter = False,                                               # Counter does not work on Jypiter\n",
    "                            plot_final_rss=True, warnings=False, plot = True, verbose = True       # This plots and verbose everything\n",
    "                            #plot_final_rss=False, warnings=False, plot = False, verbose = False   # This does not plot or verbose (default)\n",
    "                            )\n",
    "```"
   ]
  }
 ],
 "metadata": {
  "kernelspec": {
   "display_name": "Python 3 (ipykernel)",
   "language": "python",
   "name": "python3"
  },
  "language_info": {
   "codemirror_mode": {
    "name": "ipython",
    "version": 3
   },
   "file_extension": ".py",
   "mimetype": "text/x-python",
   "name": "python",
   "nbconvert_exporter": "python",
   "pygments_lexer": "ipython3",
   "version": "3.11.5"
  }
 },
 "nbformat": 4,
 "nbformat_minor": 5
}
