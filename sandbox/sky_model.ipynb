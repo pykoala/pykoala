{
 "cells": [
  {
   "cell_type": "markdown",
   "id": "0293e361",
   "metadata": {},
   "source": [
    "# SkyModel\n",
    "\n",
    "Here we will explore different methods to characterise the sky spectrum."
   ]
  },
  {
   "cell_type": "markdown",
   "id": "b6d607f5-ccca-46c1-a304-043a64936c41",
   "metadata": {},
   "source": [
    "# 1. Initialisation\n",
    "\n",
    "## Imports"
   ]
  },
  {
   "cell_type": "code",
   "execution_count": null,
   "id": "de348001-aa80-4816-972b-ed31b3e44b1f",
   "metadata": {},
   "outputs": [],
   "source": [
    "%matplotlib ipympl\n",
    "from matplotlib import pyplot as plt\n",
    "import numpy as np"
   ]
  },
  {
   "cell_type": "code",
   "execution_count": null,
   "id": "0351b570-0d66-437f-9ac3-e24444947bd6",
   "metadata": {},
   "outputs": [],
   "source": [
    "from pykoala import __version__\n",
    "from pykoala.instruments import koala_ifu, weave\n",
    "from pykoala.corrections import sky\n",
    "print(\"pyKOALA version: \", __version__)"
   ]
  },
  {
   "cell_type": "code",
   "execution_count": null,
   "id": "c8a0240d-3202-45a8-85dd-d640e4d6c08e",
   "metadata": {},
   "outputs": [],
   "source": [
    "'''\n",
    "from astropy import stats\n",
    "from astropy import units as u\n",
    "from astropy.stats import biweight_location, biweight_scale\n",
    "from pykoala.plotting.utils import new_figure, plot_image, plot_fibres\n",
    "from matplotlib.colors import LogNorm, Normalize\n",
    "import scipy\n",
    "from pykoala.ancillary import symmetric_background\n",
    "'''\n"
   ]
  },
  {
   "cell_type": "code",
   "execution_count": null,
   "id": "091b7fcc-b92c-4d5a-a977-b84eb20f72f5",
   "metadata": {},
   "outputs": [],
   "source": [
    "%load_ext autoreload\n",
    "%autoreload 2"
   ]
  },
  {
   "cell_type": "markdown",
   "id": "290b7c49",
   "metadata": {},
   "source": [
    "## Load the science data\n",
    "This must be a Row-Stacked Spectra (RSS) file. Please choose one of the following examples"
   ]
  },
  {
   "cell_type": "code",
   "execution_count": null,
   "id": "03b75586-cf2d-4e5d-8798-38ae98c9b4fa",
   "metadata": {},
   "outputs": [],
   "source": [
    "example = 'KOALA'\n",
    "#example = 'WEAVE'"
   ]
  },
  {
   "cell_type": "markdown",
   "id": "ecfefaa0-403c-42ef-811b-89a067177e45",
   "metadata": {},
   "source": [
    "KOALA:"
   ]
  },
  {
   "cell_type": "code",
   "execution_count": null,
   "id": "e74b6548-e0cf-4d1c-9383-bd6db3c2cfdf",
   "metadata": {},
   "outputs": [],
   "source": [
    "if example == 'KOALA':\n",
    "    filename = f\"input/27feb20036red.fits\"\n",
    "    rss0 = koala_ifu.koala_rss(filename)\n",
    "    #wavelength_AA = rss0.wavelength.to_value(u.Angstrom)"
   ]
  },
  {
   "cell_type": "markdown",
   "id": "92234ead-3106-46d5-8df8-740150f37927",
   "metadata": {},
   "source": [
    "WEAVE:"
   ]
  },
  {
   "cell_type": "code",
   "execution_count": null,
   "id": "66885b26-0dfe-478d-9976-c2d3f2b9e04d",
   "metadata": {},
   "outputs": [],
   "source": [
    "if example == 'WEAVE':\n",
    "    # Old versions of the pipeline\n",
    "    #filename = \"input/weave/v3/NGC5322_OB12063/L1/single_3045973.fit\"\n",
    "    #filename = \"input/weave/v3/NGC4290_OB11113/L1/single_3039517.fit\"\n",
    "    #filename = \"input/weave/v3/WA_J024019.19+321544.10/single_3042890.fit\"\n",
    "    #filename = \"input/weave/v0.9/OB11162/single_3063947.fit\"\n",
    "    #filename = \"input/weave/v0.9/OB12709/single_3058745.fit\"\n",
    "    # Twilight (probably old pipeline)\n",
    "    #filename = \"input/weave/solar/msp_3059302.fit\" # WARNING: Doesn't conform to data model (requires tweaks)\n",
    "    # Pablo's data (probably old pipeline)\n",
    "    #filename = \"input/weave/ws2023b2-012/L1/single_3041989.fit\"\n",
    "    #filename = \"input/weave/ws2023b2-012/L1/single_3041991.fit\"\n",
    "    filename = \"input/weave/ws2023b2-012/L1/single_3041993.fit\"\n",
    "\n",
    "    # Latest version of the pipeline\n",
    "    #filename = \"input/weave/v0.91/OB11162/single_3063947.fit\"\n",
    "    #filename = \"input/weave/v0.91/OB12709/single_3058745.fit\"\n",
    "    \n",
    "    rss0 = weave.weave_rss(filename)\n",
    "    #wavelength_AA = rss0.wavelength.to_value(u.Angstrom)"
   ]
  },
  {
   "cell_type": "markdown",
   "id": "78cd6529-e090-4084-a48d-cc5e870e8f56",
   "metadata": {},
   "source": [
    "### Data summary"
   ]
  },
  {
   "cell_type": "code",
   "execution_count": null,
   "id": "09e6b80a-bb6a-4415-9f6e-1ba560a8efc8",
   "metadata": {},
   "outputs": [],
   "source": [
    "print(f\"Analysing object {rss0.info['name']} read from {filename}\")\n",
    "print('- info:')\n",
    "print(rss0.info.keys())\n",
    "print('- log:')\n",
    "rss0.history.show()\n"
   ]
  },
  {
   "cell_type": "markdown",
   "id": "5a553449-919b-4a05-9dcf-f76ea2767622",
   "metadata": {},
   "source": [
    "# 2. SkyFromObject"
   ]
  },
  {
   "cell_type": "code",
   "execution_count": null,
   "id": "faa8e12c-7e53-410e-8c22-42dd7e728244",
   "metadata": {},
   "outputs": [],
   "source": [
    "print(sky.SkyFromObject.__doc__)"
   ]
  },
  {
   "cell_type": "code",
   "execution_count": null,
   "id": "db09de12-f0ec-4aa4-ad5e-5fe7f8c5eb4e",
   "metadata": {},
   "outputs": [],
   "source": [
    "test_alternative_methods = True\n",
    "#test_alternative_methods = False\n",
    "\n",
    "def show_if(condition, fig):\n",
    "    if condition:\n",
    "        return fig\n",
    "    else:\n",
    "        return None"
   ]
  },
  {
   "cell_type": "code",
   "execution_count": null,
   "id": "efd03668-7b53-455a-a859-a86c5b5734ff",
   "metadata": {},
   "outputs": [],
   "source": [
    "help(sky.SkyFromObject.__init__)"
   ]
  },
  {
   "cell_type": "markdown",
   "id": "f281fa99-81a4-485c-b3a1-dae9a54e5445",
   "metadata": {},
   "source": [
    "## Default procedure"
   ]
  },
  {
   "cell_type": "code",
   "execution_count": null,
   "id": "3510355f-cdf4-4fcc-a0d7-39d407f945c4",
   "metadata": {},
   "outputs": [],
   "source": [
    "sky_model = sky.SkyFromObject(rss0, qc_plots={'show': not test_alternative_methods})"
   ]
  },
  {
   "cell_type": "code",
   "execution_count": null,
   "id": "fdc8a991-7da9-4c7e-a1e5-acc13e4fa236",
   "metadata": {
    "tags": []
   },
   "outputs": [],
   "source": [
    "show_if(test_alternative_methods, sky_model.qc_plots['sky_fibres'])"
   ]
  },
  {
   "cell_type": "code",
   "execution_count": null,
   "id": "cd2f7daa-4171-4f10-9c7c-0d3fe8584299",
   "metadata": {
    "tags": []
   },
   "outputs": [],
   "source": [
    "show_if(test_alternative_methods, sky_model.qc_plots['sky_model'])"
   ]
  },
  {
   "cell_type": "markdown",
   "id": "17fdc00b-849e-4cf3-bcbe-97137b052812",
   "metadata": {},
   "source": [
    "## Alternative procedures\n",
    "The default behaviour tries to read the list of sky fibres from the `info` attribute of the `DataContainer`, and estimates them in case they are not present.\n",
    "Alternatively, one may resort to other types of `BackgroundEstimator`:"
   ]
  },
  {
   "cell_type": "code",
   "execution_count": null,
   "id": "26c82b88-af7a-4686-99aa-b6639c0394c3",
   "metadata": {
    "tags": []
   },
   "outputs": [],
   "source": [
    "help(sky.BackgroundEstimator)"
   ]
  },
  {
   "cell_type": "code",
   "execution_count": null,
   "id": "01822262-4e8a-40c1-b3b7-f69b66396591",
   "metadata": {
    "tags": []
   },
   "outputs": [],
   "source": [
    "if test_alternative_methods: sky_sigma_clip = sky.SkyFromObject(rss0, bckgr_estimator='mad', sky_fibres='all', source_mask_nsigma=3, qc_plots={'show': False})"
   ]
  },
  {
   "cell_type": "code",
   "execution_count": null,
   "id": "e7f5c3f8-32ef-482e-a26f-0bc6046e01c1",
   "metadata": {
    "tags": []
   },
   "outputs": [],
   "source": [
    "show_if(test_alternative_methods, sky_sigma_clip.qc_plots.get('sky_fibres', None))"
   ]
  },
  {
   "cell_type": "code",
   "execution_count": null,
   "id": "e6d51a43-5ced-4966-89a7-091b4385865b",
   "metadata": {
    "tags": []
   },
   "outputs": [],
   "source": [
    "show_if(test_alternative_methods, sky_sigma_clip.qc_plots.get('sky_model', None))"
   ]
  },
  {
   "cell_type": "code",
   "execution_count": null,
   "id": "88b10741-a30e-4434-b8fb-9de09f5c510b",
   "metadata": {},
   "outputs": [],
   "source": [
    "if test_alternative_methods: sky_mode = sky.SkyFromObject(rss0, bckgr_estimator='mode', sky_fibres='all', qc_plots={'show': False})"
   ]
  },
  {
   "cell_type": "code",
   "execution_count": null,
   "id": "4e018d43-5670-47e8-b7bf-c5c8ea03cd5f",
   "metadata": {
    "tags": []
   },
   "outputs": [],
   "source": [
    "show_if(test_alternative_methods, sky_mode.qc_plots.get('sky_fibres', None))"
   ]
  },
  {
   "cell_type": "code",
   "execution_count": null,
   "id": "fb6ab908-f5ea-4c51-964b-02a18d56c1b0",
   "metadata": {
    "tags": []
   },
   "outputs": [],
   "source": [
    "show_if(test_alternative_methods, sky_mode.qc_plots.get('sky_model', None))"
   ]
  },
  {
   "cell_type": "markdown",
   "id": "0dee77f3-c98a-49ed-a4be-d537385176c1",
   "metadata": {},
   "source": [
    "## Single wavelength test\n",
    "\n",
    "TODO: Move this method to `SkyModel` and this plot to a new \"QC plots\" section below?"
   ]
  },
  {
   "cell_type": "code",
   "execution_count": null,
   "id": "fd0cdc3c-a124-471c-b380-81841b21ec2c",
   "metadata": {},
   "outputs": [],
   "source": [
    "help(sky_model.plot_individual_wavelength)"
   ]
  },
  {
   "cell_type": "code",
   "execution_count": null,
   "id": "c7ac39d7-9dda-4da1-86ff-1ad35fe30084",
   "metadata": {},
   "outputs": [],
   "source": [
    "#wl = 6582\n",
    "wl = 6620\n",
    "#wl = 6700\n",
    "#wl = 7718\n",
    "#wl = 8344.5\n",
    "fig = sky_model.plot_individual_wavelength(wl)\n",
    "#fig.show()"
   ]
  },
  {
   "cell_type": "markdown",
   "id": "d397765e-5ffd-42f6-97cd-6e1bbbad175d",
   "metadata": {},
   "source": [
    "# 3. TODO: SkyModel\n",
    "\n",
    "- I/O: Save sky_model and read it again\n",
    "- QC plots\n",
    "- Other methods (e.g. lines/continuum) "
   ]
  }
 ],
 "metadata": {
  "kernelspec": {
   "display_name": "venv-koala",
   "language": "python",
   "name": "venv-koala"
  },
  "language_info": {
   "codemirror_mode": {
    "name": "ipython",
    "version": 3
   },
   "file_extension": ".py",
   "mimetype": "text/x-python",
   "name": "python",
   "nbconvert_exporter": "python",
   "pygments_lexer": "ipython3",
   "version": "3.12.7"
  },
  "toc-autonumbering": false
 },
 "nbformat": 4,
 "nbformat_minor": 5
}
